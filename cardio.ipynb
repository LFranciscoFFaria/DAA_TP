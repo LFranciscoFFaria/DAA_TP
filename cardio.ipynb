{
 "cells": [
  {
   "cell_type": "markdown",
   "metadata": {},
   "source": [
    "---\n",
    "# CARREGAR DATASET\n",
    "---"
   ]
  },
  {
   "cell_type": "code",
   "execution_count": 82,
   "metadata": {},
   "outputs": [],
   "source": [
    "import numpy as np\n",
    "import sklearn as skl\n",
    "import pandas as pd\n",
    "import matplotlib.pyplot as plt\n",
    "import seaborn as sns\n",
    "\n",
    "from sklearn import preprocessing\n",
    "from sklearn.model_selection import GridSearchCV, KFold, train_test_split\n",
    "from sklearn.preprocessing import MinMaxScaler\n",
    "from sklearn import metrics\n",
    "\n",
    "import tensorflow as tf\n",
    "from keras.models import Sequential\n",
    "from keras.layers import Dense, Dropout, BatchNormalization\n",
    "from keras.wrappers.scikit_learn import KerasRegressor\n",
    "#from tensorflow.keras.models  import Sequential\n",
    "#from tensorflow.keras.layers import Dense, Dropout, BatchNormalization\n",
    "#from tensorflow.keras.wrappers.scikit_learn import KerasRegressor\n",
    "\n",
    "RANDOM_SEED = 2022"
   ]
  },
  {
   "cell_type": "code",
   "execution_count": 83,
   "metadata": {},
   "outputs": [],
   "source": [
    "df = pd.read_csv('cardio_train.csv', sep=\";\")"
   ]
  },
  {
   "cell_type": "markdown",
   "metadata": {},
   "source": [
    "---\n",
    "# EXPLORAÇÃO DE DADOS\n",
    "---"
   ]
  },
  {
   "cell_type": "markdown",
   "metadata": {
    "collapsed": false
   },
   "source": [
    "## <u>Atributos</u>"
   ]
  },
  {
   "cell_type": "code",
   "execution_count": 84,
   "metadata": {
    "collapsed": false
   },
   "outputs": [
    {
     "name": "stdout",
     "output_type": "stream",
     "text": [
      "<class 'pandas.core.frame.DataFrame'>\n",
      "RangeIndex: 70000 entries, 0 to 69999\n",
      "Data columns (total 13 columns):\n",
      " #   Column       Non-Null Count  Dtype  \n",
      "---  ------       --------------  -----  \n",
      " 0   id           70000 non-null  int64  \n",
      " 1   age          70000 non-null  int64  \n",
      " 2   gender       70000 non-null  int64  \n",
      " 3   height       70000 non-null  int64  \n",
      " 4   weight       70000 non-null  float64\n",
      " 5   ap_hi        70000 non-null  int64  \n",
      " 6   ap_lo        70000 non-null  int64  \n",
      " 7   cholesterol  70000 non-null  int64  \n",
      " 8   gluc         70000 non-null  int64  \n",
      " 9   smoke        70000 non-null  int64  \n",
      " 10  alco         70000 non-null  int64  \n",
      " 11  active       70000 non-null  int64  \n",
      " 12  cardio       70000 non-null  int64  \n",
      "dtypes: float64(1), int64(12)\n",
      "memory usage: 6.9 MB\n"
     ]
    }
   ],
   "source": [
    "# Quais são os atributos e os seus tipos, e qual a quantidade de 'missing values'\n",
    "df.info()"
   ]
  },
  {
   "cell_type": "markdown",
   "metadata": {
    "collapsed": false
   },
   "source": [
    "## <u>Tipos de valores</u>\n",
    "Esta subsecção serve para:\n",
    "- Verificar a discrepância entre a quantidade de amostras associadas às categorias de um atributo (pode levar a overfit)\n",
    "- Identificação de valores que não deveriam existir"
   ]
  },
  {
   "cell_type": "markdown",
   "metadata": {
    "collapsed": false
   },
   "source": [
    "#### Atributos categóricos\n"
   ]
  },
  {
   "cell_type": "code",
   "execution_count": 85,
   "metadata": {
    "collapsed": false
   },
   "outputs": [
    {
     "data": {
      "text/plain": [
       "1    45530\n",
       "2    24470\n",
       "Name: gender, dtype: int64"
      ]
     },
     "execution_count": 85,
     "metadata": {},
     "output_type": "execute_result"
    }
   ],
   "source": [
    "'''\n",
    "Género (deve ser binária):\n",
    "\n",
    "BIASED\n",
    "'''\n",
    "\n",
    "df['gender'].value_counts()"
   ]
  },
  {
   "cell_type": "code",
   "execution_count": 86,
   "metadata": {
    "collapsed": false
   },
   "outputs": [
    {
     "data": {
      "text/plain": [
       "1    52385\n",
       "2     9549\n",
       "3     8066\n",
       "Name: cholesterol, dtype: int64"
      ]
     },
     "execution_count": 86,
     "metadata": {},
     "output_type": "execute_result"
    }
   ],
   "source": [
    "'''\n",
    "Colesterol (deve ser ternária):\n",
    "    -> 1: normal\n",
    "    -> 2: acima do normal\n",
    "    -> 3: bem acima do normal\n",
    "\n",
    "BIASED\n",
    "'''\n",
    "df['cholesterol'].value_counts()"
   ]
  },
  {
   "cell_type": "code",
   "execution_count": 87,
   "metadata": {
    "collapsed": false
   },
   "outputs": [
    {
     "data": {
      "text/plain": [
       "1    59479\n",
       "3     5331\n",
       "2     5190\n",
       "Name: gluc, dtype: int64"
      ]
     },
     "execution_count": 87,
     "metadata": {},
     "output_type": "execute_result"
    }
   ],
   "source": [
    "'''\n",
    "Glucose (deve ser ternária):\n",
    "    -> 1: normal\n",
    "    -> 2: acima do normal\n",
    "    -> 3: bem acima do normal\n",
    "\n",
    "BIASED\n",
    "'''\n",
    "df['gluc'].value_counts()"
   ]
  },
  {
   "cell_type": "code",
   "execution_count": 88,
   "metadata": {
    "collapsed": false
   },
   "outputs": [
    {
     "data": {
      "text/plain": [
       "0    63831\n",
       "1     6169\n",
       "Name: smoke, dtype: int64"
      ]
     },
     "execution_count": 88,
     "metadata": {},
     "output_type": "execute_result"
    }
   ],
   "source": [
    "'''\n",
    "É fumador (deve ser binária):\n",
    "    -> 0: não\n",
    "    -> 1: sim\n",
    "\n",
    "BIASED\n",
    "'''\n",
    "df['smoke'].value_counts()"
   ]
  },
  {
   "cell_type": "code",
   "execution_count": 89,
   "metadata": {
    "collapsed": false
   },
   "outputs": [
    {
     "data": {
      "text/plain": [
       "0    66236\n",
       "1     3764\n",
       "Name: alco, dtype: int64"
      ]
     },
     "execution_count": 89,
     "metadata": {},
     "output_type": "execute_result"
    }
   ],
   "source": [
    "'''\n",
    "Ingere álcool (deve ser binária):\n",
    "    -> 0: não\n",
    "    -> 1: sim\n",
    "\n",
    "BIASED\n",
    "'''\n",
    "df['alco'].value_counts()"
   ]
  },
  {
   "cell_type": "code",
   "execution_count": 90,
   "metadata": {
    "collapsed": false
   },
   "outputs": [
    {
     "data": {
      "text/plain": [
       "1    56261\n",
       "0    13739\n",
       "Name: active, dtype: int64"
      ]
     },
     "execution_count": 90,
     "metadata": {},
     "output_type": "execute_result"
    }
   ],
   "source": [
    "'''\n",
    "Pratica desporto (deve ser binária):\n",
    "    -> 0: não\n",
    "    -> 1: sim\n",
    "\n",
    "BIASED\n",
    "'''\n",
    "df['active'].value_counts()"
   ]
  },
  {
   "cell_type": "code",
   "execution_count": 91,
   "metadata": {
    "collapsed": false
   },
   "outputs": [
    {
     "data": {
      "text/plain": [
       "0    35021\n",
       "1    34979\n",
       "Name: cardio, dtype: int64"
      ]
     },
     "execution_count": 91,
     "metadata": {},
     "output_type": "execute_result"
    }
   ],
   "source": [
    "'''\n",
    "Presença de doença cardio vascular [Variável objetivo] (deve ser binária):\n",
    "    -> 0: não\n",
    "    -> 1: sim\n",
    "'''\n",
    "df['cardio'].value_counts()"
   ]
  },
  {
   "cell_type": "markdown",
   "metadata": {
    "collapsed": false
   },
   "source": []
  },
  {
   "cell_type": "markdown",
   "metadata": {
    "collapsed": false
   },
   "source": [
    "#### Atributos contínuos"
   ]
  },
  {
   "cell_type": "code",
   "execution_count": 92,
   "metadata": {
    "collapsed": false
   },
   "outputs": [],
   "source": [
    "def get_outliers(frame : pd.DataFrame, column : str):\n",
    "    sorted_frame = frame.sort_values(by=column, ascending=True)\n",
    "    q1 = frame[column].quantile(0.25)\n",
    "    q3 = frame[column].quantile(0.75)\n",
    "    iqr = q3-q1\n",
    "    lim_inf = q1 - 1.5*iqr\n",
    "    lim_sup = q3 + 1.5*iqr\n",
    "    return frame.loc[(frame[column] < lim_inf) | (frame[column] > lim_sup)]\n",
    "\n",
    "def remove_outliers(frame : pd.DataFrame, column : str):\n",
    "    return frame.drop(get_outliers(frame, column))"
   ]
  },
  {
   "cell_type": "code",
   "execution_count": 93,
   "metadata": {
    "collapsed": false
   },
   "outputs": [
    {
     "name": "stdout",
     "output_type": "stream",
     "text": [
      "Nr de outliers da feature 'age': 4\n",
      "Nr de outliers da feature 'height': 519\n",
      "Nr de outliers da feature 'weight': 1819\n",
      "Nr de outliers da feature 'ap_hi': 1435\n",
      "Nr de outliers da feature 'ap_lo': 4632\n"
     ]
    }
   ],
   "source": [
    "for attr in ['age', 'height', 'weight', 'ap_hi', 'ap_lo']:\n",
    "    print(f\"Nr de outliers da feature '{attr}': {get_outliers(df,attr).shape[0]}\")"
   ]
  },
  {
   "cell_type": "code",
   "execution_count": 94,
   "metadata": {
    "collapsed": false
   },
   "outputs": [
    {
     "data": {
      "text/plain": [
       "'\\nConclusões: ...\\n\\n'"
      ]
     },
     "execution_count": 94,
     "metadata": {},
     "output_type": "execute_result"
    },
    {
     "data": {
      "image/png": "[encoded data removed]",
      "text/plain": [
       "<Figure size 1500x1200 with 6 Axes>"
      ]
     },
     "metadata": {},
     "output_type": "display_data"
    }
   ],
   "source": [
    "#Boxplots para visualização de outliers\n",
    "fig, axs = plt.subplots(3,2, figsize = (15,12))\n",
    "fig.suptitle(\"Boxplots\")\n",
    "sns.boxplot(x=df['age'], ax=axs[0,0])\n",
    "sns.boxplot(x=df['height'], ax=axs[0,1])\n",
    "sns.boxplot(x=df['weight'], ax=axs[1,0])\n",
    "sns.boxplot(x=df['ap_hi'], ax=axs[1,1])\n",
    "sns.boxplot(x=df['ap_lo'], ax=axs[2,0])\n",
    "\n",
    "'''\n",
    "Conclusões: ...\n",
    "\n",
    "'''"
   ]
  },
  {
   "cell_type": "code",
   "execution_count": 95,
   "metadata": {
    "collapsed": false
   },
   "outputs": [
    {
     "data": {
      "text/plain": [
       "<AxesSubplot:xlabel='ap_lo', ylabel='Count'>"
      ]
     },
     "execution_count": 95,
     "metadata": {},
     "output_type": "execute_result"
    },
    {
     "data": {
      "image/png": "[encoded data removed]",
      "text/plain": [
       "<Figure size 1500x1200 with 6 Axes>"
      ]
     },
     "metadata": {},
     "output_type": "display_data"
    }
   ],
   "source": [
    "fig, axs = plt.subplots(3,2, figsize = (15,12))\n",
    "fig.suptitle(\"Histograms\")\n",
    "sns.histplot(df[\"age\"], ax=axs[0,0], kde=True)\n",
    "sns.histplot(df[\"height\"], ax=axs[0,1], kde=True)\n",
    "sns.histplot(df[\"weight\"], ax=axs[1,0], kde=True)\n",
    "sns.histplot(df[\"ap_hi\"].loc[(df[\"ap_hi\"] > 0) & (df[\"ap_hi\"] < 500)], ax=axs[1,1], kde=True) # plot com apenas valores acima de 0 e abaixo de 500 para ser possível observar melhor o comportamento dos dados (mesmo com esta restricao ainda existem valores (outliers) impossiveis)\n",
    "sns.histplot(df[\"ap_lo\"].loc[(df[\"ap_lo\"] > 0) & (df[\"ap_lo\"] < 500)], ax=axs[2,0], kde=True) # plot com apenas valores  acima de 0 e abaixo de 500 para ser possível observar melhor o comportamento dos dados (mesmo com esta restricao ainda existem valores (outliers) impossiveis)"
   ]
  },
  {
   "cell_type": "markdown",
   "metadata": {
    "collapsed": false
   },
   "source": [
    "## <u>Tendência Central</u>"
   ]
  },
  {
   "cell_type": "code",
   "execution_count": 96,
   "metadata": {},
   "outputs": [
    {
     "data": {
      "text/html": [
       "<div>\n",
       "<style scoped>\n",
       "    .dataframe tbody tr th:only-of-type {\n",
       "        vertical-align: middle;\n",
       "    }\n",
       "\n",
       "    .dataframe tbody tr th {\n",
       "        vertical-align: top;\n",
       "    }\n",
       "\n",
       "    .dataframe thead th {\n",
       "        text-align: right;\n",
       "    }\n",
       "</style>\n",
       "<table border=\"1\" class=\"dataframe\">\n",
       "  <thead>\n",
       "    <tr style=\"text-align: right;\">\n",
       "      <th></th>\n",
       "      <th>id</th>\n",
       "      <th>age</th>\n",
       "      <th>gender</th>\n",
       "      <th>height</th>\n",
       "      <th>weight</th>\n",
       "      <th>ap_hi</th>\n",
       "      <th>ap_lo</th>\n",
       "      <th>cholesterol</th>\n",
       "      <th>gluc</th>\n",
       "      <th>smoke</th>\n",
       "      <th>alco</th>\n",
       "      <th>active</th>\n",
       "      <th>cardio</th>\n",
       "    </tr>\n",
       "  </thead>\n",
       "  <tbody>\n",
       "    <tr>\n",
       "      <th>count</th>\n",
       "      <td>70000.000000</td>\n",
       "      <td>70000.000000</td>\n",
       "      <td>70000.000000</td>\n",
       "      <td>70000.000000</td>\n",
       "      <td>70000.000000</td>\n",
       "      <td>70000.000000</td>\n",
       "      <td>70000.000000</td>\n",
       "      <td>70000.000000</td>\n",
       "      <td>70000.000000</td>\n",
       "      <td>70000.000000</td>\n",
       "      <td>70000.000000</td>\n",
       "      <td>70000.000000</td>\n",
       "      <td>70000.000000</td>\n",
       "    </tr>\n",
       "    <tr>\n",
       "      <th>mean</th>\n",
       "      <td>49972.419900</td>\n",
       "      <td>19468.865814</td>\n",
       "      <td>1.349571</td>\n",
       "      <td>164.359229</td>\n",
       "      <td>74.205690</td>\n",
       "      <td>128.817286</td>\n",
       "      <td>96.630414</td>\n",
       "      <td>1.366871</td>\n",
       "      <td>1.226457</td>\n",
       "      <td>0.088129</td>\n",
       "      <td>0.053771</td>\n",
       "      <td>0.803729</td>\n",
       "      <td>0.499700</td>\n",
       "    </tr>\n",
       "    <tr>\n",
       "      <th>std</th>\n",
       "      <td>28851.302323</td>\n",
       "      <td>2467.251667</td>\n",
       "      <td>0.476838</td>\n",
       "      <td>8.210126</td>\n",
       "      <td>14.395757</td>\n",
       "      <td>154.011419</td>\n",
       "      <td>188.472530</td>\n",
       "      <td>0.680250</td>\n",
       "      <td>0.572270</td>\n",
       "      <td>0.283484</td>\n",
       "      <td>0.225568</td>\n",
       "      <td>0.397179</td>\n",
       "      <td>0.500003</td>\n",
       "    </tr>\n",
       "    <tr>\n",
       "      <th>min</th>\n",
       "      <td>0.000000</td>\n",
       "      <td>10798.000000</td>\n",
       "      <td>1.000000</td>\n",
       "      <td>55.000000</td>\n",
       "      <td>10.000000</td>\n",
       "      <td>-150.000000</td>\n",
       "      <td>-70.000000</td>\n",
       "      <td>1.000000</td>\n",
       "      <td>1.000000</td>\n",
       "      <td>0.000000</td>\n",
       "      <td>0.000000</td>\n",
       "      <td>0.000000</td>\n",
       "      <td>0.000000</td>\n",
       "    </tr>\n",
       "    <tr>\n",
       "      <th>25%</th>\n",
       "      <td>25006.750000</td>\n",
       "      <td>17664.000000</td>\n",
       "      <td>1.000000</td>\n",
       "      <td>159.000000</td>\n",
       "      <td>65.000000</td>\n",
       "      <td>120.000000</td>\n",
       "      <td>80.000000</td>\n",
       "      <td>1.000000</td>\n",
       "      <td>1.000000</td>\n",
       "      <td>0.000000</td>\n",
       "      <td>0.000000</td>\n",
       "      <td>1.000000</td>\n",
       "      <td>0.000000</td>\n",
       "    </tr>\n",
       "    <tr>\n",
       "      <th>50%</th>\n",
       "      <td>50001.500000</td>\n",
       "      <td>19703.000000</td>\n",
       "      <td>1.000000</td>\n",
       "      <td>165.000000</td>\n",
       "      <td>72.000000</td>\n",
       "      <td>120.000000</td>\n",
       "      <td>80.000000</td>\n",
       "      <td>1.000000</td>\n",
       "      <td>1.000000</td>\n",
       "      <td>0.000000</td>\n",
       "      <td>0.000000</td>\n",
       "      <td>1.000000</td>\n",
       "      <td>0.000000</td>\n",
       "    </tr>\n",
       "    <tr>\n",
       "      <th>75%</th>\n",
       "      <td>74889.250000</td>\n",
       "      <td>21327.000000</td>\n",
       "      <td>2.000000</td>\n",
       "      <td>170.000000</td>\n",
       "      <td>82.000000</td>\n",
       "      <td>140.000000</td>\n",
       "      <td>90.000000</td>\n",
       "      <td>2.000000</td>\n",
       "      <td>1.000000</td>\n",
       "      <td>0.000000</td>\n",
       "      <td>0.000000</td>\n",
       "      <td>1.000000</td>\n",
       "      <td>1.000000</td>\n",
       "    </tr>\n",
       "    <tr>\n",
       "      <th>max</th>\n",
       "      <td>99999.000000</td>\n",
       "      <td>23713.000000</td>\n",
       "      <td>2.000000</td>\n",
       "      <td>250.000000</td>\n",
       "      <td>200.000000</td>\n",
       "      <td>16020.000000</td>\n",
       "      <td>11000.000000</td>\n",
       "      <td>3.000000</td>\n",
       "      <td>3.000000</td>\n",
       "      <td>1.000000</td>\n",
       "      <td>1.000000</td>\n",
       "      <td>1.000000</td>\n",
       "      <td>1.000000</td>\n",
       "    </tr>\n",
       "  </tbody>\n",
       "</table>\n",
       "</div>"
      ],
      "text/plain": [
       "                 id           age        gender        height        weight  \\\n",
       "count  70000.000000  70000.000000  70000.000000  70000.000000  70000.000000   \n",
       "mean   49972.419900  19468.865814      1.349571    164.359229     74.205690   \n",
       "std    28851.302323   2467.251667      0.476838      8.210126     14.395757   \n",
       "min        0.000000  10798.000000      1.000000     55.000000     10.000000   \n",
       "25%    25006.750000  17664.000000      1.000000    159.000000     65.000000   \n",
       "50%    50001.500000  19703.000000      1.000000    165.000000     72.000000   \n",
       "75%    74889.250000  21327.000000      2.000000    170.000000     82.000000   \n",
       "max    99999.000000  23713.000000      2.000000    250.000000    200.000000   \n",
       "\n",
       "              ap_hi         ap_lo   cholesterol          gluc         smoke  \\\n",
       "count  70000.000000  70000.000000  70000.000000  70000.000000  70000.000000   \n",
       "mean     128.817286     96.630414      1.366871      1.226457      0.088129   \n",
       "std      154.011419    188.472530      0.680250      0.572270      0.283484   \n",
       "min     -150.000000    -70.000000      1.000000      1.000000      0.000000   \n",
       "25%      120.000000     80.000000      1.000000      1.000000      0.000000   \n",
       "50%      120.000000     80.000000      1.000000      1.000000      0.000000   \n",
       "75%      140.000000     90.000000      2.000000      1.000000      0.000000   \n",
       "max    16020.000000  11000.000000      3.000000      3.000000      1.000000   \n",
       "\n",
       "               alco        active        cardio  \n",
       "count  70000.000000  70000.000000  70000.000000  \n",
       "mean       0.053771      0.803729      0.499700  \n",
       "std        0.225568      0.397179      0.500003  \n",
       "min        0.000000      0.000000      0.000000  \n",
       "25%        0.000000      1.000000      0.000000  \n",
       "50%        0.000000      1.000000      0.000000  \n",
       "75%        0.000000      1.000000      1.000000  \n",
       "max        1.000000      1.000000      1.000000  "
      ]
     },
     "execution_count": 96,
     "metadata": {},
     "output_type": "execute_result"
    }
   ],
   "source": [
    "#Média, desvio padrão, percentis, mínimo e máximo\n",
    "df.describe()"
   ]
  },
  {
   "cell_type": "code",
   "execution_count": 97,
   "metadata": {
    "collapsed": false
   },
   "outputs": [
    {
     "data": {
      "text/plain": [
       "id             50001.5\n",
       "age            19703.0\n",
       "gender             1.0\n",
       "height           165.0\n",
       "weight            72.0\n",
       "ap_hi            120.0\n",
       "ap_lo             80.0\n",
       "cholesterol        1.0\n",
       "gluc               1.0\n",
       "smoke              0.0\n",
       "alco               0.0\n",
       "active             1.0\n",
       "cardio             0.0\n",
       "dtype: float64"
      ]
     },
     "execution_count": 97,
     "metadata": {},
     "output_type": "execute_result"
    }
   ],
   "source": [
    "#Mediana\n",
    "df.median()"
   ]
  },
  {
   "cell_type": "code",
   "execution_count": 98,
   "metadata": {
    "collapsed": false
   },
   "outputs": [
    {
     "data": {
      "text/plain": [
       "id                 0.0\n",
       "age            18236.0\n",
       "gender             1.0\n",
       "height           165.0\n",
       "weight            65.0\n",
       "ap_hi            120.0\n",
       "ap_lo             80.0\n",
       "cholesterol        1.0\n",
       "gluc               1.0\n",
       "smoke              0.0\n",
       "alco               0.0\n",
       "active             1.0\n",
       "cardio             0.0\n",
       "Name: 0, dtype: float64"
      ]
     },
     "execution_count": 98,
     "metadata": {},
     "output_type": "execute_result"
    }
   ],
   "source": [
    "#Moda\n",
    "df.mode().iloc[0]"
   ]
  },
  {
   "cell_type": "code",
   "execution_count": 99,
   "metadata": {},
   "outputs": [
    {
     "name": "stdout",
     "output_type": "stream",
     "text": [
      "Skewness: \n",
      "id             -0.001278\n",
      "age            -0.307055\n",
      "gender          0.630960\n",
      "height         -0.642187\n",
      "weight          1.012070\n",
      "ap_hi          85.296214\n",
      "ap_lo          32.114083\n",
      "cholesterol     1.587123\n",
      "gluc            2.397462\n",
      "smoke           2.905867\n",
      "alco            3.956607\n",
      "active         -1.529473\n",
      "cardio          0.001200\n",
      "dtype: float64\n",
      "\n",
      "Kurtosis: \n",
      "id               -1.198374\n",
      "age              -0.823447\n",
      "gender           -1.601935\n",
      "height            7.943653\n",
      "weight            2.586825\n",
      "ap_hi          7580.074738\n",
      "ap_lo          1425.914585\n",
      "cholesterol       0.993901\n",
      "gluc              4.294377\n",
      "smoke             6.444250\n",
      "alco             13.655125\n",
      "active            0.339296\n",
      "cardio           -2.000056\n",
      "dtype: float64\n"
     ]
    }
   ],
   "source": [
    "print(f\"Skewness: \\n{df.skew()}\")\n",
    "print(f\"\\nKurtosis: \\n{df.kurt()}\")"
   ]
  },
  {
   "cell_type": "markdown",
   "metadata": {
    "collapsed": false
   },
   "source": [
    "## <u>Correlação entre atributos</u>"
   ]
  },
  {
   "cell_type": "code",
   "execution_count": 100,
   "metadata": {},
   "outputs": [
    {
     "data": {
      "text/plain": [
       "<AxesSubplot:>"
      ]
     },
     "execution_count": 100,
     "metadata": {},
     "output_type": "execute_result"
    },
    {
     "data": {
      "image/png": "[encoded data removed]",
      "text/plain": [
       "<Figure size 1200x1000 with 2 Axes>"
      ]
     },
     "metadata": {},
     "output_type": "display_data"
    }
   ],
   "source": [
    "corr_matrix = df.corr()\n",
    "f, ax = plt.subplots(figsize=(12,10))\n",
    "sns.heatmap(corr_matrix, vmin=-1, vmax=1, square=True, annot=True)"
   ]
  },
  {
   "cell_type": "markdown",
   "metadata": {},
   "source": [
    "---\n",
    "# TRATAMENTO DE DADOS\n",
    "---"
   ]
  },
  {
   "cell_type": "code",
   "execution_count": 101,
   "metadata": {
    "collapsed": false
   },
   "outputs": [
    {
     "name": "stdout",
     "output_type": "stream",
     "text": [
      "Nº de entradas duplicadas:  0\n"
     ]
    }
   ],
   "source": [
    "#Entradas duplicadas\n",
    "print(\"Nº de entradas duplicadas: \", df.duplicated().sum())"
   ]
  },
  {
   "cell_type": "markdown",
   "metadata": {
    "collapsed": false
   },
   "source": [
    "## Feature Engineering"
   ]
  },
  {
   "cell_type": "markdown",
   "metadata": {
    "collapsed": false
   },
   "source": [
    "### Conversão da idade em dias para idade em anos"
   ]
  },
  {
   "cell_type": "code",
   "execution_count": 102,
   "metadata": {
    "collapsed": false
   },
   "outputs": [],
   "source": [
    "import math\n",
    "\n",
    "def calculate_age(days):\n",
    "    return math.floor(days / 365.0)"
   ]
  },
  {
   "cell_type": "code",
   "execution_count": 103,
   "metadata": {
    "collapsed": false
   },
   "outputs": [],
   "source": [
    "df['age'] = df['age'].apply(calculate_age)"
   ]
  },
  {
   "cell_type": "markdown",
   "metadata": {
    "collapsed": false
   },
   "source": [
    "### Binning da idade"
   ]
  },
  {
   "cell_type": "code",
   "execution_count": 104,
   "metadata": {
    "collapsed": false
   },
   "outputs": [],
   "source": [
    "def bin_age(age):\n",
    "    if age < 30:\n",
    "        return 1\n",
    "    elif age < 40:\n",
    "        return 2\n",
    "    elif age < 50:\n",
    "        return 3\n",
    "    elif age < 60:\n",
    "        return 4\n",
    "    else:\n",
    "        return 5"
   ]
  },
  {
   "cell_type": "code",
   "execution_count": 105,
   "metadata": {
    "collapsed": false
   },
   "outputs": [],
   "source": [
    "df['age_binned'] = df['age'].apply(bin_age)"
   ]
  },
  {
   "cell_type": "markdown",
   "metadata": {
    "collapsed": false
   },
   "source": [
    "### Criação do atributo BMI (Indice de massa corporal)"
   ]
  },
  {
   "cell_type": "code",
   "execution_count": 106,
   "metadata": {
    "collapsed": false
   },
   "outputs": [],
   "source": [
    "# BMI = weight / height^2\n",
    "df['BMI'] = df.weight / ((df.height / 100) * (df.height / 100))"
   ]
  },
  {
   "cell_type": "markdown",
   "metadata": {
    "collapsed": false
   },
   "source": [
    "### Binning do indice de massa corporal"
   ]
  },
  {
   "cell_type": "code",
   "execution_count": 107,
   "metadata": {
    "collapsed": false
   },
   "outputs": [],
   "source": [
    "def bin_bmi(bmi):\n",
    "    if bmi < 18.5: # underweight\n",
    "        return 1\n",
    "    elif bmi < 25: # normal\n",
    "        return 2\n",
    "    elif bmi < 30: # overweight\n",
    "        return 3\n",
    "    elif bmi < 35: # obese\n",
    "        return 4\n",
    "    else:          # extremely obese\n",
    "        return 5"
   ]
  },
  {
   "cell_type": "code",
   "execution_count": 108,
   "metadata": {
    "collapsed": false
   },
   "outputs": [],
   "source": [
    "df['BMI_binned'] = df['BMI'].apply(bin_bmi)"
   ]
  },
  {
   "cell_type": "markdown",
   "metadata": {},
   "source": [
    "### Remoção de outliers"
   ]
  },
  {
   "cell_type": "code",
   "execution_count": 109,
   "metadata": {},
   "outputs": [],
   "source": [
    "# FILTRAR POR VALORES NORMAIS\n",
    "df = df.drop(df.loc[(df['height'] < 130) | (df['height'] > 210)].index)\n",
    "df = df.drop(df.loc[df['weight'] < 40].index)\n",
    "df = df.drop(df.loc[(df['ap_hi'] > 360) | (df['ap_hi'] < 30)].index)\n",
    "df = df.drop(df.loc[(df['ap_lo'] > 250) | (df['ap_lo'] < 30)].index)\n",
    "df = df.drop(df.loc[df['BMI'] > 50].index)"
   ]
  },
  {
   "cell_type": "code",
   "execution_count": 110,
   "metadata": {},
   "outputs": [
    {
     "data": {
      "text/html": [
       "<div>\n",
       "<style scoped>\n",
       "    .dataframe tbody tr th:only-of-type {\n",
       "        vertical-align: middle;\n",
       "    }\n",
       "\n",
       "    .dataframe tbody tr th {\n",
       "        vertical-align: top;\n",
       "    }\n",
       "\n",
       "    .dataframe thead th {\n",
       "        text-align: right;\n",
       "    }\n",
       "</style>\n",
       "<table border=\"1\" class=\"dataframe\">\n",
       "  <thead>\n",
       "    <tr style=\"text-align: right;\">\n",
       "      <th></th>\n",
       "      <th>id</th>\n",
       "      <th>age</th>\n",
       "      <th>gender</th>\n",
       "      <th>height</th>\n",
       "      <th>weight</th>\n",
       "      <th>ap_hi</th>\n",
       "      <th>ap_lo</th>\n",
       "      <th>cholesterol</th>\n",
       "      <th>gluc</th>\n",
       "      <th>smoke</th>\n",
       "      <th>alco</th>\n",
       "      <th>active</th>\n",
       "      <th>cardio</th>\n",
       "      <th>age_binned</th>\n",
       "      <th>BMI</th>\n",
       "      <th>BMI_binned</th>\n",
       "    </tr>\n",
       "  </thead>\n",
       "  <tbody>\n",
       "    <tr>\n",
       "      <th>0</th>\n",
       "      <td>0</td>\n",
       "      <td>50</td>\n",
       "      <td>2</td>\n",
       "      <td>168</td>\n",
       "      <td>62.0</td>\n",
       "      <td>110</td>\n",
       "      <td>80</td>\n",
       "      <td>1</td>\n",
       "      <td>1</td>\n",
       "      <td>0</td>\n",
       "      <td>0</td>\n",
       "      <td>1</td>\n",
       "      <td>0</td>\n",
       "      <td>4</td>\n",
       "      <td>21.967120</td>\n",
       "      <td>2</td>\n",
       "    </tr>\n",
       "    <tr>\n",
       "      <th>1</th>\n",
       "      <td>1</td>\n",
       "      <td>55</td>\n",
       "      <td>1</td>\n",
       "      <td>156</td>\n",
       "      <td>85.0</td>\n",
       "      <td>140</td>\n",
       "      <td>90</td>\n",
       "      <td>3</td>\n",
       "      <td>1</td>\n",
       "      <td>0</td>\n",
       "      <td>0</td>\n",
       "      <td>1</td>\n",
       "      <td>1</td>\n",
       "      <td>4</td>\n",
       "      <td>34.927679</td>\n",
       "      <td>4</td>\n",
       "    </tr>\n",
       "    <tr>\n",
       "      <th>2</th>\n",
       "      <td>2</td>\n",
       "      <td>51</td>\n",
       "      <td>1</td>\n",
       "      <td>165</td>\n",
       "      <td>64.0</td>\n",
       "      <td>130</td>\n",
       "      <td>70</td>\n",
       "      <td>3</td>\n",
       "      <td>1</td>\n",
       "      <td>0</td>\n",
       "      <td>0</td>\n",
       "      <td>0</td>\n",
       "      <td>1</td>\n",
       "      <td>4</td>\n",
       "      <td>23.507805</td>\n",
       "      <td>2</td>\n",
       "    </tr>\n",
       "    <tr>\n",
       "      <th>3</th>\n",
       "      <td>3</td>\n",
       "      <td>48</td>\n",
       "      <td>2</td>\n",
       "      <td>169</td>\n",
       "      <td>82.0</td>\n",
       "      <td>150</td>\n",
       "      <td>100</td>\n",
       "      <td>1</td>\n",
       "      <td>1</td>\n",
       "      <td>0</td>\n",
       "      <td>0</td>\n",
       "      <td>1</td>\n",
       "      <td>1</td>\n",
       "      <td>3</td>\n",
       "      <td>28.710479</td>\n",
       "      <td>3</td>\n",
       "    </tr>\n",
       "    <tr>\n",
       "      <th>4</th>\n",
       "      <td>4</td>\n",
       "      <td>47</td>\n",
       "      <td>1</td>\n",
       "      <td>156</td>\n",
       "      <td>56.0</td>\n",
       "      <td>100</td>\n",
       "      <td>60</td>\n",
       "      <td>1</td>\n",
       "      <td>1</td>\n",
       "      <td>0</td>\n",
       "      <td>0</td>\n",
       "      <td>0</td>\n",
       "      <td>0</td>\n",
       "      <td>3</td>\n",
       "      <td>23.011177</td>\n",
       "      <td>2</td>\n",
       "    </tr>\n",
       "    <tr>\n",
       "      <th>...</th>\n",
       "      <td>...</td>\n",
       "      <td>...</td>\n",
       "      <td>...</td>\n",
       "      <td>...</td>\n",
       "      <td>...</td>\n",
       "      <td>...</td>\n",
       "      <td>...</td>\n",
       "      <td>...</td>\n",
       "      <td>...</td>\n",
       "      <td>...</td>\n",
       "      <td>...</td>\n",
       "      <td>...</td>\n",
       "      <td>...</td>\n",
       "      <td>...</td>\n",
       "      <td>...</td>\n",
       "      <td>...</td>\n",
       "    </tr>\n",
       "    <tr>\n",
       "      <th>69994</th>\n",
       "      <td>99992</td>\n",
       "      <td>57</td>\n",
       "      <td>1</td>\n",
       "      <td>165</td>\n",
       "      <td>80.0</td>\n",
       "      <td>150</td>\n",
       "      <td>80</td>\n",
       "      <td>1</td>\n",
       "      <td>1</td>\n",
       "      <td>0</td>\n",
       "      <td>0</td>\n",
       "      <td>1</td>\n",
       "      <td>1</td>\n",
       "      <td>4</td>\n",
       "      <td>29.384757</td>\n",
       "      <td>3</td>\n",
       "    </tr>\n",
       "    <tr>\n",
       "      <th>69995</th>\n",
       "      <td>99993</td>\n",
       "      <td>52</td>\n",
       "      <td>2</td>\n",
       "      <td>168</td>\n",
       "      <td>76.0</td>\n",
       "      <td>120</td>\n",
       "      <td>80</td>\n",
       "      <td>1</td>\n",
       "      <td>1</td>\n",
       "      <td>1</td>\n",
       "      <td>0</td>\n",
       "      <td>1</td>\n",
       "      <td>0</td>\n",
       "      <td>4</td>\n",
       "      <td>26.927438</td>\n",
       "      <td>3</td>\n",
       "    </tr>\n",
       "    <tr>\n",
       "      <th>69997</th>\n",
       "      <td>99996</td>\n",
       "      <td>52</td>\n",
       "      <td>2</td>\n",
       "      <td>183</td>\n",
       "      <td>105.0</td>\n",
       "      <td>180</td>\n",
       "      <td>90</td>\n",
       "      <td>3</td>\n",
       "      <td>1</td>\n",
       "      <td>0</td>\n",
       "      <td>1</td>\n",
       "      <td>0</td>\n",
       "      <td>1</td>\n",
       "      <td>4</td>\n",
       "      <td>31.353579</td>\n",
       "      <td>4</td>\n",
       "    </tr>\n",
       "    <tr>\n",
       "      <th>69998</th>\n",
       "      <td>99998</td>\n",
       "      <td>61</td>\n",
       "      <td>1</td>\n",
       "      <td>163</td>\n",
       "      <td>72.0</td>\n",
       "      <td>135</td>\n",
       "      <td>80</td>\n",
       "      <td>1</td>\n",
       "      <td>2</td>\n",
       "      <td>0</td>\n",
       "      <td>0</td>\n",
       "      <td>0</td>\n",
       "      <td>1</td>\n",
       "      <td>5</td>\n",
       "      <td>27.099251</td>\n",
       "      <td>3</td>\n",
       "    </tr>\n",
       "    <tr>\n",
       "      <th>69999</th>\n",
       "      <td>99999</td>\n",
       "      <td>56</td>\n",
       "      <td>1</td>\n",
       "      <td>170</td>\n",
       "      <td>72.0</td>\n",
       "      <td>120</td>\n",
       "      <td>80</td>\n",
       "      <td>2</td>\n",
       "      <td>1</td>\n",
       "      <td>0</td>\n",
       "      <td>0</td>\n",
       "      <td>1</td>\n",
       "      <td>0</td>\n",
       "      <td>4</td>\n",
       "      <td>24.913495</td>\n",
       "      <td>2</td>\n",
       "    </tr>\n",
       "  </tbody>\n",
       "</table>\n",
       "<p>68489 rows × 16 columns</p>\n",
       "</div>"
      ],
      "text/plain": [
       "          id  age  gender  height  weight  ap_hi  ap_lo  cholesterol  gluc  \\\n",
       "0          0   50       2     168    62.0    110     80            1     1   \n",
       "1          1   55       1     156    85.0    140     90            3     1   \n",
       "2          2   51       1     165    64.0    130     70            3     1   \n",
       "3          3   48       2     169    82.0    150    100            1     1   \n",
       "4          4   47       1     156    56.0    100     60            1     1   \n",
       "...      ...  ...     ...     ...     ...    ...    ...          ...   ...   \n",
       "69994  99992   57       1     165    80.0    150     80            1     1   \n",
       "69995  99993   52       2     168    76.0    120     80            1     1   \n",
       "69997  99996   52       2     183   105.0    180     90            3     1   \n",
       "69998  99998   61       1     163    72.0    135     80            1     2   \n",
       "69999  99999   56       1     170    72.0    120     80            2     1   \n",
       "\n",
       "       smoke  alco  active  cardio  age_binned        BMI  BMI_binned  \n",
       "0          0     0       1       0           4  21.967120           2  \n",
       "1          0     0       1       1           4  34.927679           4  \n",
       "2          0     0       0       1           4  23.507805           2  \n",
       "3          0     0       1       1           3  28.710479           3  \n",
       "4          0     0       0       0           3  23.011177           2  \n",
       "...      ...   ...     ...     ...         ...        ...         ...  \n",
       "69994      0     0       1       1           4  29.384757           3  \n",
       "69995      1     0       1       0           4  26.927438           3  \n",
       "69997      0     1       0       1           4  31.353579           4  \n",
       "69998      0     0       0       1           5  27.099251           3  \n",
       "69999      0     0       1       0           4  24.913495           2  \n",
       "\n",
       "[68489 rows x 16 columns]"
      ]
     },
     "execution_count": 110,
     "metadata": {},
     "output_type": "execute_result"
    }
   ],
   "source": [
    "df"
   ]
  },
  {
   "cell_type": "code",
   "execution_count": 111,
   "metadata": {},
   "outputs": [
    {
     "name": "stdout",
     "output_type": "stream",
     "text": [
      "Skewness: \n",
      "id            -0.001038\n",
      "age           -0.303535\n",
      "gender         0.632294\n",
      "height         0.125157\n",
      "weight         0.815049\n",
      "ap_hi          0.903845\n",
      "ap_lo          0.635134\n",
      "cholesterol    1.598504\n",
      "gluc           2.407143\n",
      "smoke          2.905496\n",
      "alco           3.961547\n",
      "active        -1.526730\n",
      "cardio         0.021874\n",
      "age_binned    -0.140127\n",
      "BMI            0.988111\n",
      "BMI_binned     0.608202\n",
      "dtype: float64\n",
      "\n",
      "Kurtosis: \n",
      "id             -1.198020\n",
      "age            -0.821411\n",
      "gender         -1.600251\n",
      "height          0.161804\n",
      "weight          1.219652\n",
      "ap_hi           1.839486\n",
      "ap_lo           4.253273\n",
      "cholesterol     1.031284\n",
      "gluc            4.341492\n",
      "smoke           6.442097\n",
      "alco           13.694251\n",
      "active          0.330914\n",
      "cardio         -1.999580\n",
      "age_binned     -0.421286\n",
      "BMI             1.224128\n",
      "BMI_binned     -0.477088\n",
      "dtype: float64\n"
     ]
    }
   ],
   "source": [
    "print(f\"Skewness: \\n{df.skew()}\")\n",
    "print(f\"\\nKurtosis: \\n{df.kurt()}\")"
   ]
  },
  {
   "cell_type": "code",
   "execution_count": 112,
   "metadata": {},
   "outputs": [
    {
     "data": {
      "text/plain": [
       "<AxesSubplot:xlabel='BMI'>"
      ]
     },
     "execution_count": 112,
     "metadata": {},
     "output_type": "execute_result"
    },
    {
     "data": {
      "image/png": "[encoded data removed]",
      "text/plain": [
       "<Figure size 1500x1200 with 6 Axes>"
      ]
     },
     "metadata": {},
     "output_type": "display_data"
    }
   ],
   "source": [
    "fig, axs = plt.subplots(3,2, figsize = (15,12))\n",
    "fig.suptitle(\"Boxplots\")\n",
    "sns.boxplot(x=df['age'], ax=axs[0,0])\n",
    "sns.boxplot(x=df['height'], ax=axs[0,1])\n",
    "sns.boxplot(x=df['weight'], ax=axs[1,0])\n",
    "sns.boxplot(x=df['ap_hi'], ax=axs[1,1])\n",
    "sns.boxplot(x=df['ap_lo'], ax=axs[2,0])\n",
    "sns.boxplot(x=df['BMI'], ax=axs[2,1])"
   ]
  },
  {
   "cell_type": "markdown",
   "metadata": {},
   "source": [
    "---\n",
    "# MODELOS\n",
    "---"
   ]
  },
  {
   "cell_type": "markdown",
   "metadata": {
    "collapsed": false
   },
   "source": [
    "## Decision Tree Classifier"
   ]
  },
  {
   "cell_type": "code",
   "execution_count": 113,
   "metadata": {
    "collapsed": false
   },
   "outputs": [],
   "source": [
    "x = df.drop(['id', 'cardio', 'weight', 'height', 'BMI'], axis=1)\n",
    "y = df['cardio'].to_frame()"
   ]
  },
  {
   "cell_type": "code",
   "execution_count": 114,
   "metadata": {},
   "outputs": [
    {
     "name": "stdout",
     "output_type": "stream",
     "text": [
      "[0.72813549 0.7260914  0.7347058  0.73382976 0.71630895 0.72813549\n",
      " 0.72565338 0.73280771 0.72784348 0.73057827]\n",
      "RESULT: 0.73 accuracy with a standard deviation of 0.01\n",
      "0.7284089732555268\n"
     ]
    }
   ],
   "source": [
    "from sklearn.model_selection import cross_val_score\n",
    "from sklearn.tree import DecisionTreeClassifier\n",
    "\n",
    "\n",
    "clf = DecisionTreeClassifier(random_state=2022, criterion='gini', max_depth=10)\n",
    "scores = cross_val_score(clf, x, y, cv=10)\n",
    "print(scores)\n",
    "print('RESULT: %0.2f accuracy with a standard deviation of %0.2f' % (scores.mean(), scores.std()))\n",
    "print(scores.mean())"
   ]
  },
  {
   "cell_type": "code",
   "execution_count": 115,
   "metadata": {},
   "outputs": [
    {
     "name": "stdout",
     "output_type": "stream",
     "text": [
      "Best accuracy: 0.7322489157807335\n",
      "best_criterion: entropy\n",
      "best_max_depth: 7\n"
     ]
    }
   ],
   "source": [
    "from sklearn.model_selection import train_test_split\n",
    "\n",
    "best_accuracy = 0\n",
    "best_criterion = \"\"\n",
    "best_max_depth = 0\n",
    "\n",
    "for i in range(1,10):\n",
    "    for c in [\"gini\",\"entropy\"]:\n",
    "        clf = DecisionTreeClassifier(random_state=2022, criterion=c, max_depth=i)\n",
    "        scores = cross_val_score(clf, x, y, cv=10)\n",
    "        new_acc = scores.mean()\n",
    "        if new_acc > best_accuracy:\n",
    "            best_accuracy = new_acc\n",
    "            best_criterion = c\n",
    "            best_max_depth = i\n",
    "\n",
    "print(\"Best accuracy:\", best_accuracy)\n",
    "print(\"best_criterion:\", best_criterion)\n",
    "print(\"best_max_depth:\", best_max_depth)"
   ]
  },
  {
   "cell_type": "markdown",
   "metadata": {
    "collapsed": false
   },
   "source": [
    "## MultiLayer Perceptron Model"
   ]
  },
  {
   "cell_type": "code",
   "execution_count": 116,
   "metadata": {
    "collapsed": false
   },
   "outputs": [],
   "source": [
    "x = df.drop([\"cardio\",\"id\",\"BMI_binned\",\"age_binned\"],axis=1)\n",
    "y = df[[\"cardio\"]]\n",
    "\n",
    "scaler_x = MinMaxScaler(feature_range=(0,1)).fit(x)\n",
    "scaler_y = MinMaxScaler(feature_range=(0,1)).fit(y)\n",
    "x_scaled = pd.DataFrame(scaler_x.transform(x[x.columns]),columns=x.columns)\n",
    "y_scaled = pd.DataFrame(scaler_y.transform(y[y.columns]),columns=y.columns)"
   ]
  },
  {
   "cell_type": "code",
   "execution_count": 117,
   "metadata": {
    "collapsed": false
   },
   "outputs": [
    {
     "data": {
      "text/html": [
       "<div>\n",
       "<style scoped>\n",
       "    .dataframe tbody tr th:only-of-type {\n",
       "        vertical-align: middle;\n",
       "    }\n",
       "\n",
       "    .dataframe tbody tr th {\n",
       "        vertical-align: top;\n",
       "    }\n",
       "\n",
       "    .dataframe thead th {\n",
       "        text-align: right;\n",
       "    }\n",
       "</style>\n",
       "<table border=\"1\" class=\"dataframe\">\n",
       "  <thead>\n",
       "    <tr style=\"text-align: right;\">\n",
       "      <th></th>\n",
       "      <th>age</th>\n",
       "      <th>gender</th>\n",
       "      <th>height</th>\n",
       "      <th>weight</th>\n",
       "      <th>ap_hi</th>\n",
       "      <th>ap_lo</th>\n",
       "      <th>cholesterol</th>\n",
       "      <th>gluc</th>\n",
       "      <th>smoke</th>\n",
       "      <th>alco</th>\n",
       "      <th>active</th>\n",
       "      <th>BMI</th>\n",
       "    </tr>\n",
       "  </thead>\n",
       "  <tbody>\n",
       "    <tr>\n",
       "      <th>0</th>\n",
       "      <td>50</td>\n",
       "      <td>2</td>\n",
       "      <td>168</td>\n",
       "      <td>62.0</td>\n",
       "      <td>110</td>\n",
       "      <td>80</td>\n",
       "      <td>1</td>\n",
       "      <td>1</td>\n",
       "      <td>0</td>\n",
       "      <td>0</td>\n",
       "      <td>1</td>\n",
       "      <td>21.967120</td>\n",
       "    </tr>\n",
       "    <tr>\n",
       "      <th>1</th>\n",
       "      <td>55</td>\n",
       "      <td>1</td>\n",
       "      <td>156</td>\n",
       "      <td>85.0</td>\n",
       "      <td>140</td>\n",
       "      <td>90</td>\n",
       "      <td>3</td>\n",
       "      <td>1</td>\n",
       "      <td>0</td>\n",
       "      <td>0</td>\n",
       "      <td>1</td>\n",
       "      <td>34.927679</td>\n",
       "    </tr>\n",
       "    <tr>\n",
       "      <th>2</th>\n",
       "      <td>51</td>\n",
       "      <td>1</td>\n",
       "      <td>165</td>\n",
       "      <td>64.0</td>\n",
       "      <td>130</td>\n",
       "      <td>70</td>\n",
       "      <td>3</td>\n",
       "      <td>1</td>\n",
       "      <td>0</td>\n",
       "      <td>0</td>\n",
       "      <td>0</td>\n",
       "      <td>23.507805</td>\n",
       "    </tr>\n",
       "    <tr>\n",
       "      <th>3</th>\n",
       "      <td>48</td>\n",
       "      <td>2</td>\n",
       "      <td>169</td>\n",
       "      <td>82.0</td>\n",
       "      <td>150</td>\n",
       "      <td>100</td>\n",
       "      <td>1</td>\n",
       "      <td>1</td>\n",
       "      <td>0</td>\n",
       "      <td>0</td>\n",
       "      <td>1</td>\n",
       "      <td>28.710479</td>\n",
       "    </tr>\n",
       "    <tr>\n",
       "      <th>4</th>\n",
       "      <td>47</td>\n",
       "      <td>1</td>\n",
       "      <td>156</td>\n",
       "      <td>56.0</td>\n",
       "      <td>100</td>\n",
       "      <td>60</td>\n",
       "      <td>1</td>\n",
       "      <td>1</td>\n",
       "      <td>0</td>\n",
       "      <td>0</td>\n",
       "      <td>0</td>\n",
       "      <td>23.011177</td>\n",
       "    </tr>\n",
       "  </tbody>\n",
       "</table>\n",
       "</div>"
      ],
      "text/plain": [
       "   age  gender  height  weight  ap_hi  ap_lo  cholesterol  gluc  smoke  alco  \\\n",
       "0   50       2     168    62.0    110     80            1     1      0     0   \n",
       "1   55       1     156    85.0    140     90            3     1      0     0   \n",
       "2   51       1     165    64.0    130     70            3     1      0     0   \n",
       "3   48       2     169    82.0    150    100            1     1      0     0   \n",
       "4   47       1     156    56.0    100     60            1     1      0     0   \n",
       "\n",
       "   active        BMI  \n",
       "0       1  21.967120  \n",
       "1       1  34.927679  \n",
       "2       0  23.507805  \n",
       "3       1  28.710479  \n",
       "4       0  23.011177  "
      ]
     },
     "execution_count": 117,
     "metadata": {},
     "output_type": "execute_result"
    }
   ],
   "source": [
    "x.head()"
   ]
  },
  {
   "cell_type": "code",
   "execution_count": 118,
   "metadata": {
    "collapsed": false
   },
   "outputs": [
    {
     "data": {
      "text/html": [
       "<div>\n",
       "<style scoped>\n",
       "    .dataframe tbody tr th:only-of-type {\n",
       "        vertical-align: middle;\n",
       "    }\n",
       "\n",
       "    .dataframe tbody tr th {\n",
       "        vertical-align: top;\n",
       "    }\n",
       "\n",
       "    .dataframe thead th {\n",
       "        text-align: right;\n",
       "    }\n",
       "</style>\n",
       "<table border=\"1\" class=\"dataframe\">\n",
       "  <thead>\n",
       "    <tr style=\"text-align: right;\">\n",
       "      <th></th>\n",
       "      <th>age</th>\n",
       "      <th>gender</th>\n",
       "      <th>height</th>\n",
       "      <th>weight</th>\n",
       "      <th>ap_hi</th>\n",
       "      <th>ap_lo</th>\n",
       "      <th>cholesterol</th>\n",
       "      <th>gluc</th>\n",
       "      <th>smoke</th>\n",
       "      <th>alco</th>\n",
       "      <th>active</th>\n",
       "      <th>BMI</th>\n",
       "    </tr>\n",
       "  </thead>\n",
       "  <tbody>\n",
       "    <tr>\n",
       "      <th>0</th>\n",
       "      <td>0.600000</td>\n",
       "      <td>1.0</td>\n",
       "      <td>0.493506</td>\n",
       "      <td>0.157143</td>\n",
       "      <td>0.277778</td>\n",
       "      <td>0.3125</td>\n",
       "      <td>0.0</td>\n",
       "      <td>0.0</td>\n",
       "      <td>0.0</td>\n",
       "      <td>0.0</td>\n",
       "      <td>1.0</td>\n",
       "      <td>0.231538</td>\n",
       "    </tr>\n",
       "    <tr>\n",
       "      <th>1</th>\n",
       "      <td>0.742857</td>\n",
       "      <td>0.0</td>\n",
       "      <td>0.337662</td>\n",
       "      <td>0.321429</td>\n",
       "      <td>0.444444</td>\n",
       "      <td>0.3750</td>\n",
       "      <td>1.0</td>\n",
       "      <td>0.0</td>\n",
       "      <td>0.0</td>\n",
       "      <td>0.0</td>\n",
       "      <td>1.0</td>\n",
       "      <td>0.586824</td>\n",
       "    </tr>\n",
       "    <tr>\n",
       "      <th>2</th>\n",
       "      <td>0.628571</td>\n",
       "      <td>0.0</td>\n",
       "      <td>0.454545</td>\n",
       "      <td>0.171429</td>\n",
       "      <td>0.388889</td>\n",
       "      <td>0.2500</td>\n",
       "      <td>1.0</td>\n",
       "      <td>0.0</td>\n",
       "      <td>0.0</td>\n",
       "      <td>0.0</td>\n",
       "      <td>0.0</td>\n",
       "      <td>0.273772</td>\n",
       "    </tr>\n",
       "    <tr>\n",
       "      <th>3</th>\n",
       "      <td>0.542857</td>\n",
       "      <td>1.0</td>\n",
       "      <td>0.506494</td>\n",
       "      <td>0.300000</td>\n",
       "      <td>0.500000</td>\n",
       "      <td>0.4375</td>\n",
       "      <td>0.0</td>\n",
       "      <td>0.0</td>\n",
       "      <td>0.0</td>\n",
       "      <td>0.0</td>\n",
       "      <td>1.0</td>\n",
       "      <td>0.416393</td>\n",
       "    </tr>\n",
       "    <tr>\n",
       "      <th>4</th>\n",
       "      <td>0.514286</td>\n",
       "      <td>0.0</td>\n",
       "      <td>0.337662</td>\n",
       "      <td>0.114286</td>\n",
       "      <td>0.222222</td>\n",
       "      <td>0.1875</td>\n",
       "      <td>0.0</td>\n",
       "      <td>0.0</td>\n",
       "      <td>0.0</td>\n",
       "      <td>0.0</td>\n",
       "      <td>0.0</td>\n",
       "      <td>0.260158</td>\n",
       "    </tr>\n",
       "  </tbody>\n",
       "</table>\n",
       "</div>"
      ],
      "text/plain": [
       "        age  gender    height    weight     ap_hi   ap_lo  cholesterol  gluc  \\\n",
       "0  0.600000     1.0  0.493506  0.157143  0.277778  0.3125          0.0   0.0   \n",
       "1  0.742857     0.0  0.337662  0.321429  0.444444  0.3750          1.0   0.0   \n",
       "2  0.628571     0.0  0.454545  0.171429  0.388889  0.2500          1.0   0.0   \n",
       "3  0.542857     1.0  0.506494  0.300000  0.500000  0.4375          0.0   0.0   \n",
       "4  0.514286     0.0  0.337662  0.114286  0.222222  0.1875          0.0   0.0   \n",
       "\n",
       "   smoke  alco  active       BMI  \n",
       "0    0.0   0.0     1.0  0.231538  \n",
       "1    0.0   0.0     1.0  0.586824  \n",
       "2    0.0   0.0     0.0  0.273772  \n",
       "3    0.0   0.0     1.0  0.416393  \n",
       "4    0.0   0.0     0.0  0.260158  "
      ]
     },
     "execution_count": 118,
     "metadata": {},
     "output_type": "execute_result"
    }
   ],
   "source": [
    "x_scaled.head()"
   ]
  },
  {
   "cell_type": "code",
   "execution_count": 119,
   "metadata": {
    "collapsed": false
   },
   "outputs": [],
   "source": [
    "x_train,x_test,y_train,y_test = train_test_split(x_scaled, y_scaled, test_size=0.2, random_state=RANDOM_SEED)"
   ]
  },
  {
   "cell_type": "code",
   "execution_count": 120,
   "metadata": {
    "collapsed": false
   },
   "outputs": [],
   "source": [
    "def build_model(activation=\"relu\",learning_rate=0.01):\n",
    "    #Create a sequential\n",
    "    model = Sequential()\n",
    "    model.add(Dense(16, input_dim=12, activation=activation))\n",
    "    model.add(Dense(8, activation=activation))\n",
    "    model.add(Dense(1, activation=\"relu\"))\n",
    "\n",
    "    #Compile the model\n",
    "    #\n",
    "    model.compile(\n",
    "        loss=\"mae\",\n",
    "        optimizer = tf.optimizers.Adam(learning_rate),\n",
    "        metrics = [\"mae\",\"mse\"])\n",
    "    return model"
   ]
  },
  {
   "cell_type": "code",
   "execution_count": 121,
   "metadata": {
    "collapsed": false
   },
   "outputs": [
    {
     "name": "stdout",
     "output_type": "stream",
     "text": [
      "Model: \"sequential_2\"\n",
      "_________________________________________________________________\n",
      " Layer (type)                Output Shape              Param #   \n",
      "=================================================================\n",
      " dense_6 (Dense)             (None, 16)                208       \n",
      "                                                                 \n",
      " dense_7 (Dense)             (None, 8)                 136       \n",
      "                                                                 \n",
      " dense_8 (Dense)             (None, 1)                 9         \n",
      "                                                                 \n",
      "=================================================================\n",
      "Total params: 353\n",
      "Trainable params: 353\n",
      "Non-trainable params: 0\n",
      "_________________________________________________________________\n"
     ]
    }
   ],
   "source": [
    "model = build_model()\n",
    "model.summary()"
   ]
  },
  {
   "cell_type": "code",
   "execution_count": 122,
   "metadata": {
    "collapsed": false
   },
   "outputs": [
    {
     "name": "stdout",
     "output_type": "stream",
     "text": [
      "Model: \"sequential_2\"\n",
      "_________________________________________________________________\n",
      " Layer (type)                Output Shape              Param #   \n",
      "=================================================================\n",
      " dense_6 (Dense)             (None, 16)                208       \n",
      "                                                                 \n",
      " dense_7 (Dense)             (None, 8)                 136       \n",
      "                                                                 \n",
      " dense_8 (Dense)             (None, 1)                 9         \n",
      "                                                                 \n",
      "=================================================================\n",
      "Total params: 353\n",
      "Trainable params: 353\n",
      "Non-trainable params: 0\n",
      "_________________________________________________________________\n"
     ]
    }
   ],
   "source": [
    "model.summary()\n",
    "TUNING_DICT = {\n",
    "    \"activation\": [\"relu\", \"sigmoid\"],\n",
    "    \"learning_rate\": [0.02, 0.001]\n",
    "}"
   ]
  },
  {
   "cell_type": "code",
   "execution_count": 123,
   "metadata": {
    "collapsed": false
   },
   "outputs": [
    {
     "name": "stdout",
     "output_type": "stream",
     "text": [
      "Fitting 5 folds for each of 4 candidates, totalling 20 fits\n",
      "Epoch 1/20\n"
     ]
    },
    {
     "name": "stderr",
     "output_type": "stream",
     "text": [
      "/tmp/ipykernel_12558/1029624206.py:3: DeprecationWarning: KerasRegressor is deprecated, use Sci-Keras (https://github.com/adriangb/scikeras) instead. See https://www.adriangb.com/scikeras/stable/migration.html for help migrating.\n",
      "  model = KerasRegressor(build_fn=build_model, epochs=20,batch_size=32)\n"
     ]
    },
    {
     "name": "stdout",
     "output_type": "stream",
     "text": [
      "1096/1096 [==============================] - 4s 3ms/step - loss: 0.4960 - mae: 0.4960 - mse: 0.4959 - val_loss: 0.5002 - val_mae: 0.5002 - val_mse: 0.5002\n",
      "Epoch 2/20\n",
      "1096/1096 [==============================] - 3s 3ms/step - loss: 0.4959 - mae: 0.4959 - mse: 0.4959 - val_loss: 0.5002 - val_mae: 0.5002 - val_mse: 0.5002\n",
      "Epoch 3/20\n",
      "1096/1096 [==============================] - 3s 3ms/step - loss: 0.4959 - mae: 0.4959 - mse: 0.4959 - val_loss: 0.5002 - val_mae: 0.5002 - val_mse: 0.5002\n",
      "Epoch 4/20\n",
      "1096/1096 [==============================] - 3s 3ms/step - loss: 0.4959 - mae: 0.4959 - mse: 0.4959 - val_loss: 0.5002 - val_mae: 0.5002 - val_mse: 0.5002\n",
      "Epoch 5/20\n",
      "1096/1096 [==============================] - 3s 3ms/step - loss: 0.4959 - mae: 0.4959 - mse: 0.4959 - val_loss: 0.5002 - val_mae: 0.5002 - val_mse: 0.5002\n",
      "Epoch 6/20\n",
      "1096/1096 [==============================] - 4s 3ms/step - loss: 0.4959 - mae: 0.4959 - mse: 0.4959 - val_loss: 0.5002 - val_mae: 0.5002 - val_mse: 0.5002\n",
      "Epoch 7/20\n",
      "1096/1096 [==============================] - 3s 2ms/step - loss: 0.4959 - mae: 0.4959 - mse: 0.4959 - val_loss: 0.5002 - val_mae: 0.5002 - val_mse: 0.5002\n",
      "Epoch 8/20\n",
      "1096/1096 [==============================] - 4s 3ms/step - loss: 0.4959 - mae: 0.4959 - mse: 0.4959 - val_loss: 0.5002 - val_mae: 0.5002 - val_mse: 0.5002\n",
      "Epoch 9/20\n",
      "1096/1096 [==============================] - 3s 3ms/step - loss: 0.4959 - mae: 0.4959 - mse: 0.4959 - val_loss: 0.5002 - val_mae: 0.5002 - val_mse: 0.5002\n",
      "Epoch 10/20\n",
      "1096/1096 [==============================] - 5s 5ms/step - loss: 0.4959 - mae: 0.4959 - mse: 0.4959 - val_loss: 0.5002 - val_mae: 0.5002 - val_mse: 0.5002\n",
      "Epoch 11/20\n",
      "1096/1096 [==============================] - 4s 4ms/step - loss: 0.4959 - mae: 0.4959 - mse: 0.4959 - val_loss: 0.5002 - val_mae: 0.5002 - val_mse: 0.5002\n",
      "Epoch 12/20\n",
      "1096/1096 [==============================] - 3s 3ms/step - loss: 0.4959 - mae: 0.4959 - mse: 0.4959 - val_loss: 0.5002 - val_mae: 0.5002 - val_mse: 0.5002\n",
      "Epoch 13/20\n",
      "1096/1096 [==============================] - 3s 3ms/step - loss: 0.4959 - mae: 0.4959 - mse: 0.4959 - val_loss: 0.5002 - val_mae: 0.5002 - val_mse: 0.5002\n",
      "Epoch 14/20\n",
      "1096/1096 [==============================] - 4s 3ms/step - loss: 0.4959 - mae: 0.4959 - mse: 0.4959 - val_loss: 0.5002 - val_mae: 0.5002 - val_mse: 0.5002\n",
      "Epoch 15/20\n",
      "1096/1096 [==============================] - 3s 3ms/step - loss: 0.4959 - mae: 0.4959 - mse: 0.4959 - val_loss: 0.5002 - val_mae: 0.5002 - val_mse: 0.5002\n",
      "Epoch 16/20\n",
      "1096/1096 [==============================] - 3s 3ms/step - loss: 0.4959 - mae: 0.4959 - mse: 0.4959 - val_loss: 0.5002 - val_mae: 0.5002 - val_mse: 0.5002\n",
      "Epoch 17/20\n",
      "1096/1096 [==============================] - 4s 3ms/step - loss: 0.4959 - mae: 0.4959 - mse: 0.4959 - val_loss: 0.5002 - val_mae: 0.5002 - val_mse: 0.5002\n",
      "Epoch 18/20\n",
      "1096/1096 [==============================] - 3s 2ms/step - loss: 0.4959 - mae: 0.4959 - mse: 0.4959 - val_loss: 0.5002 - val_mae: 0.5002 - val_mse: 0.5002\n",
      "Epoch 19/20\n",
      "1096/1096 [==============================] - 3s 3ms/step - loss: 0.4959 - mae: 0.4959 - mse: 0.4959 - val_loss: 0.5002 - val_mae: 0.5002 - val_mse: 0.5002\n",
      "Epoch 20/20\n",
      "1096/1096 [==============================] - 3s 3ms/step - loss: 0.4959 - mae: 0.4959 - mse: 0.4959 - val_loss: 0.5002 - val_mae: 0.5002 - val_mse: 0.5002\n",
      "343/343 [==============================] - 1s 2ms/step\n",
      "Epoch 1/20\n",
      "1096/1096 [==============================] - 3s 3ms/step - loss: 0.3332 - mae: 0.3332 - mse: 0.2701 - val_loss: 0.3068 - val_mae: 0.3068 - val_mse: 0.2896\n",
      "Epoch 2/20\n",
      "1096/1096 [==============================] - 3s 3ms/step - loss: 0.2997 - mae: 0.2997 - mse: 0.2856 - val_loss: 0.3120 - val_mae: 0.3120 - val_mse: 0.2939\n",
      "Epoch 3/20\n",
      "1096/1096 [==============================] - 4s 4ms/step - loss: 0.2980 - mae: 0.2980 - mse: 0.2890 - val_loss: 0.2983 - val_mae: 0.2983 - val_mse: 0.2903\n",
      "Epoch 4/20\n",
      "1096/1096 [==============================] - 3s 3ms/step - loss: 0.3018 - mae: 0.3018 - mse: 0.2931 - val_loss: 0.3067 - val_mae: 0.3067 - val_mse: 0.2986\n",
      "Epoch 5/20\n",
      "1096/1096 [==============================] - 3s 3ms/step - loss: 0.2987 - mae: 0.2987 - mse: 0.2918 - val_loss: 0.3153 - val_mae: 0.3153 - val_mse: 0.3114\n",
      "Epoch 6/20\n",
      "1096/1096 [==============================] - 3s 3ms/step - loss: 0.2960 - mae: 0.2960 - mse: 0.2910 - val_loss: 0.3063 - val_mae: 0.3063 - val_mse: 0.3018\n",
      "Epoch 7/20\n",
      "1096/1096 [==============================] - 3s 3ms/step - loss: 0.3110 - mae: 0.3110 - mse: 0.3058 - val_loss: 0.4099 - val_mae: 0.4099 - val_mse: 0.3960\n",
      "Epoch 8/20\n",
      "1096/1096 [==============================] - 4s 3ms/step - loss: 0.3110 - mae: 0.3110 - mse: 0.3068 - val_loss: 0.3071 - val_mae: 0.3071 - val_mse: 0.3051\n",
      "Epoch 9/20\n",
      "1096/1096 [==============================] - 3s 3ms/step - loss: 0.2963 - mae: 0.2963 - mse: 0.2930 - val_loss: 0.2952 - val_mae: 0.2952 - val_mse: 0.2868\n",
      "Epoch 10/20\n",
      "1096/1096 [==============================] - 3s 2ms/step - loss: 0.3115 - mae: 0.3115 - mse: 0.3080 - val_loss: 0.3157 - val_mae: 0.3157 - val_mse: 0.3139\n",
      "Epoch 11/20\n",
      "1096/1096 [==============================] - 3s 3ms/step - loss: 0.3237 - mae: 0.3237 - mse: 0.3200 - val_loss: 0.2942 - val_mae: 0.2942 - val_mse: 0.2930\n",
      "Epoch 12/20\n",
      "1096/1096 [==============================] - 3s 2ms/step - loss: 0.2998 - mae: 0.2998 - mse: 0.2970 - val_loss: 0.3116 - val_mae: 0.3116 - val_mse: 0.3108\n",
      "Epoch 13/20\n",
      "1096/1096 [==============================] - 3s 3ms/step - loss: 0.3091 - mae: 0.3091 - mse: 0.3064 - val_loss: 0.2925 - val_mae: 0.2925 - val_mse: 0.2897\n",
      "Epoch 14/20\n",
      "1096/1096 [==============================] - 3s 2ms/step - loss: 0.3061 - mae: 0.3061 - mse: 0.3032 - val_loss: 0.3336 - val_mae: 0.3336 - val_mse: 0.3321\n",
      "Epoch 15/20\n",
      "1096/1096 [==============================] - 4s 3ms/step - loss: 0.2994 - mae: 0.2994 - mse: 0.2966 - val_loss: 0.4183 - val_mae: 0.4183 - val_mse: 0.3835\n",
      "Epoch 16/20\n",
      "1096/1096 [==============================] - 2s 2ms/step - loss: 0.3012 - mae: 0.3012 - mse: 0.2980 - val_loss: 0.3780 - val_mae: 0.3780 - val_mse: 0.3725\n",
      "Epoch 17/20\n",
      "1096/1096 [==============================] - 3s 3ms/step - loss: 0.3026 - mae: 0.3026 - mse: 0.3002 - val_loss: 0.2860 - val_mae: 0.2860 - val_mse: 0.2836\n",
      "Epoch 18/20\n",
      "1096/1096 [==============================] - 3s 3ms/step - loss: 0.3044 - mae: 0.3044 - mse: 0.3019 - val_loss: 0.2933 - val_mae: 0.2933 - val_mse: 0.2920\n",
      "Epoch 19/20\n",
      "1096/1096 [==============================] - 3s 3ms/step - loss: 0.2972 - mae: 0.2972 - mse: 0.2938 - val_loss: 0.2937 - val_mae: 0.2937 - val_mse: 0.2916\n",
      "Epoch 20/20\n",
      "1096/1096 [==============================] - 2s 2ms/step - loss: 0.3080 - mae: 0.3080 - mse: 0.3037 - val_loss: 0.2957 - val_mae: 0.2957 - val_mse: 0.2933\n",
      "343/343 [==============================] - 0s 1ms/step\n",
      "Epoch 1/20\n",
      "1096/1096 [==============================] - 4s 3ms/step - loss: 0.4925 - mae: 0.4925 - mse: 0.4924 - val_loss: 0.5044 - val_mae: 0.5044 - val_mse: 0.5044\n",
      "Epoch 2/20\n",
      "1096/1096 [==============================] - 2s 2ms/step - loss: 0.4924 - mae: 0.4924 - mse: 0.4924 - val_loss: 0.5044 - val_mae: 0.5044 - val_mse: 0.5044\n",
      "Epoch 3/20\n",
      "1096/1096 [==============================] - 3s 3ms/step - loss: 0.4924 - mae: 0.4924 - mse: 0.4924 - val_loss: 0.5044 - val_mae: 0.5044 - val_mse: 0.5044\n",
      "Epoch 4/20\n",
      "1096/1096 [==============================] - 3s 3ms/step - loss: 0.4924 - mae: 0.4924 - mse: 0.4924 - val_loss: 0.5044 - val_mae: 0.5044 - val_mse: 0.5044\n",
      "Epoch 5/20\n",
      "1096/1096 [==============================] - 4s 3ms/step - loss: 0.4924 - mae: 0.4924 - mse: 0.4924 - val_loss: 0.5044 - val_mae: 0.5044 - val_mse: 0.5044\n",
      "Epoch 6/20\n",
      "1096/1096 [==============================] - 3s 3ms/step - loss: 0.4924 - mae: 0.4924 - mse: 0.4924 - val_loss: 0.5044 - val_mae: 0.5044 - val_mse: 0.5044\n",
      "Epoch 7/20\n",
      "1096/1096 [==============================] - 3s 2ms/step - loss: 0.4924 - mae: 0.4924 - mse: 0.4924 - val_loss: 0.5044 - val_mae: 0.5044 - val_mse: 0.5044\n",
      "Epoch 8/20\n",
      "1096/1096 [==============================] - 2s 2ms/step - loss: 0.4924 - mae: 0.4924 - mse: 0.4924 - val_loss: 0.5044 - val_mae: 0.5044 - val_mse: 0.5044\n",
      "Epoch 9/20\n",
      "1096/1096 [==============================] - 4s 3ms/step - loss: 0.4924 - mae: 0.4924 - mse: 0.4924 - val_loss: 0.5044 - val_mae: 0.5044 - val_mse: 0.5044\n",
      "Epoch 10/20\n",
      "1096/1096 [==============================] - 3s 2ms/step - loss: 0.4924 - mae: 0.4924 - mse: 0.4924 - val_loss: 0.5044 - val_mae: 0.5044 - val_mse: 0.5044\n",
      "Epoch 11/20\n",
      "1096/1096 [==============================] - 3s 3ms/step - loss: 0.4924 - mae: 0.4924 - mse: 0.4924 - val_loss: 0.5044 - val_mae: 0.5044 - val_mse: 0.5044\n",
      "Epoch 12/20\n",
      "1096/1096 [==============================] - 3s 3ms/step - loss: 0.4924 - mae: 0.4924 - mse: 0.4924 - val_loss: 0.5044 - val_mae: 0.5044 - val_mse: 0.5044\n",
      "Epoch 13/20\n",
      "1096/1096 [==============================] - 4s 3ms/step - loss: 0.4924 - mae: 0.4924 - mse: 0.4924 - val_loss: 0.5044 - val_mae: 0.5044 - val_mse: 0.5044\n",
      "Epoch 14/20\n",
      "1096/1096 [==============================] - 3s 3ms/step - loss: 0.4924 - mae: 0.4924 - mse: 0.4924 - val_loss: 0.5044 - val_mae: 0.5044 - val_mse: 0.5044\n",
      "Epoch 15/20\n",
      "1096/1096 [==============================] - 3s 2ms/step - loss: 0.4924 - mae: 0.4924 - mse: 0.4924 - val_loss: 0.5044 - val_mae: 0.5044 - val_mse: 0.5044\n",
      "Epoch 16/20\n",
      "1096/1096 [==============================] - 3s 2ms/step - loss: 0.4924 - mae: 0.4924 - mse: 0.4924 - val_loss: 0.5044 - val_mae: 0.5044 - val_mse: 0.5044\n",
      "Epoch 17/20\n",
      "1096/1096 [==============================] - 3s 3ms/step - loss: 0.4924 - mae: 0.4924 - mse: 0.4924 - val_loss: 0.5044 - val_mae: 0.5044 - val_mse: 0.5044\n",
      "Epoch 18/20\n",
      "1096/1096 [==============================] - 3s 3ms/step - loss: 0.4924 - mae: 0.4924 - mse: 0.4924 - val_loss: 0.5044 - val_mae: 0.5044 - val_mse: 0.5044\n",
      "Epoch 19/20\n",
      "1096/1096 [==============================] - 4s 4ms/step - loss: 0.4924 - mae: 0.4924 - mse: 0.4924 - val_loss: 0.5044 - val_mae: 0.5044 - val_mse: 0.5044\n",
      "Epoch 20/20\n",
      "1096/1096 [==============================] - 3s 3ms/step - loss: 0.4924 - mae: 0.4924 - mse: 0.4924 - val_loss: 0.5044 - val_mae: 0.5044 - val_mse: 0.5044\n",
      "343/343 [==============================] - 1s 2ms/step\n",
      "Epoch 1/20\n",
      "1096/1096 [==============================] - 3s 3ms/step - loss: 0.3349 - mae: 0.3349 - mse: 0.2616 - val_loss: 0.2825 - val_mae: 0.2825 - val_mse: 0.2552\n",
      "Epoch 2/20\n",
      "1096/1096 [==============================] - 3s 3ms/step - loss: 0.3010 - mae: 0.3010 - mse: 0.2854 - val_loss: 0.2875 - val_mae: 0.2875 - val_mse: 0.2780\n",
      "Epoch 3/20\n",
      "1096/1096 [==============================] - 3s 3ms/step - loss: 0.3009 - mae: 0.3009 - mse: 0.2890 - val_loss: 0.3270 - val_mae: 0.3270 - val_mse: 0.3222\n",
      "Epoch 4/20\n",
      "1096/1096 [==============================] - 3s 2ms/step - loss: 0.2992 - mae: 0.2992 - mse: 0.2925 - val_loss: 0.2980 - val_mae: 0.2980 - val_mse: 0.2921\n",
      "Epoch 5/20\n",
      "1096/1096 [==============================] - 3s 3ms/step - loss: 0.3037 - mae: 0.3037 - mse: 0.2987 - val_loss: 0.2801 - val_mae: 0.2801 - val_mse: 0.2724\n",
      "Epoch 6/20\n",
      "1096/1096 [==============================] - 3s 2ms/step - loss: 0.2971 - mae: 0.2971 - mse: 0.2924 - val_loss: 0.2987 - val_mae: 0.2987 - val_mse: 0.2961\n",
      "Epoch 7/20\n",
      "1096/1096 [==============================] - 3s 2ms/step - loss: 0.3024 - mae: 0.3024 - mse: 0.2967 - val_loss: 0.2848 - val_mae: 0.2848 - val_mse: 0.2822\n",
      "Epoch 8/20\n",
      "1096/1096 [==============================] - 4s 3ms/step - loss: 0.3043 - mae: 0.3043 - mse: 0.2996 - val_loss: 0.3235 - val_mae: 0.3235 - val_mse: 0.3215\n",
      "Epoch 9/20\n",
      "1096/1096 [==============================] - 3s 3ms/step - loss: 0.3252 - mae: 0.3252 - mse: 0.3150 - val_loss: 0.3164 - val_mae: 0.3164 - val_mse: 0.3115\n",
      "Epoch 10/20\n",
      "1096/1096 [==============================] - 3s 3ms/step - loss: 0.2922 - mae: 0.2922 - mse: 0.2865 - val_loss: 0.2890 - val_mae: 0.2890 - val_mse: 0.2847\n",
      "Epoch 11/20\n",
      "1096/1096 [==============================] - 3s 3ms/step - loss: 0.2937 - mae: 0.2937 - mse: 0.2881 - val_loss: 0.2928 - val_mae: 0.2928 - val_mse: 0.2858\n",
      "Epoch 12/20\n",
      "1096/1096 [==============================] - 3s 3ms/step - loss: 0.2874 - mae: 0.2874 - mse: 0.2826 - val_loss: 0.2802 - val_mae: 0.2802 - val_mse: 0.2772\n",
      "Epoch 13/20\n",
      "1096/1096 [==============================] - 3s 3ms/step - loss: 0.3167 - mae: 0.3167 - mse: 0.3120 - val_loss: 0.2814 - val_mae: 0.2814 - val_mse: 0.2795\n",
      "Epoch 14/20\n",
      "1096/1096 [==============================] - 3s 3ms/step - loss: 0.2945 - mae: 0.2945 - mse: 0.2905 - val_loss: 0.2918 - val_mae: 0.2918 - val_mse: 0.2894\n",
      "Epoch 15/20\n",
      "1096/1096 [==============================] - 3s 3ms/step - loss: 0.2999 - mae: 0.2999 - mse: 0.2959 - val_loss: 0.2842 - val_mae: 0.2842 - val_mse: 0.2807\n",
      "Epoch 16/20\n",
      "1096/1096 [==============================] - 3s 2ms/step - loss: 0.2905 - mae: 0.2905 - mse: 0.2869 - val_loss: 0.2897 - val_mae: 0.2897 - val_mse: 0.2878\n",
      "Epoch 17/20\n",
      "1096/1096 [==============================] - 3s 3ms/step - loss: 0.2902 - mae: 0.2902 - mse: 0.2860 - val_loss: 0.2815 - val_mae: 0.2815 - val_mse: 0.2772\n",
      "Epoch 18/20\n",
      "1096/1096 [==============================] - 3s 3ms/step - loss: 0.2881 - mae: 0.2881 - mse: 0.2850 - val_loss: 0.2861 - val_mae: 0.2861 - val_mse: 0.2828\n",
      "Epoch 19/20\n",
      "1096/1096 [==============================] - 3s 3ms/step - loss: 0.2919 - mae: 0.2919 - mse: 0.2887 - val_loss: 0.3497 - val_mae: 0.3497 - val_mse: 0.3482\n",
      "Epoch 20/20\n",
      "1096/1096 [==============================] - 3s 3ms/step - loss: 0.2876 - mae: 0.2876 - mse: 0.2843 - val_loss: 0.2833 - val_mae: 0.2833 - val_mse: 0.2819\n",
      "343/343 [==============================] - 1s 2ms/step\n",
      "Epoch 1/20\n",
      "1096/1096 [==============================] - 3s 3ms/step - loss: 0.4951 - mae: 0.4951 - mse: 0.4951 - val_loss: 0.5012 - val_mae: 0.5012 - val_mse: 0.5012\n",
      "Epoch 2/20\n",
      "1096/1096 [==============================] - 3s 3ms/step - loss: 0.4951 - mae: 0.4951 - mse: 0.4951 - val_loss: 0.5012 - val_mae: 0.5012 - val_mse: 0.5012\n",
      "Epoch 3/20\n",
      "1096/1096 [==============================] - 3s 3ms/step - loss: 0.4951 - mae: 0.4951 - mse: 0.4951 - val_loss: 0.5012 - val_mae: 0.5012 - val_mse: 0.5012\n",
      "Epoch 4/20\n",
      "1096/1096 [==============================] - 4s 3ms/step - loss: 0.4951 - mae: 0.4951 - mse: 0.4951 - val_loss: 0.5012 - val_mae: 0.5012 - val_mse: 0.5012\n",
      "Epoch 5/20\n",
      "1096/1096 [==============================] - 3s 3ms/step - loss: 0.4951 - mae: 0.4951 - mse: 0.4951 - val_loss: 0.5012 - val_mae: 0.5012 - val_mse: 0.5012\n",
      "Epoch 6/20\n",
      "1096/1096 [==============================] - 2s 2ms/step - loss: 0.4951 - mae: 0.4951 - mse: 0.4951 - val_loss: 0.5012 - val_mae: 0.5012 - val_mse: 0.5012\n",
      "Epoch 7/20\n",
      "1096/1096 [==============================] - 3s 3ms/step - loss: 0.4951 - mae: 0.4951 - mse: 0.4951 - val_loss: 0.5012 - val_mae: 0.5012 - val_mse: 0.5012\n",
      "Epoch 8/20\n",
      "1096/1096 [==============================] - 3s 3ms/step - loss: 0.4951 - mae: 0.4951 - mse: 0.4951 - val_loss: 0.5012 - val_mae: 0.5012 - val_mse: 0.5012\n",
      "Epoch 9/20\n",
      "1096/1096 [==============================] - 3s 3ms/step - loss: 0.4951 - mae: 0.4951 - mse: 0.4951 - val_loss: 0.5012 - val_mae: 0.5012 - val_mse: 0.5012\n",
      "Epoch 10/20\n",
      "1096/1096 [==============================] - 3s 3ms/step - loss: 0.4951 - mae: 0.4951 - mse: 0.4951 - val_loss: 0.5012 - val_mae: 0.5012 - val_mse: 0.5012\n",
      "Epoch 11/20\n",
      "1096/1096 [==============================] - 2s 2ms/step - loss: 0.4951 - mae: 0.4951 - mse: 0.4951 - val_loss: 0.5012 - val_mae: 0.5012 - val_mse: 0.5012\n",
      "Epoch 12/20\n",
      "1096/1096 [==============================] - 3s 3ms/step - loss: 0.4951 - mae: 0.4951 - mse: 0.4951 - val_loss: 0.5012 - val_mae: 0.5012 - val_mse: 0.5012\n",
      "Epoch 13/20\n",
      "1096/1096 [==============================] - 3s 3ms/step - loss: 0.4951 - mae: 0.4951 - mse: 0.4951 - val_loss: 0.5012 - val_mae: 0.5012 - val_mse: 0.5012\n",
      "Epoch 14/20\n",
      "1096/1096 [==============================] - 3s 3ms/step - loss: 0.4951 - mae: 0.4951 - mse: 0.4951 - val_loss: 0.5012 - val_mae: 0.5012 - val_mse: 0.5012\n",
      "Epoch 15/20\n",
      "1096/1096 [==============================] - 3s 3ms/step - loss: 0.4951 - mae: 0.4951 - mse: 0.4951 - val_loss: 0.5012 - val_mae: 0.5012 - val_mse: 0.5012\n",
      "Epoch 16/20\n",
      "1096/1096 [==============================] - 3s 3ms/step - loss: 0.4951 - mae: 0.4951 - mse: 0.4951 - val_loss: 0.5012 - val_mae: 0.5012 - val_mse: 0.5012\n",
      "Epoch 17/20\n",
      "1096/1096 [==============================] - 2s 2ms/step - loss: 0.4951 - mae: 0.4951 - mse: 0.4951 - val_loss: 0.5012 - val_mae: 0.5012 - val_mse: 0.5012\n",
      "Epoch 18/20\n",
      "1096/1096 [==============================] - 3s 3ms/step - loss: 0.4951 - mae: 0.4951 - mse: 0.4951 - val_loss: 0.5012 - val_mae: 0.5012 - val_mse: 0.5012\n",
      "Epoch 19/20\n",
      "1096/1096 [==============================] - 3s 3ms/step - loss: 0.4951 - mae: 0.4951 - mse: 0.4951 - val_loss: 0.5012 - val_mae: 0.5012 - val_mse: 0.5012\n",
      "Epoch 20/20\n",
      "1096/1096 [==============================] - 3s 3ms/step - loss: 0.4951 - mae: 0.4951 - mse: 0.4951 - val_loss: 0.5012 - val_mae: 0.5012 - val_mse: 0.5012\n",
      "343/343 [==============================] - 1s 2ms/step\n",
      "Epoch 1/20\n",
      "1096/1096 [==============================] - 3s 3ms/step - loss: 0.4412 - mae: 0.4412 - mse: 0.3852 - val_loss: 0.3448 - val_mae: 0.3448 - val_mse: 0.2467\n",
      "Epoch 2/20\n",
      "1096/1096 [==============================] - 3s 3ms/step - loss: 0.3249 - mae: 0.3249 - mse: 0.2276 - val_loss: 0.3150 - val_mae: 0.3150 - val_mse: 0.2320\n",
      "Epoch 3/20\n",
      "1096/1096 [==============================] - 3s 2ms/step - loss: 0.3063 - mae: 0.3063 - mse: 0.2283 - val_loss: 0.3022 - val_mae: 0.3022 - val_mse: 0.2317\n",
      "Epoch 4/20\n",
      "1096/1096 [==============================] - 3s 3ms/step - loss: 0.2963 - mae: 0.2963 - mse: 0.2329 - val_loss: 0.2977 - val_mae: 0.2977 - val_mse: 0.2425\n",
      "Epoch 5/20\n",
      "1096/1096 [==============================] - 3s 2ms/step - loss: 0.2899 - mae: 0.2899 - mse: 0.2370 - val_loss: 0.2926 - val_mae: 0.2926 - val_mse: 0.2388\n",
      "Epoch 6/20\n",
      "1096/1096 [==============================] - 3s 2ms/step - loss: 0.2851 - mae: 0.2851 - mse: 0.2404 - val_loss: 0.2907 - val_mae: 0.2907 - val_mse: 0.2419\n",
      "Epoch 7/20\n",
      "1096/1096 [==============================] - 3s 3ms/step - loss: 0.2821 - mae: 0.2821 - mse: 0.2428 - val_loss: 0.2856 - val_mae: 0.2856 - val_mse: 0.2495\n",
      "Epoch 8/20\n",
      "1096/1096 [==============================] - 3s 3ms/step - loss: 0.2794 - mae: 0.2794 - mse: 0.2446 - val_loss: 0.2854 - val_mae: 0.2854 - val_mse: 0.2554\n",
      "Epoch 9/20\n",
      "1096/1096 [==============================] - 3s 3ms/step - loss: 0.2777 - mae: 0.2777 - mse: 0.2470 - val_loss: 0.2828 - val_mae: 0.2828 - val_mse: 0.2538\n",
      "Epoch 10/20\n",
      "1096/1096 [==============================] - 3s 3ms/step - loss: 0.2769 - mae: 0.2769 - mse: 0.2482 - val_loss: 0.2816 - val_mae: 0.2816 - val_mse: 0.2577\n",
      "Epoch 11/20\n",
      "1096/1096 [==============================] - 3s 3ms/step - loss: 0.2755 - mae: 0.2755 - mse: 0.2494 - val_loss: 0.2791 - val_mae: 0.2791 - val_mse: 0.2550\n",
      "Epoch 12/20\n",
      "1096/1096 [==============================] - 3s 3ms/step - loss: 0.2748 - mae: 0.2748 - mse: 0.2500 - val_loss: 0.2784 - val_mae: 0.2784 - val_mse: 0.2579\n",
      "Epoch 13/20\n",
      "1096/1096 [==============================] - 5s 4ms/step - loss: 0.2751 - mae: 0.2751 - mse: 0.2520 - val_loss: 0.2838 - val_mae: 0.2838 - val_mse: 0.2648\n",
      "Epoch 14/20\n",
      "1096/1096 [==============================] - 4s 4ms/step - loss: 0.2745 - mae: 0.2745 - mse: 0.2524 - val_loss: 0.2779 - val_mae: 0.2779 - val_mse: 0.2574\n",
      "Epoch 15/20\n",
      "1096/1096 [==============================] - 3s 3ms/step - loss: 0.2736 - mae: 0.2736 - mse: 0.2519 - val_loss: 0.2792 - val_mae: 0.2792 - val_mse: 0.2600\n",
      "Epoch 16/20\n",
      "1096/1096 [==============================] - 4s 4ms/step - loss: 0.2724 - mae: 0.2724 - mse: 0.2519 - val_loss: 0.2862 - val_mae: 0.2862 - val_mse: 0.2694\n",
      "Epoch 17/20\n",
      "1096/1096 [==============================] - 3s 3ms/step - loss: 0.2729 - mae: 0.2729 - mse: 0.2521 - val_loss: 0.2774 - val_mae: 0.2774 - val_mse: 0.2570\n",
      "Epoch 18/20\n",
      "1096/1096 [==============================] - 3s 2ms/step - loss: 0.2722 - mae: 0.2722 - mse: 0.2534 - val_loss: 0.2773 - val_mae: 0.2773 - val_mse: 0.2588\n",
      "Epoch 19/20\n",
      "1096/1096 [==============================] - 4s 3ms/step - loss: 0.2743 - mae: 0.2743 - mse: 0.2543 - val_loss: 0.2828 - val_mae: 0.2828 - val_mse: 0.2622\n",
      "Epoch 20/20\n",
      "1096/1096 [==============================] - 3s 3ms/step - loss: 0.2721 - mae: 0.2721 - mse: 0.2537 - val_loss: 0.2777 - val_mae: 0.2777 - val_mse: 0.2614\n",
      "343/343 [==============================] - 1s 2ms/step\n",
      "Epoch 1/20\n",
      "1096/1096 [==============================] - 3s 3ms/step - loss: 0.3847 - mae: 0.3847 - mse: 0.2540 - val_loss: 0.3575 - val_mae: 0.3575 - val_mse: 0.2247\n",
      "Epoch 2/20\n",
      "1096/1096 [==============================] - 3s 3ms/step - loss: 0.3346 - mae: 0.3346 - mse: 0.2262 - val_loss: 0.3268 - val_mae: 0.3268 - val_mse: 0.2329\n",
      "Epoch 3/20\n",
      "1096/1096 [==============================] - 4s 4ms/step - loss: 0.3121 - mae: 0.3121 - mse: 0.2282 - val_loss: 0.3145 - val_mae: 0.3145 - val_mse: 0.2489\n",
      "Epoch 4/20\n",
      "1096/1096 [==============================] - 3s 2ms/step - loss: 0.2971 - mae: 0.2971 - mse: 0.2317 - val_loss: 0.2965 - val_mae: 0.2965 - val_mse: 0.2443\n",
      "Epoch 5/20\n",
      "1096/1096 [==============================] - 5s 4ms/step - loss: 0.2878 - mae: 0.2878 - mse: 0.2372 - val_loss: 0.2914 - val_mae: 0.2914 - val_mse: 0.2468\n",
      "Epoch 6/20\n",
      "1096/1096 [==============================] - 3s 3ms/step - loss: 0.2830 - mae: 0.2830 - mse: 0.2408 - val_loss: 0.2921 - val_mae: 0.2921 - val_mse: 0.2454\n",
      "Epoch 7/20\n",
      "1096/1096 [==============================] - 3s 3ms/step - loss: 0.2806 - mae: 0.2806 - mse: 0.2440 - val_loss: 0.2864 - val_mae: 0.2864 - val_mse: 0.2537\n",
      "Epoch 8/20\n",
      "1096/1096 [==============================] - 4s 4ms/step - loss: 0.2786 - mae: 0.2786 - mse: 0.2465 - val_loss: 0.2844 - val_mae: 0.2844 - val_mse: 0.2560\n",
      "Epoch 9/20\n",
      "1096/1096 [==============================] - 3s 3ms/step - loss: 0.2777 - mae: 0.2777 - mse: 0.2478 - val_loss: 0.2857 - val_mae: 0.2857 - val_mse: 0.2577\n",
      "Epoch 10/20\n",
      "1096/1096 [==============================] - 3s 3ms/step - loss: 0.2770 - mae: 0.2770 - mse: 0.2491 - val_loss: 0.2835 - val_mae: 0.2835 - val_mse: 0.2584\n",
      "Epoch 11/20\n",
      "1096/1096 [==============================] - 2s 2ms/step - loss: 0.2756 - mae: 0.2756 - mse: 0.2500 - val_loss: 0.2843 - val_mae: 0.2843 - val_mse: 0.2585\n",
      "Epoch 12/20\n",
      "1096/1096 [==============================] - 3s 3ms/step - loss: 0.2759 - mae: 0.2759 - mse: 0.2509 - val_loss: 0.2859 - val_mae: 0.2859 - val_mse: 0.2555\n",
      "Epoch 13/20\n",
      "1096/1096 [==============================] - 3s 3ms/step - loss: 0.2753 - mae: 0.2753 - mse: 0.2524 - val_loss: 0.2833 - val_mae: 0.2833 - val_mse: 0.2618\n",
      "Epoch 14/20\n",
      "1096/1096 [==============================] - 3s 3ms/step - loss: 0.2744 - mae: 0.2744 - mse: 0.2523 - val_loss: 0.2835 - val_mae: 0.2835 - val_mse: 0.2645\n",
      "Epoch 15/20\n",
      "1096/1096 [==============================] - 3s 2ms/step - loss: 0.2742 - mae: 0.2742 - mse: 0.2523 - val_loss: 0.2833 - val_mae: 0.2833 - val_mse: 0.2614\n",
      "Epoch 16/20\n",
      "1096/1096 [==============================] - 5s 4ms/step - loss: 0.2737 - mae: 0.2737 - mse: 0.2529 - val_loss: 0.2858 - val_mae: 0.2858 - val_mse: 0.2600\n",
      "Epoch 17/20\n",
      "1096/1096 [==============================] - 4s 4ms/step - loss: 0.2729 - mae: 0.2729 - mse: 0.2534 - val_loss: 0.2823 - val_mae: 0.2823 - val_mse: 0.2655\n",
      "Epoch 18/20\n",
      "1096/1096 [==============================] - 4s 4ms/step - loss: 0.2737 - mae: 0.2737 - mse: 0.2534 - val_loss: 0.2823 - val_mae: 0.2823 - val_mse: 0.2614\n",
      "Epoch 19/20\n",
      "1096/1096 [==============================] - 4s 4ms/step - loss: 0.2734 - mae: 0.2734 - mse: 0.2546 - val_loss: 0.2825 - val_mae: 0.2825 - val_mse: 0.2591\n",
      "Epoch 20/20\n",
      "1096/1096 [==============================] - 3s 3ms/step - loss: 0.2740 - mae: 0.2740 - mse: 0.2554 - val_loss: 0.2851 - val_mae: 0.2851 - val_mse: 0.2615\n",
      "343/343 [==============================] - 1s 2ms/step\n",
      "Epoch 1/20\n",
      "1096/1096 [==============================] - 4s 3ms/step - loss: 0.3745 - mae: 0.3745 - mse: 0.2322 - val_loss: 0.3469 - val_mae: 0.3469 - val_mse: 0.2232\n",
      "Epoch 2/20\n",
      "1096/1096 [==============================] - 3s 3ms/step - loss: 0.3358 - mae: 0.3358 - mse: 0.2291 - val_loss: 0.3322 - val_mae: 0.3322 - val_mse: 0.2384\n",
      "Epoch 3/20\n",
      "1096/1096 [==============================] - 3s 3ms/step - loss: 0.3206 - mae: 0.3206 - mse: 0.2301 - val_loss: 0.3161 - val_mae: 0.3161 - val_mse: 0.2303\n",
      "Epoch 4/20\n",
      "1096/1096 [==============================] - 3s 2ms/step - loss: 0.3056 - mae: 0.3056 - mse: 0.2297 - val_loss: 0.3055 - val_mae: 0.3055 - val_mse: 0.2319\n",
      "Epoch 5/20\n",
      "1096/1096 [==============================] - 3s 3ms/step - loss: 0.2942 - mae: 0.2942 - mse: 0.2324 - val_loss: 0.2935 - val_mae: 0.2935 - val_mse: 0.2322\n",
      "Epoch 6/20\n",
      "1096/1096 [==============================] - 3s 2ms/step - loss: 0.2851 - mae: 0.2851 - mse: 0.2357 - val_loss: 0.2849 - val_mae: 0.2849 - val_mse: 0.2411\n",
      "Epoch 7/20\n",
      "1096/1096 [==============================] - 3s 3ms/step - loss: 0.2798 - mae: 0.2798 - mse: 0.2405 - val_loss: 0.2815 - val_mae: 0.2815 - val_mse: 0.2486\n",
      "Epoch 8/20\n",
      "1096/1096 [==============================] - 3s 3ms/step - loss: 0.2782 - mae: 0.2782 - mse: 0.2459 - val_loss: 0.2865 - val_mae: 0.2865 - val_mse: 0.2613\n",
      "Epoch 9/20\n",
      "1096/1096 [==============================] - 4s 3ms/step - loss: 0.2752 - mae: 0.2752 - mse: 0.2468 - val_loss: 0.2827 - val_mae: 0.2827 - val_mse: 0.2579\n",
      "Epoch 10/20\n",
      "1096/1096 [==============================] - 3s 2ms/step - loss: 0.2751 - mae: 0.2751 - mse: 0.2491 - val_loss: 0.2792 - val_mae: 0.2792 - val_mse: 0.2549\n",
      "Epoch 11/20\n",
      "1096/1096 [==============================] - 4s 3ms/step - loss: 0.2741 - mae: 0.2741 - mse: 0.2496 - val_loss: 0.2777 - val_mae: 0.2777 - val_mse: 0.2525\n",
      "Epoch 12/20\n",
      "1096/1096 [==============================] - 3s 2ms/step - loss: 0.2740 - mae: 0.2740 - mse: 0.2518 - val_loss: 0.2793 - val_mae: 0.2793 - val_mse: 0.2537\n",
      "Epoch 13/20\n",
      "1096/1096 [==============================] - 4s 3ms/step - loss: 0.2731 - mae: 0.2731 - mse: 0.2523 - val_loss: 0.2792 - val_mae: 0.2792 - val_mse: 0.2597\n",
      "Epoch 14/20\n",
      "1096/1096 [==============================] - 3s 2ms/step - loss: 0.2722 - mae: 0.2722 - mse: 0.2524 - val_loss: 0.2787 - val_mae: 0.2787 - val_mse: 0.2600\n",
      "Epoch 15/20\n",
      "1096/1096 [==============================] - 3s 3ms/step - loss: 0.2727 - mae: 0.2727 - mse: 0.2546 - val_loss: 0.2796 - val_mae: 0.2796 - val_mse: 0.2620\n",
      "Epoch 16/20\n",
      "1096/1096 [==============================] - 3s 3ms/step - loss: 0.2724 - mae: 0.2724 - mse: 0.2544 - val_loss: 0.2838 - val_mae: 0.2838 - val_mse: 0.2669\n",
      "Epoch 17/20\n",
      "1096/1096 [==============================] - 4s 3ms/step - loss: 0.2723 - mae: 0.2723 - mse: 0.2541 - val_loss: 0.2783 - val_mae: 0.2783 - val_mse: 0.2623\n",
      "Epoch 18/20\n",
      "1096/1096 [==============================] - 3s 3ms/step - loss: 0.2715 - mae: 0.2715 - mse: 0.2545 - val_loss: 0.2783 - val_mae: 0.2783 - val_mse: 0.2623\n",
      "Epoch 19/20\n",
      "1096/1096 [==============================] - 3s 3ms/step - loss: 0.2706 - mae: 0.2706 - mse: 0.2543 - val_loss: 0.2771 - val_mae: 0.2771 - val_mse: 0.2616\n",
      "Epoch 20/20\n",
      "1096/1096 [==============================] - 3s 3ms/step - loss: 0.2712 - mae: 0.2712 - mse: 0.2549 - val_loss: 0.2786 - val_mae: 0.2786 - val_mse: 0.2625\n",
      "343/343 [==============================] - 1s 2ms/step\n",
      "Epoch 1/20\n",
      "1096/1096 [==============================] - 3s 3ms/step - loss: 0.4932 - mae: 0.4932 - mse: 0.4932 - val_loss: 0.5003 - val_mae: 0.5003 - val_mse: 0.5003\n",
      "Epoch 2/20\n",
      "1096/1096 [==============================] - 3s 3ms/step - loss: 0.4932 - mae: 0.4932 - mse: 0.4932 - val_loss: 0.5003 - val_mae: 0.5003 - val_mse: 0.5003\n",
      "Epoch 3/20\n",
      "1096/1096 [==============================] - 3s 3ms/step - loss: 0.4932 - mae: 0.4932 - mse: 0.4932 - val_loss: 0.5003 - val_mae: 0.5003 - val_mse: 0.5003\n",
      "Epoch 4/20\n",
      "1096/1096 [==============================] - 3s 3ms/step - loss: 0.4932 - mae: 0.4932 - mse: 0.4932 - val_loss: 0.5003 - val_mae: 0.5003 - val_mse: 0.5003\n",
      "Epoch 5/20\n",
      "1096/1096 [==============================] - 3s 3ms/step - loss: 0.4932 - mae: 0.4932 - mse: 0.4932 - val_loss: 0.5003 - val_mae: 0.5003 - val_mse: 0.5003\n",
      "Epoch 6/20\n",
      "1096/1096 [==============================] - 3s 3ms/step - loss: 0.4932 - mae: 0.4932 - mse: 0.4932 - val_loss: 0.5003 - val_mae: 0.5003 - val_mse: 0.5003\n",
      "Epoch 7/20\n",
      "1096/1096 [==============================] - 3s 2ms/step - loss: 0.4932 - mae: 0.4932 - mse: 0.4932 - val_loss: 0.5003 - val_mae: 0.5003 - val_mse: 0.5003\n",
      "Epoch 8/20\n",
      "1096/1096 [==============================] - 3s 3ms/step - loss: 0.4932 - mae: 0.4932 - mse: 0.4932 - val_loss: 0.5003 - val_mae: 0.5003 - val_mse: 0.5003\n",
      "Epoch 9/20\n",
      "1096/1096 [==============================] - 3s 2ms/step - loss: 0.4932 - mae: 0.4932 - mse: 0.4932 - val_loss: 0.5003 - val_mae: 0.5003 - val_mse: 0.5003\n",
      "Epoch 10/20\n",
      "1096/1096 [==============================] - 4s 3ms/step - loss: 0.4932 - mae: 0.4932 - mse: 0.4932 - val_loss: 0.5003 - val_mae: 0.5003 - val_mse: 0.5003\n",
      "Epoch 11/20\n",
      "1096/1096 [==============================] - 3s 3ms/step - loss: 0.4932 - mae: 0.4932 - mse: 0.4932 - val_loss: 0.5003 - val_mae: 0.5003 - val_mse: 0.5003\n",
      "Epoch 12/20\n",
      "1096/1096 [==============================] - 3s 2ms/step - loss: 0.4932 - mae: 0.4932 - mse: 0.4932 - val_loss: 0.5003 - val_mae: 0.5003 - val_mse: 0.5003\n",
      "Epoch 13/20\n",
      "1096/1096 [==============================] - 3s 3ms/step - loss: 0.4932 - mae: 0.4932 - mse: 0.4932 - val_loss: 0.5003 - val_mae: 0.5003 - val_mse: 0.5003\n",
      "Epoch 14/20\n",
      "1096/1096 [==============================] - 3s 3ms/step - loss: 0.4932 - mae: 0.4932 - mse: 0.4932 - val_loss: 0.5003 - val_mae: 0.5003 - val_mse: 0.5003\n",
      "Epoch 15/20\n",
      "1096/1096 [==============================] - 3s 3ms/step - loss: 0.4932 - mae: 0.4932 - mse: 0.4932 - val_loss: 0.5003 - val_mae: 0.5003 - val_mse: 0.5003\n",
      "Epoch 16/20\n",
      "1096/1096 [==============================] - 3s 2ms/step - loss: 0.4932 - mae: 0.4932 - mse: 0.4932 - val_loss: 0.5003 - val_mae: 0.5003 - val_mse: 0.5003\n",
      "Epoch 17/20\n",
      "1096/1096 [==============================] - 3s 3ms/step - loss: 0.4932 - mae: 0.4932 - mse: 0.4932 - val_loss: 0.5003 - val_mae: 0.5003 - val_mse: 0.5003\n",
      "Epoch 18/20\n",
      "1096/1096 [==============================] - 3s 3ms/step - loss: 0.4932 - mae: 0.4932 - mse: 0.4932 - val_loss: 0.5003 - val_mae: 0.5003 - val_mse: 0.5003\n",
      "Epoch 19/20\n",
      "1096/1096 [==============================] - 3s 2ms/step - loss: 0.4932 - mae: 0.4932 - mse: 0.4932 - val_loss: 0.5003 - val_mae: 0.5003 - val_mse: 0.5003\n",
      "Epoch 20/20\n",
      "1096/1096 [==============================] - 4s 3ms/step - loss: 0.4932 - mae: 0.4932 - mse: 0.4932 - val_loss: 0.5003 - val_mae: 0.5003 - val_mse: 0.5003\n",
      "343/343 [==============================] - 1s 1ms/step\n",
      "Epoch 1/20\n",
      "1096/1096 [==============================] - 3s 2ms/step - loss: 0.4029 - mae: 0.4029 - mse: 0.2496 - val_loss: 0.3665 - val_mae: 0.3665 - val_mse: 0.2340\n",
      "Epoch 2/20\n",
      "1096/1096 [==============================] - 3s 3ms/step - loss: 0.3584 - mae: 0.3584 - mse: 0.2358 - val_loss: 0.3549 - val_mae: 0.3549 - val_mse: 0.2346\n",
      "Epoch 3/20\n",
      "1096/1096 [==============================] - 3s 2ms/step - loss: 0.3547 - mae: 0.3547 - mse: 0.2400 - val_loss: 0.3527 - val_mae: 0.3527 - val_mse: 0.2398\n",
      "Epoch 4/20\n",
      "1096/1096 [==============================] - 3s 3ms/step - loss: 0.3523 - mae: 0.3523 - mse: 0.2390 - val_loss: 0.3581 - val_mae: 0.3581 - val_mse: 0.2534\n",
      "Epoch 5/20\n",
      "1096/1096 [==============================] - 3s 3ms/step - loss: 0.3502 - mae: 0.3502 - mse: 0.2376 - val_loss: 0.3492 - val_mae: 0.3492 - val_mse: 0.2307\n",
      "Epoch 6/20\n",
      "1096/1096 [==============================] - 3s 2ms/step - loss: 0.3472 - mae: 0.3472 - mse: 0.2351 - val_loss: 0.3462 - val_mae: 0.3462 - val_mse: 0.2375\n",
      "Epoch 7/20\n",
      "1096/1096 [==============================] - 3s 3ms/step - loss: 0.3404 - mae: 0.3404 - mse: 0.2326 - val_loss: 0.3383 - val_mae: 0.3383 - val_mse: 0.2424\n",
      "Epoch 8/20\n",
      "1096/1096 [==============================] - 3s 2ms/step - loss: 0.3340 - mae: 0.3340 - mse: 0.2333 - val_loss: 0.3338 - val_mae: 0.3338 - val_mse: 0.2352\n",
      "Epoch 9/20\n",
      "1096/1096 [==============================] - 3s 3ms/step - loss: 0.3285 - mae: 0.3285 - mse: 0.2331 - val_loss: 0.3258 - val_mae: 0.3258 - val_mse: 0.2360\n",
      "Epoch 10/20\n",
      "1096/1096 [==============================] - 3s 3ms/step - loss: 0.3241 - mae: 0.3241 - mse: 0.2350 - val_loss: 0.3314 - val_mae: 0.3314 - val_mse: 0.2457\n",
      "Epoch 11/20\n",
      "1096/1096 [==============================] - 3s 3ms/step - loss: 0.3203 - mae: 0.3203 - mse: 0.2339 - val_loss: 0.3182 - val_mae: 0.3182 - val_mse: 0.2331\n",
      "Epoch 12/20\n",
      "1096/1096 [==============================] - 3s 3ms/step - loss: 0.3171 - mae: 0.3171 - mse: 0.2330 - val_loss: 0.3228 - val_mae: 0.3228 - val_mse: 0.2375\n",
      "Epoch 13/20\n",
      "1096/1096 [==============================] - 3s 3ms/step - loss: 0.3130 - mae: 0.3130 - mse: 0.2317 - val_loss: 0.3116 - val_mae: 0.3116 - val_mse: 0.2331\n",
      "Epoch 14/20\n",
      "1096/1096 [==============================] - 3s 2ms/step - loss: 0.3066 - mae: 0.3066 - mse: 0.2304 - val_loss: 0.3026 - val_mae: 0.3026 - val_mse: 0.2343\n",
      "Epoch 15/20\n",
      "1096/1096 [==============================] - 4s 3ms/step - loss: 0.2990 - mae: 0.2990 - mse: 0.2301 - val_loss: 0.3000 - val_mae: 0.3000 - val_mse: 0.2330\n",
      "Epoch 16/20\n",
      "1096/1096 [==============================] - 3s 2ms/step - loss: 0.2942 - mae: 0.2942 - mse: 0.2322 - val_loss: 0.2929 - val_mae: 0.2929 - val_mse: 0.2330\n",
      "Epoch 17/20\n",
      "1096/1096 [==============================] - 3s 3ms/step - loss: 0.2893 - mae: 0.2893 - mse: 0.2338 - val_loss: 0.2983 - val_mae: 0.2983 - val_mse: 0.2446\n",
      "Epoch 18/20\n",
      "1096/1096 [==============================] - 3s 3ms/step - loss: 0.2848 - mae: 0.2848 - mse: 0.2352 - val_loss: 0.2923 - val_mae: 0.2923 - val_mse: 0.2424\n",
      "Epoch 19/20\n",
      "1096/1096 [==============================] - 3s 3ms/step - loss: 0.2834 - mae: 0.2834 - mse: 0.2372 - val_loss: 0.2844 - val_mae: 0.2844 - val_mse: 0.2402\n",
      "Epoch 20/20\n",
      "1096/1096 [==============================] - 3s 3ms/step - loss: 0.2813 - mae: 0.2813 - mse: 0.2381 - val_loss: 0.2828 - val_mae: 0.2828 - val_mse: 0.2468\n",
      "343/343 [==============================] - 1s 2ms/step\n",
      "Epoch 1/20\n",
      "1096/1096 [==============================] - 4s 3ms/step - loss: 0.4959 - mae: 0.4959 - mse: 0.4959 - val_loss: 0.5002 - val_mae: 0.5002 - val_mse: 0.5002\n",
      "Epoch 2/20\n",
      "1096/1096 [==============================] - 3s 3ms/step - loss: 0.4959 - mae: 0.4959 - mse: 0.4959 - val_loss: 0.5002 - val_mae: 0.5002 - val_mse: 0.5002\n",
      "Epoch 3/20\n",
      "1096/1096 [==============================] - 3s 3ms/step - loss: 0.4959 - mae: 0.4959 - mse: 0.4959 - val_loss: 0.5002 - val_mae: 0.5002 - val_mse: 0.5002\n",
      "Epoch 4/20\n",
      "1096/1096 [==============================] - 3s 3ms/step - loss: 0.4959 - mae: 0.4959 - mse: 0.4959 - val_loss: 0.5002 - val_mae: 0.5002 - val_mse: 0.5002\n",
      "Epoch 5/20\n",
      "1096/1096 [==============================] - 3s 3ms/step - loss: 0.4959 - mae: 0.4959 - mse: 0.4959 - val_loss: 0.5002 - val_mae: 0.5002 - val_mse: 0.5002\n",
      "Epoch 6/20\n",
      "1096/1096 [==============================] - 3s 3ms/step - loss: 0.4959 - mae: 0.4959 - mse: 0.4959 - val_loss: 0.5002 - val_mae: 0.5002 - val_mse: 0.5002\n",
      "Epoch 7/20\n",
      "1096/1096 [==============================] - 3s 3ms/step - loss: 0.4959 - mae: 0.4959 - mse: 0.4959 - val_loss: 0.5002 - val_mae: 0.5002 - val_mse: 0.5002\n",
      "Epoch 8/20\n",
      "1096/1096 [==============================] - 3s 3ms/step - loss: 0.4959 - mae: 0.4959 - mse: 0.4959 - val_loss: 0.5002 - val_mae: 0.5002 - val_mse: 0.5002\n",
      "Epoch 9/20\n",
      "1096/1096 [==============================] - 3s 3ms/step - loss: 0.4959 - mae: 0.4959 - mse: 0.4959 - val_loss: 0.5002 - val_mae: 0.5002 - val_mse: 0.5002\n",
      "Epoch 10/20\n",
      "1096/1096 [==============================] - 3s 3ms/step - loss: 0.4959 - mae: 0.4959 - mse: 0.4959 - val_loss: 0.5002 - val_mae: 0.5002 - val_mse: 0.5002\n",
      "Epoch 11/20\n",
      "1096/1096 [==============================] - 4s 4ms/step - loss: 0.4959 - mae: 0.4959 - mse: 0.4959 - val_loss: 0.5002 - val_mae: 0.5002 - val_mse: 0.5002\n",
      "Epoch 12/20\n",
      "1096/1096 [==============================] - 4s 4ms/step - loss: 0.4959 - mae: 0.4959 - mse: 0.4959 - val_loss: 0.5002 - val_mae: 0.5002 - val_mse: 0.5002\n",
      "Epoch 13/20\n",
      "1096/1096 [==============================] - 3s 3ms/step - loss: 0.4959 - mae: 0.4959 - mse: 0.4959 - val_loss: 0.5002 - val_mae: 0.5002 - val_mse: 0.5002\n",
      "Epoch 14/20\n",
      "1096/1096 [==============================] - 3s 3ms/step - loss: 0.4959 - mae: 0.4959 - mse: 0.4959 - val_loss: 0.5002 - val_mae: 0.5002 - val_mse: 0.5002\n",
      "Epoch 15/20\n",
      "1096/1096 [==============================] - 3s 3ms/step - loss: 0.4959 - mae: 0.4959 - mse: 0.4959 - val_loss: 0.5002 - val_mae: 0.5002 - val_mse: 0.5002\n",
      "Epoch 16/20\n",
      "1096/1096 [==============================] - 3s 3ms/step - loss: 0.4959 - mae: 0.4959 - mse: 0.4959 - val_loss: 0.5002 - val_mae: 0.5002 - val_mse: 0.5002\n",
      "Epoch 17/20\n",
      "1096/1096 [==============================] - 3s 3ms/step - loss: 0.4959 - mae: 0.4959 - mse: 0.4959 - val_loss: 0.5002 - val_mae: 0.5002 - val_mse: 0.5002\n",
      "Epoch 18/20\n",
      "1096/1096 [==============================] - 3s 3ms/step - loss: 0.4959 - mae: 0.4959 - mse: 0.4959 - val_loss: 0.5002 - val_mae: 0.5002 - val_mse: 0.5002\n",
      "Epoch 19/20\n",
      "1096/1096 [==============================] - 4s 3ms/step - loss: 0.4959 - mae: 0.4959 - mse: 0.4959 - val_loss: 0.5002 - val_mae: 0.5002 - val_mse: 0.5002\n",
      "Epoch 20/20\n",
      "1096/1096 [==============================] - 4s 3ms/step - loss: 0.4959 - mae: 0.4959 - mse: 0.4959 - val_loss: 0.5002 - val_mae: 0.5002 - val_mse: 0.5002\n",
      "343/343 [==============================] - 1s 2ms/step\n",
      "Epoch 1/20\n",
      "1096/1096 [==============================] - 3s 3ms/step - loss: 0.4958 - mae: 0.4958 - mse: 0.4956 - val_loss: 0.5014 - val_mae: 0.5014 - val_mse: 0.5014\n",
      "Epoch 2/20\n",
      "1096/1096 [==============================] - 3s 3ms/step - loss: 0.4957 - mae: 0.4957 - mse: 0.4957 - val_loss: 0.5014 - val_mae: 0.5014 - val_mse: 0.5014\n",
      "Epoch 3/20\n",
      "1096/1096 [==============================] - 4s 4ms/step - loss: 0.4957 - mae: 0.4957 - mse: 0.4957 - val_loss: 0.5014 - val_mae: 0.5014 - val_mse: 0.5014\n",
      "Epoch 4/20\n",
      "1096/1096 [==============================] - 3s 2ms/step - loss: 0.4957 - mae: 0.4957 - mse: 0.4957 - val_loss: 0.5014 - val_mae: 0.5014 - val_mse: 0.5014\n",
      "Epoch 5/20\n",
      "1096/1096 [==============================] - 3s 2ms/step - loss: 0.4957 - mae: 0.4957 - mse: 0.4957 - val_loss: 0.5014 - val_mae: 0.5014 - val_mse: 0.5014\n",
      "Epoch 6/20\n",
      "1096/1096 [==============================] - 3s 3ms/step - loss: 0.4957 - mae: 0.4957 - mse: 0.4957 - val_loss: 0.5014 - val_mae: 0.5014 - val_mse: 0.5014\n",
      "Epoch 7/20\n",
      "1096/1096 [==============================] - 3s 3ms/step - loss: 0.4957 - mae: 0.4957 - mse: 0.4957 - val_loss: 0.5014 - val_mae: 0.5014 - val_mse: 0.5014\n",
      "Epoch 8/20\n",
      "1096/1096 [==============================] - 3s 3ms/step - loss: 0.4957 - mae: 0.4957 - mse: 0.4957 - val_loss: 0.5014 - val_mae: 0.5014 - val_mse: 0.5014\n",
      "Epoch 9/20\n",
      "1096/1096 [==============================] - 3s 3ms/step - loss: 0.4957 - mae: 0.4957 - mse: 0.4957 - val_loss: 0.5014 - val_mae: 0.5014 - val_mse: 0.5014\n",
      "Epoch 10/20\n",
      "1096/1096 [==============================] - 4s 3ms/step - loss: 0.4957 - mae: 0.4957 - mse: 0.4957 - val_loss: 0.5014 - val_mae: 0.5014 - val_mse: 0.5014\n",
      "Epoch 11/20\n",
      "1096/1096 [==============================] - 3s 3ms/step - loss: 0.4957 - mae: 0.4957 - mse: 0.4957 - val_loss: 0.5014 - val_mae: 0.5014 - val_mse: 0.5014\n",
      "Epoch 12/20\n",
      "1096/1096 [==============================] - 4s 4ms/step - loss: 0.4957 - mae: 0.4957 - mse: 0.4957 - val_loss: 0.5014 - val_mae: 0.5014 - val_mse: 0.5014\n",
      "Epoch 13/20\n",
      "1096/1096 [==============================] - 6s 5ms/step - loss: 0.4957 - mae: 0.4957 - mse: 0.4957 - val_loss: 0.5014 - val_mae: 0.5014 - val_mse: 0.5014\n",
      "Epoch 14/20\n",
      "1096/1096 [==============================] - 5s 5ms/step - loss: 0.4957 - mae: 0.4957 - mse: 0.4957 - val_loss: 0.5014 - val_mae: 0.5014 - val_mse: 0.5014\n",
      "Epoch 15/20\n",
      "1096/1096 [==============================] - 3s 3ms/step - loss: 0.4957 - mae: 0.4957 - mse: 0.4957 - val_loss: 0.5014 - val_mae: 0.5014 - val_mse: 0.5014\n",
      "Epoch 16/20\n",
      "1096/1096 [==============================] - 3s 3ms/step - loss: 0.4957 - mae: 0.4957 - mse: 0.4957 - val_loss: 0.5014 - val_mae: 0.5014 - val_mse: 0.5014\n",
      "Epoch 17/20\n",
      "1096/1096 [==============================] - 3s 3ms/step - loss: 0.4957 - mae: 0.4957 - mse: 0.4957 - val_loss: 0.5014 - val_mae: 0.5014 - val_mse: 0.5014\n",
      "Epoch 18/20\n",
      "1096/1096 [==============================] - 4s 4ms/step - loss: 0.4957 - mae: 0.4957 - mse: 0.4957 - val_loss: 0.5014 - val_mae: 0.5014 - val_mse: 0.5014\n",
      "Epoch 19/20\n",
      "1096/1096 [==============================] - 4s 4ms/step - loss: 0.4957 - mae: 0.4957 - mse: 0.4957 - val_loss: 0.5014 - val_mae: 0.5014 - val_mse: 0.5014\n",
      "Epoch 20/20\n",
      "1096/1096 [==============================] - 3s 3ms/step - loss: 0.4957 - mae: 0.4957 - mse: 0.4957 - val_loss: 0.5014 - val_mae: 0.5014 - val_mse: 0.5014\n",
      "343/343 [==============================] - 0s 1ms/step\n",
      "Epoch 1/20\n",
      "1096/1096 [==============================] - 4s 3ms/step - loss: 0.4924 - mae: 0.4924 - mse: 0.4924 - val_loss: 0.5044 - val_mae: 0.5044 - val_mse: 0.5044\n",
      "Epoch 2/20\n",
      "1096/1096 [==============================] - 3s 3ms/step - loss: 0.4924 - mae: 0.4924 - mse: 0.4924 - val_loss: 0.5044 - val_mae: 0.5044 - val_mse: 0.5044\n",
      "Epoch 3/20\n",
      "1096/1096 [==============================] - 4s 4ms/step - loss: 0.4924 - mae: 0.4924 - mse: 0.4924 - val_loss: 0.5044 - val_mae: 0.5044 - val_mse: 0.5044\n",
      "Epoch 4/20\n",
      "1096/1096 [==============================] - 4s 4ms/step - loss: 0.4924 - mae: 0.4924 - mse: 0.4924 - val_loss: 0.5044 - val_mae: 0.5044 - val_mse: 0.5044\n",
      "Epoch 5/20\n",
      "1096/1096 [==============================] - 4s 4ms/step - loss: 0.4924 - mae: 0.4924 - mse: 0.4924 - val_loss: 0.5044 - val_mae: 0.5044 - val_mse: 0.5044\n",
      "Epoch 6/20\n",
      "1096/1096 [==============================] - 4s 4ms/step - loss: 0.4924 - mae: 0.4924 - mse: 0.4924 - val_loss: 0.5044 - val_mae: 0.5044 - val_mse: 0.5044\n",
      "Epoch 7/20\n",
      "1096/1096 [==============================] - 3s 2ms/step - loss: 0.4924 - mae: 0.4924 - mse: 0.4924 - val_loss: 0.5044 - val_mae: 0.5044 - val_mse: 0.5044\n",
      "Epoch 8/20\n",
      "1096/1096 [==============================] - 4s 3ms/step - loss: 0.4924 - mae: 0.4924 - mse: 0.4924 - val_loss: 0.5044 - val_mae: 0.5044 - val_mse: 0.5044\n",
      "Epoch 9/20\n",
      "1096/1096 [==============================] - 3s 3ms/step - loss: 0.4924 - mae: 0.4924 - mse: 0.4924 - val_loss: 0.5044 - val_mae: 0.5044 - val_mse: 0.5044\n",
      "Epoch 10/20\n",
      "1096/1096 [==============================] - 3s 3ms/step - loss: 0.4924 - mae: 0.4924 - mse: 0.4924 - val_loss: 0.5044 - val_mae: 0.5044 - val_mse: 0.5044\n",
      "Epoch 11/20\n",
      "1096/1096 [==============================] - 3s 3ms/step - loss: 0.4924 - mae: 0.4924 - mse: 0.4924 - val_loss: 0.5044 - val_mae: 0.5044 - val_mse: 0.5044\n",
      "Epoch 12/20\n",
      "1096/1096 [==============================] - 4s 4ms/step - loss: 0.4924 - mae: 0.4924 - mse: 0.4924 - val_loss: 0.5044 - val_mae: 0.5044 - val_mse: 0.5044\n",
      "Epoch 13/20\n",
      "1096/1096 [==============================] - 3s 3ms/step - loss: 0.4924 - mae: 0.4924 - mse: 0.4924 - val_loss: 0.5044 - val_mae: 0.5044 - val_mse: 0.5044\n",
      "Epoch 14/20\n",
      "1096/1096 [==============================] - 5s 4ms/step - loss: 0.4924 - mae: 0.4924 - mse: 0.4924 - val_loss: 0.5044 - val_mae: 0.5044 - val_mse: 0.5044\n",
      "Epoch 15/20\n",
      "1096/1096 [==============================] - 4s 4ms/step - loss: 0.4924 - mae: 0.4924 - mse: 0.4924 - val_loss: 0.5044 - val_mae: 0.5044 - val_mse: 0.5044\n",
      "Epoch 16/20\n",
      "1096/1096 [==============================] - 5s 4ms/step - loss: 0.4924 - mae: 0.4924 - mse: 0.4924 - val_loss: 0.5044 - val_mae: 0.5044 - val_mse: 0.5044\n",
      "Epoch 17/20\n",
      "1096/1096 [==============================] - 4s 4ms/step - loss: 0.4924 - mae: 0.4924 - mse: 0.4924 - val_loss: 0.5044 - val_mae: 0.5044 - val_mse: 0.5044\n",
      "Epoch 18/20\n",
      "1096/1096 [==============================] - 4s 3ms/step - loss: 0.4924 - mae: 0.4924 - mse: 0.4924 - val_loss: 0.5044 - val_mae: 0.5044 - val_mse: 0.5044\n",
      "Epoch 19/20\n",
      "1096/1096 [==============================] - 6s 5ms/step - loss: 0.4924 - mae: 0.4924 - mse: 0.4924 - val_loss: 0.5044 - val_mae: 0.5044 - val_mse: 0.5044\n",
      "Epoch 20/20\n",
      "1096/1096 [==============================] - 3s 3ms/step - loss: 0.4924 - mae: 0.4924 - mse: 0.4924 - val_loss: 0.5044 - val_mae: 0.5044 - val_mse: 0.5044\n",
      "343/343 [==============================] - 1s 3ms/step\n",
      "Epoch 1/20\n",
      "1096/1096 [==============================] - 5s 4ms/step - loss: 0.4932 - mae: 0.4932 - mse: 0.4932 - val_loss: 0.5003 - val_mae: 0.5003 - val_mse: 0.5003\n",
      "Epoch 2/20\n",
      "1096/1096 [==============================] - 4s 4ms/step - loss: 0.4932 - mae: 0.4932 - mse: 0.4932 - val_loss: 0.5003 - val_mae: 0.5003 - val_mse: 0.5003\n",
      "Epoch 3/20\n",
      "1096/1096 [==============================] - 4s 3ms/step - loss: 0.4932 - mae: 0.4932 - mse: 0.4932 - val_loss: 0.5003 - val_mae: 0.5003 - val_mse: 0.5003\n",
      "Epoch 4/20\n",
      "1096/1096 [==============================] - 4s 4ms/step - loss: 0.4932 - mae: 0.4932 - mse: 0.4932 - val_loss: 0.5003 - val_mae: 0.5003 - val_mse: 0.5003\n",
      "Epoch 5/20\n",
      "1096/1096 [==============================] - 3s 3ms/step - loss: 0.4932 - mae: 0.4932 - mse: 0.4932 - val_loss: 0.5003 - val_mae: 0.5003 - val_mse: 0.5003\n",
      "Epoch 6/20\n",
      "1096/1096 [==============================] - 4s 4ms/step - loss: 0.4932 - mae: 0.4932 - mse: 0.4932 - val_loss: 0.5003 - val_mae: 0.5003 - val_mse: 0.5003\n",
      "Epoch 7/20\n",
      "1096/1096 [==============================] - 3s 3ms/step - loss: 0.4932 - mae: 0.4932 - mse: 0.4932 - val_loss: 0.5003 - val_mae: 0.5003 - val_mse: 0.5003\n",
      "Epoch 8/20\n",
      "1096/1096 [==============================] - 4s 3ms/step - loss: 0.4932 - mae: 0.4932 - mse: 0.4932 - val_loss: 0.5003 - val_mae: 0.5003 - val_mse: 0.5003\n",
      "Epoch 9/20\n",
      "1096/1096 [==============================] - 4s 4ms/step - loss: 0.4932 - mae: 0.4932 - mse: 0.4932 - val_loss: 0.5003 - val_mae: 0.5003 - val_mse: 0.5003\n",
      "Epoch 10/20\n",
      "1096/1096 [==============================] - 4s 4ms/step - loss: 0.4932 - mae: 0.4932 - mse: 0.4932 - val_loss: 0.5003 - val_mae: 0.5003 - val_mse: 0.5003\n",
      "Epoch 11/20\n",
      "1096/1096 [==============================] - 4s 3ms/step - loss: 0.4932 - mae: 0.4932 - mse: 0.4932 - val_loss: 0.5003 - val_mae: 0.5003 - val_mse: 0.5003\n",
      "Epoch 12/20\n",
      "1096/1096 [==============================] - 5s 4ms/step - loss: 0.4932 - mae: 0.4932 - mse: 0.4932 - val_loss: 0.5003 - val_mae: 0.5003 - val_mse: 0.5003\n",
      "Epoch 13/20\n",
      "1096/1096 [==============================] - 3s 3ms/step - loss: 0.4932 - mae: 0.4932 - mse: 0.4932 - val_loss: 0.5003 - val_mae: 0.5003 - val_mse: 0.5003\n",
      "Epoch 14/20\n",
      "1096/1096 [==============================] - 4s 4ms/step - loss: 0.4932 - mae: 0.4932 - mse: 0.4932 - val_loss: 0.5003 - val_mae: 0.5003 - val_mse: 0.5003\n",
      "Epoch 15/20\n",
      "1096/1096 [==============================] - 4s 3ms/step - loss: 0.4932 - mae: 0.4932 - mse: 0.4932 - val_loss: 0.5003 - val_mae: 0.5003 - val_mse: 0.5003\n",
      "Epoch 16/20\n",
      "1096/1096 [==============================] - 4s 3ms/step - loss: 0.4932 - mae: 0.4932 - mse: 0.4932 - val_loss: 0.5003 - val_mae: 0.5003 - val_mse: 0.5003\n",
      "Epoch 17/20\n",
      "1096/1096 [==============================] - 3s 3ms/step - loss: 0.4932 - mae: 0.4932 - mse: 0.4932 - val_loss: 0.5003 - val_mae: 0.5003 - val_mse: 0.5003\n",
      "Epoch 18/20\n",
      "1096/1096 [==============================] - 3s 3ms/step - loss: 0.4932 - mae: 0.4932 - mse: 0.4932 - val_loss: 0.5003 - val_mae: 0.5003 - val_mse: 0.5003\n",
      "Epoch 19/20\n",
      "1096/1096 [==============================] - 3s 3ms/step - loss: 0.4932 - mae: 0.4932 - mse: 0.4932 - val_loss: 0.5003 - val_mae: 0.5003 - val_mse: 0.5003\n",
      "Epoch 20/20\n",
      "1096/1096 [==============================] - 3s 3ms/step - loss: 0.4932 - mae: 0.4932 - mse: 0.4932 - val_loss: 0.5003 - val_mae: 0.5003 - val_mse: 0.5003\n",
      "343/343 [==============================] - 1s 2ms/step\n",
      "Epoch 1/20\n",
      "1096/1096 [==============================] - 4s 4ms/step - loss: 0.3466 - mae: 0.3466 - mse: 0.2442 - val_loss: 0.3102 - val_mae: 0.3102 - val_mse: 0.2490\n",
      "Epoch 2/20\n",
      "1096/1096 [==============================] - 4s 4ms/step - loss: 0.2963 - mae: 0.2963 - mse: 0.2401 - val_loss: 0.2907 - val_mae: 0.2907 - val_mse: 0.2346\n",
      "Epoch 3/20\n",
      "1096/1096 [==============================] - 4s 4ms/step - loss: 0.2847 - mae: 0.2847 - mse: 0.2500 - val_loss: 0.2798 - val_mae: 0.2798 - val_mse: 0.2507\n",
      "Epoch 4/20\n",
      "1096/1096 [==============================] - 4s 3ms/step - loss: 0.2839 - mae: 0.2839 - mse: 0.2526 - val_loss: 0.2966 - val_mae: 0.2966 - val_mse: 0.2708\n",
      "Epoch 5/20\n",
      "1096/1096 [==============================] - 4s 4ms/step - loss: 0.2826 - mae: 0.2826 - mse: 0.2552 - val_loss: 0.2772 - val_mae: 0.2772 - val_mse: 0.2534\n",
      "Epoch 6/20\n",
      "1096/1096 [==============================] - 3s 3ms/step - loss: 0.2802 - mae: 0.2802 - mse: 0.2541 - val_loss: 0.2868 - val_mae: 0.2868 - val_mse: 0.2617\n",
      "Epoch 7/20\n",
      "1096/1096 [==============================] - 4s 3ms/step - loss: 0.2806 - mae: 0.2806 - mse: 0.2563 - val_loss: 0.2816 - val_mae: 0.2816 - val_mse: 0.2620\n",
      "Epoch 8/20\n",
      "1096/1096 [==============================] - 3s 3ms/step - loss: 0.2789 - mae: 0.2789 - mse: 0.2565 - val_loss: 0.2801 - val_mae: 0.2801 - val_mse: 0.2575\n",
      "Epoch 9/20\n",
      "1096/1096 [==============================] - 4s 3ms/step - loss: 0.2810 - mae: 0.2810 - mse: 0.2585 - val_loss: 0.2782 - val_mae: 0.2782 - val_mse: 0.2507\n",
      "Epoch 10/20\n",
      "1096/1096 [==============================] - 4s 3ms/step - loss: 0.2794 - mae: 0.2794 - mse: 0.2603 - val_loss: 0.2796 - val_mae: 0.2796 - val_mse: 0.2635\n",
      "Epoch 11/20\n",
      "1096/1096 [==============================] - 4s 4ms/step - loss: 0.2817 - mae: 0.2817 - mse: 0.2623 - val_loss: 0.2781 - val_mae: 0.2781 - val_mse: 0.2586\n",
      "Epoch 12/20\n",
      "1096/1096 [==============================] - 4s 3ms/step - loss: 0.2774 - mae: 0.2774 - mse: 0.2590 - val_loss: 0.2813 - val_mae: 0.2813 - val_mse: 0.2651\n",
      "Epoch 13/20\n",
      "1096/1096 [==============================] - 3s 3ms/step - loss: 0.2780 - mae: 0.2780 - mse: 0.2603 - val_loss: 0.2768 - val_mae: 0.2768 - val_mse: 0.2609\n",
      "Epoch 14/20\n",
      "1096/1096 [==============================] - 4s 3ms/step - loss: 0.2780 - mae: 0.2780 - mse: 0.2614 - val_loss: 0.2847 - val_mae: 0.2847 - val_mse: 0.2673\n",
      "Epoch 15/20\n",
      "1096/1096 [==============================] - 3s 3ms/step - loss: 0.2795 - mae: 0.2795 - mse: 0.2637 - val_loss: 0.2990 - val_mae: 0.2990 - val_mse: 0.2675\n",
      "Epoch 16/20\n",
      "1096/1096 [==============================] - 4s 3ms/step - loss: 0.2813 - mae: 0.2813 - mse: 0.2649 - val_loss: 0.2814 - val_mae: 0.2814 - val_mse: 0.2680\n",
      "Epoch 17/20\n",
      "1096/1096 [==============================] - 4s 3ms/step - loss: 0.2796 - mae: 0.2796 - mse: 0.2627 - val_loss: 0.2769 - val_mae: 0.2769 - val_mse: 0.2605\n",
      "Epoch 18/20\n",
      "1096/1096 [==============================] - 3s 3ms/step - loss: 0.2774 - mae: 0.2774 - mse: 0.2619 - val_loss: 0.2824 - val_mae: 0.2824 - val_mse: 0.2551\n",
      "Epoch 19/20\n",
      "1096/1096 [==============================] - 3s 3ms/step - loss: 0.2770 - mae: 0.2770 - mse: 0.2606 - val_loss: 0.2805 - val_mae: 0.2805 - val_mse: 0.2673\n",
      "Epoch 20/20\n",
      "1096/1096 [==============================] - 4s 3ms/step - loss: 0.2763 - mae: 0.2763 - mse: 0.2611 - val_loss: 0.2788 - val_mae: 0.2788 - val_mse: 0.2659\n",
      "343/343 [==============================] - 1s 2ms/step\n",
      "Epoch 1/20\n",
      "1096/1096 [==============================] - 4s 3ms/step - loss: 0.4959 - mae: 0.4959 - mse: 0.4959 - val_loss: 0.5002 - val_mae: 0.5002 - val_mse: 0.5002\n",
      "Epoch 2/20\n",
      "1096/1096 [==============================] - 3s 2ms/step - loss: 0.4959 - mae: 0.4959 - mse: 0.4959 - val_loss: 0.5002 - val_mae: 0.5002 - val_mse: 0.5002\n",
      "Epoch 3/20\n",
      "1096/1096 [==============================] - 4s 3ms/step - loss: 0.4959 - mae: 0.4959 - mse: 0.4959 - val_loss: 0.5002 - val_mae: 0.5002 - val_mse: 0.5002\n",
      "Epoch 4/20\n",
      "1096/1096 [==============================] - 4s 4ms/step - loss: 0.4959 - mae: 0.4959 - mse: 0.4959 - val_loss: 0.5002 - val_mae: 0.5002 - val_mse: 0.5002\n",
      "Epoch 5/20\n",
      "1096/1096 [==============================] - 3s 3ms/step - loss: 0.4959 - mae: 0.4959 - mse: 0.4959 - val_loss: 0.5002 - val_mae: 0.5002 - val_mse: 0.5002\n",
      "Epoch 6/20\n",
      "1096/1096 [==============================] - 3s 3ms/step - loss: 0.4959 - mae: 0.4959 - mse: 0.4959 - val_loss: 0.5002 - val_mae: 0.5002 - val_mse: 0.5002\n",
      "Epoch 7/20\n",
      "1096/1096 [==============================] - 4s 3ms/step - loss: 0.4959 - mae: 0.4959 - mse: 0.4959 - val_loss: 0.5002 - val_mae: 0.5002 - val_mse: 0.5002\n",
      "Epoch 8/20\n",
      "1096/1096 [==============================] - 4s 4ms/step - loss: 0.4959 - mae: 0.4959 - mse: 0.4959 - val_loss: 0.5002 - val_mae: 0.5002 - val_mse: 0.5002\n",
      "Epoch 9/20\n",
      "1096/1096 [==============================] - 3s 3ms/step - loss: 0.4959 - mae: 0.4959 - mse: 0.4959 - val_loss: 0.5002 - val_mae: 0.5002 - val_mse: 0.5002\n",
      "Epoch 10/20\n",
      "1096/1096 [==============================] - 4s 4ms/step - loss: 0.4959 - mae: 0.4959 - mse: 0.4959 - val_loss: 0.5002 - val_mae: 0.5002 - val_mse: 0.5002\n",
      "Epoch 11/20\n",
      "1096/1096 [==============================] - 4s 4ms/step - loss: 0.4959 - mae: 0.4959 - mse: 0.4959 - val_loss: 0.5002 - val_mae: 0.5002 - val_mse: 0.5002\n",
      "Epoch 12/20\n",
      "1096/1096 [==============================] - 4s 3ms/step - loss: 0.4959 - mae: 0.4959 - mse: 0.4959 - val_loss: 0.5002 - val_mae: 0.5002 - val_mse: 0.5002\n",
      "Epoch 13/20\n",
      "1096/1096 [==============================] - 3s 3ms/step - loss: 0.4959 - mae: 0.4959 - mse: 0.4959 - val_loss: 0.5002 - val_mae: 0.5002 - val_mse: 0.5002\n",
      "Epoch 14/20\n",
      "1096/1096 [==============================] - 4s 3ms/step - loss: 0.4959 - mae: 0.4959 - mse: 0.4959 - val_loss: 0.5002 - val_mae: 0.5002 - val_mse: 0.5002\n",
      "Epoch 15/20\n",
      "1096/1096 [==============================] - 5s 5ms/step - loss: 0.4959 - mae: 0.4959 - mse: 0.4959 - val_loss: 0.5002 - val_mae: 0.5002 - val_mse: 0.5002\n",
      "Epoch 16/20\n",
      "1096/1096 [==============================] - 4s 4ms/step - loss: 0.4959 - mae: 0.4959 - mse: 0.4959 - val_loss: 0.5002 - val_mae: 0.5002 - val_mse: 0.5002\n",
      "Epoch 17/20\n",
      "1096/1096 [==============================] - 4s 4ms/step - loss: 0.4959 - mae: 0.4959 - mse: 0.4959 - val_loss: 0.5002 - val_mae: 0.5002 - val_mse: 0.5002\n",
      "Epoch 18/20\n",
      "1096/1096 [==============================] - 4s 4ms/step - loss: 0.4959 - mae: 0.4959 - mse: 0.4959 - val_loss: 0.5002 - val_mae: 0.5002 - val_mse: 0.5002\n",
      "Epoch 19/20\n",
      "1096/1096 [==============================] - 4s 4ms/step - loss: 0.4959 - mae: 0.4959 - mse: 0.4959 - val_loss: 0.5002 - val_mae: 0.5002 - val_mse: 0.5002\n",
      "Epoch 20/20\n",
      "1096/1096 [==============================] - 4s 4ms/step - loss: 0.4959 - mae: 0.4959 - mse: 0.4959 - val_loss: 0.5002 - val_mae: 0.5002 - val_mse: 0.5002\n",
      "343/343 [==============================] - 1s 3ms/step\n",
      "Epoch 1/20\n",
      "1096/1096 [==============================] - 5s 4ms/step - loss: 0.4555 - mae: 0.4555 - mse: 0.3458 - val_loss: 0.4080 - val_mae: 0.4080 - val_mse: 0.2776\n",
      "Epoch 2/20\n",
      "1096/1096 [==============================] - 2s 2ms/step - loss: 0.3819 - mae: 0.3819 - mse: 0.2571 - val_loss: 0.3799 - val_mae: 0.3799 - val_mse: 0.2562\n",
      "Epoch 3/20\n",
      "1096/1096 [==============================] - 6s 5ms/step - loss: 0.3612 - mae: 0.3612 - mse: 0.2340 - val_loss: 0.3605 - val_mae: 0.3605 - val_mse: 0.2351\n",
      "Epoch 4/20\n",
      "1096/1096 [==============================] - 5s 4ms/step - loss: 0.3479 - mae: 0.3479 - mse: 0.2241 - val_loss: 0.3508 - val_mae: 0.3508 - val_mse: 0.2266\n",
      "Epoch 5/20\n",
      "1096/1096 [==============================] - 6s 5ms/step - loss: 0.3416 - mae: 0.3416 - mse: 0.2228 - val_loss: 0.3451 - val_mae: 0.3451 - val_mse: 0.2256\n",
      "Epoch 6/20\n",
      "1096/1096 [==============================] - 4s 4ms/step - loss: 0.3376 - mae: 0.3376 - mse: 0.2231 - val_loss: 0.3415 - val_mae: 0.3415 - val_mse: 0.2249\n",
      "Epoch 7/20\n",
      "1096/1096 [==============================] - 4s 4ms/step - loss: 0.3347 - mae: 0.3347 - mse: 0.2227 - val_loss: 0.3381 - val_mae: 0.3381 - val_mse: 0.2264\n",
      "Epoch 8/20\n",
      "1096/1096 [==============================] - 4s 4ms/step - loss: 0.3318 - mae: 0.3318 - mse: 0.2215 - val_loss: 0.3399 - val_mae: 0.3399 - val_mse: 0.2445\n",
      "Epoch 9/20\n",
      "1096/1096 [==============================] - 2s 2ms/step - loss: 0.3292 - mae: 0.3292 - mse: 0.2228 - val_loss: 0.3332 - val_mae: 0.3332 - val_mse: 0.2303\n",
      "Epoch 10/20\n",
      "1096/1096 [==============================] - 3s 3ms/step - loss: 0.3265 - mae: 0.3265 - mse: 0.2218 - val_loss: 0.3308 - val_mae: 0.3308 - val_mse: 0.2301\n",
      "Epoch 11/20\n",
      "1096/1096 [==============================] - 4s 4ms/step - loss: 0.3236 - mae: 0.3236 - mse: 0.2215 - val_loss: 0.3276 - val_mae: 0.3276 - val_mse: 0.2272\n",
      "Epoch 12/20\n",
      "1096/1096 [==============================] - 4s 3ms/step - loss: 0.3201 - mae: 0.3201 - mse: 0.2214 - val_loss: 0.3241 - val_mae: 0.3241 - val_mse: 0.2272\n",
      "Epoch 13/20\n",
      "1096/1096 [==============================] - 4s 4ms/step - loss: 0.3156 - mae: 0.3156 - mse: 0.2212 - val_loss: 0.3195 - val_mae: 0.3195 - val_mse: 0.2277\n",
      "Epoch 14/20\n",
      "1096/1096 [==============================] - 3s 3ms/step - loss: 0.3081 - mae: 0.3081 - mse: 0.2220 - val_loss: 0.3114 - val_mae: 0.3114 - val_mse: 0.2276\n",
      "Epoch 15/20\n",
      "1096/1096 [==============================] - 4s 4ms/step - loss: 0.3004 - mae: 0.3004 - mse: 0.2257 - val_loss: 0.3051 - val_mae: 0.3051 - val_mse: 0.2338\n",
      "Epoch 16/20\n",
      "1096/1096 [==============================] - 4s 3ms/step - loss: 0.2958 - mae: 0.2958 - mse: 0.2263 - val_loss: 0.3006 - val_mae: 0.3006 - val_mse: 0.2343\n",
      "Epoch 17/20\n",
      "1096/1096 [==============================] - 4s 4ms/step - loss: 0.2932 - mae: 0.2932 - mse: 0.2276 - val_loss: 0.2985 - val_mae: 0.2985 - val_mse: 0.2381\n",
      "Epoch 18/20\n",
      "1096/1096 [==============================] - 5s 4ms/step - loss: 0.2913 - mae: 0.2913 - mse: 0.2295 - val_loss: 0.2981 - val_mae: 0.2981 - val_mse: 0.2365\n",
      "Epoch 19/20\n",
      "1096/1096 [==============================] - 4s 3ms/step - loss: 0.2893 - mae: 0.2893 - mse: 0.2294 - val_loss: 0.2950 - val_mae: 0.2950 - val_mse: 0.2387\n",
      "Epoch 20/20\n",
      "1096/1096 [==============================] - 3s 3ms/step - loss: 0.2878 - mae: 0.2878 - mse: 0.2309 - val_loss: 0.2933 - val_mae: 0.2933 - val_mse: 0.2377\n",
      "343/343 [==============================] - 1s 2ms/step\n",
      "Epoch 1/20\n",
      "1096/1096 [==============================] - 5s 4ms/step - loss: 0.4924 - mae: 0.4924 - mse: 0.4924 - val_loss: 0.5044 - val_mae: 0.5044 - val_mse: 0.5044\n",
      "Epoch 2/20\n",
      "1096/1096 [==============================] - 4s 4ms/step - loss: 0.4924 - mae: 0.4924 - mse: 0.4924 - val_loss: 0.5044 - val_mae: 0.5044 - val_mse: 0.5044\n",
      "Epoch 3/20\n",
      "1096/1096 [==============================] - 4s 4ms/step - loss: 0.4924 - mae: 0.4924 - mse: 0.4924 - val_loss: 0.5044 - val_mae: 0.5044 - val_mse: 0.5044\n",
      "Epoch 4/20\n",
      "1096/1096 [==============================] - 5s 5ms/step - loss: 0.4924 - mae: 0.4924 - mse: 0.4924 - val_loss: 0.5044 - val_mae: 0.5044 - val_mse: 0.5044\n",
      "Epoch 5/20\n",
      "1096/1096 [==============================] - 4s 4ms/step - loss: 0.4924 - mae: 0.4924 - mse: 0.4924 - val_loss: 0.5044 - val_mae: 0.5044 - val_mse: 0.5044\n",
      "Epoch 6/20\n",
      "1096/1096 [==============================] - 4s 4ms/step - loss: 0.4924 - mae: 0.4924 - mse: 0.4924 - val_loss: 0.5044 - val_mae: 0.5044 - val_mse: 0.5044\n",
      "Epoch 7/20\n",
      "1096/1096 [==============================] - 4s 4ms/step - loss: 0.4924 - mae: 0.4924 - mse: 0.4924 - val_loss: 0.5044 - val_mae: 0.5044 - val_mse: 0.5044\n",
      "Epoch 8/20\n",
      "1096/1096 [==============================] - 3s 3ms/step - loss: 0.4924 - mae: 0.4924 - mse: 0.4924 - val_loss: 0.5044 - val_mae: 0.5044 - val_mse: 0.5044\n",
      "Epoch 9/20\n",
      "1096/1096 [==============================] - 4s 4ms/step - loss: 0.4924 - mae: 0.4924 - mse: 0.4924 - val_loss: 0.5044 - val_mae: 0.5044 - val_mse: 0.5044\n",
      "Epoch 10/20\n",
      "1096/1096 [==============================] - 4s 3ms/step - loss: 0.4924 - mae: 0.4924 - mse: 0.4924 - val_loss: 0.5044 - val_mae: 0.5044 - val_mse: 0.5044\n",
      "Epoch 11/20\n",
      "1096/1096 [==============================] - 3s 3ms/step - loss: 0.4924 - mae: 0.4924 - mse: 0.4924 - val_loss: 0.5044 - val_mae: 0.5044 - val_mse: 0.5044\n",
      "Epoch 12/20\n",
      "1096/1096 [==============================] - 4s 4ms/step - loss: 0.4924 - mae: 0.4924 - mse: 0.4924 - val_loss: 0.5044 - val_mae: 0.5044 - val_mse: 0.5044\n",
      "Epoch 13/20\n",
      "1096/1096 [==============================] - 4s 3ms/step - loss: 0.4924 - mae: 0.4924 - mse: 0.4924 - val_loss: 0.5044 - val_mae: 0.5044 - val_mse: 0.5044\n",
      "Epoch 14/20\n",
      "1096/1096 [==============================] - 4s 4ms/step - loss: 0.4924 - mae: 0.4924 - mse: 0.4924 - val_loss: 0.5044 - val_mae: 0.5044 - val_mse: 0.5044\n",
      "Epoch 15/20\n",
      "1096/1096 [==============================] - 5s 4ms/step - loss: 0.4924 - mae: 0.4924 - mse: 0.4924 - val_loss: 0.5044 - val_mae: 0.5044 - val_mse: 0.5044\n",
      "Epoch 16/20\n",
      "1096/1096 [==============================] - 3s 3ms/step - loss: 0.4924 - mae: 0.4924 - mse: 0.4924 - val_loss: 0.5044 - val_mae: 0.5044 - val_mse: 0.5044\n",
      "Epoch 17/20\n",
      "1096/1096 [==============================] - 5s 5ms/step - loss: 0.4924 - mae: 0.4924 - mse: 0.4924 - val_loss: 0.5044 - val_mae: 0.5044 - val_mse: 0.5044\n",
      "Epoch 18/20\n",
      "1096/1096 [==============================] - 6s 5ms/step - loss: 0.4924 - mae: 0.4924 - mse: 0.4924 - val_loss: 0.5044 - val_mae: 0.5044 - val_mse: 0.5044\n",
      "Epoch 19/20\n",
      "1096/1096 [==============================] - 4s 3ms/step - loss: 0.4924 - mae: 0.4924 - mse: 0.4924 - val_loss: 0.5044 - val_mae: 0.5044 - val_mse: 0.5044\n",
      "Epoch 20/20\n",
      "1096/1096 [==============================] - 4s 4ms/step - loss: 0.4924 - mae: 0.4924 - mse: 0.4924 - val_loss: 0.5044 - val_mae: 0.5044 - val_mse: 0.5044\n",
      "343/343 [==============================] - 1s 2ms/step\n",
      "Epoch 1/20\n",
      "1096/1096 [==============================] - 6s 6ms/step - loss: 0.4527 - mae: 0.4527 - mse: 0.2729 - val_loss: 0.4048 - val_mae: 0.4048 - val_mse: 0.2833\n",
      "Epoch 2/20\n",
      "1096/1096 [==============================] - 5s 4ms/step - loss: 0.3851 - mae: 0.3851 - mse: 0.2624 - val_loss: 0.3783 - val_mae: 0.3783 - val_mse: 0.2482\n",
      "Epoch 3/20\n",
      "1096/1096 [==============================] - 4s 3ms/step - loss: 0.3650 - mae: 0.3650 - mse: 0.2367 - val_loss: 0.3602 - val_mae: 0.3602 - val_mse: 0.2293\n",
      "Epoch 4/20\n",
      "1096/1096 [==============================] - 3s 3ms/step - loss: 0.3503 - mae: 0.3503 - mse: 0.2247 - val_loss: 0.3486 - val_mae: 0.3486 - val_mse: 0.2306\n",
      "Epoch 5/20\n",
      "1096/1096 [==============================] - 4s 3ms/step - loss: 0.3426 - mae: 0.3426 - mse: 0.2227 - val_loss: 0.3430 - val_mae: 0.3430 - val_mse: 0.2253\n",
      "Epoch 6/20\n",
      "1096/1096 [==============================] - 2s 2ms/step - loss: 0.3383 - mae: 0.3383 - mse: 0.2225 - val_loss: 0.3390 - val_mae: 0.3390 - val_mse: 0.2247\n",
      "Epoch 7/20\n",
      "1096/1096 [==============================] - 3s 3ms/step - loss: 0.3355 - mae: 0.3355 - mse: 0.2219 - val_loss: 0.3366 - val_mae: 0.3366 - val_mse: 0.2238\n",
      "Epoch 8/20\n",
      "1096/1096 [==============================] - 3s 3ms/step - loss: 0.3329 - mae: 0.3329 - mse: 0.2221 - val_loss: 0.3340 - val_mae: 0.3340 - val_mse: 0.2230\n",
      "Epoch 9/20\n",
      "1096/1096 [==============================] - 3s 2ms/step - loss: 0.3306 - mae: 0.3306 - mse: 0.2220 - val_loss: 0.3326 - val_mae: 0.3326 - val_mse: 0.2304\n",
      "Epoch 10/20\n",
      "1096/1096 [==============================] - 2s 2ms/step - loss: 0.3284 - mae: 0.3284 - mse: 0.2212 - val_loss: 0.3295 - val_mae: 0.3295 - val_mse: 0.2279\n",
      "Epoch 11/20\n",
      "1096/1096 [==============================] - 2s 2ms/step - loss: 0.3258 - mae: 0.3258 - mse: 0.2217 - val_loss: 0.3268 - val_mae: 0.3268 - val_mse: 0.2216\n",
      "Epoch 12/20\n",
      "1096/1096 [==============================] - 2s 2ms/step - loss: 0.3239 - mae: 0.3239 - mse: 0.2216 - val_loss: 0.3263 - val_mae: 0.3263 - val_mse: 0.2230\n",
      "Epoch 13/20\n",
      "1096/1096 [==============================] - 2s 2ms/step - loss: 0.3211 - mae: 0.3211 - mse: 0.2209 - val_loss: 0.3226 - val_mae: 0.3226 - val_mse: 0.2234\n",
      "Epoch 14/20\n",
      "1096/1096 [==============================] - 2s 2ms/step - loss: 0.3189 - mae: 0.3189 - mse: 0.2211 - val_loss: 0.3195 - val_mae: 0.3195 - val_mse: 0.2241\n",
      "Epoch 15/20\n",
      "1096/1096 [==============================] - 3s 3ms/step - loss: 0.3161 - mae: 0.3161 - mse: 0.2214 - val_loss: 0.3175 - val_mae: 0.3175 - val_mse: 0.2286\n",
      "Epoch 16/20\n",
      "1096/1096 [==============================] - 3s 3ms/step - loss: 0.3138 - mae: 0.3138 - mse: 0.2222 - val_loss: 0.3147 - val_mae: 0.3147 - val_mse: 0.2233\n",
      "Epoch 17/20\n",
      "1096/1096 [==============================] - 4s 3ms/step - loss: 0.3109 - mae: 0.3109 - mse: 0.2223 - val_loss: 0.3140 - val_mae: 0.3140 - val_mse: 0.2228\n",
      "Epoch 18/20\n",
      "1096/1096 [==============================] - 3s 2ms/step - loss: 0.3082 - mae: 0.3082 - mse: 0.2224 - val_loss: 0.3104 - val_mae: 0.3104 - val_mse: 0.2217\n",
      "Epoch 19/20\n",
      "1096/1096 [==============================] - 3s 3ms/step - loss: 0.3053 - mae: 0.3053 - mse: 0.2233 - val_loss: 0.3063 - val_mae: 0.3063 - val_mse: 0.2284\n",
      "Epoch 20/20\n",
      "1096/1096 [==============================] - 3s 3ms/step - loss: 0.3024 - mae: 0.3024 - mse: 0.2249 - val_loss: 0.3031 - val_mae: 0.3031 - val_mse: 0.2299\n",
      "343/343 [==============================] - 1s 2ms/step\n",
      "Epoch 1/20\n",
      "1096/1096 [==============================] - 4s 3ms/step - loss: 0.4951 - mae: 0.4951 - mse: 0.4951 - val_loss: 0.5012 - val_mae: 0.5012 - val_mse: 0.5012\n",
      "Epoch 2/20\n",
      "1096/1096 [==============================] - 3s 3ms/step - loss: 0.4951 - mae: 0.4951 - mse: 0.4951 - val_loss: 0.5012 - val_mae: 0.5012 - val_mse: 0.5012\n",
      "Epoch 3/20\n",
      "1096/1096 [==============================] - 3s 3ms/step - loss: 0.4951 - mae: 0.4951 - mse: 0.4951 - val_loss: 0.5012 - val_mae: 0.5012 - val_mse: 0.5012\n",
      "Epoch 4/20\n",
      "1096/1096 [==============================] - 2s 2ms/step - loss: 0.4951 - mae: 0.4951 - mse: 0.4951 - val_loss: 0.5012 - val_mae: 0.5012 - val_mse: 0.5012\n",
      "Epoch 5/20\n",
      "1096/1096 [==============================] - 3s 2ms/step - loss: 0.4951 - mae: 0.4951 - mse: 0.4951 - val_loss: 0.5012 - val_mae: 0.5012 - val_mse: 0.5012\n",
      "Epoch 6/20\n",
      "1096/1096 [==============================] - 2s 2ms/step - loss: 0.4951 - mae: 0.4951 - mse: 0.4951 - val_loss: 0.5012 - val_mae: 0.5012 - val_mse: 0.5012\n",
      "Epoch 7/20\n",
      "1096/1096 [==============================] - 2s 2ms/step - loss: 0.4951 - mae: 0.4951 - mse: 0.4951 - val_loss: 0.5012 - val_mae: 0.5012 - val_mse: 0.5012\n",
      "Epoch 8/20\n",
      "1096/1096 [==============================] - 3s 3ms/step - loss: 0.4951 - mae: 0.4951 - mse: 0.4951 - val_loss: 0.5012 - val_mae: 0.5012 - val_mse: 0.5012\n",
      "Epoch 9/20\n",
      "1096/1096 [==============================] - 2s 2ms/step - loss: 0.4951 - mae: 0.4951 - mse: 0.4951 - val_loss: 0.5012 - val_mae: 0.5012 - val_mse: 0.5012\n",
      "Epoch 10/20\n",
      "1096/1096 [==============================] - 2s 2ms/step - loss: 0.4951 - mae: 0.4951 - mse: 0.4951 - val_loss: 0.5012 - val_mae: 0.5012 - val_mse: 0.5012\n",
      "Epoch 11/20\n",
      "1096/1096 [==============================] - 3s 2ms/step - loss: 0.4951 - mae: 0.4951 - mse: 0.4951 - val_loss: 0.5012 - val_mae: 0.5012 - val_mse: 0.5012\n",
      "Epoch 12/20\n",
      "1096/1096 [==============================] - 2s 2ms/step - loss: 0.4951 - mae: 0.4951 - mse: 0.4951 - val_loss: 0.5012 - val_mae: 0.5012 - val_mse: 0.5012\n",
      "Epoch 13/20\n",
      "1096/1096 [==============================] - 3s 2ms/step - loss: 0.4951 - mae: 0.4951 - mse: 0.4951 - val_loss: 0.5012 - val_mae: 0.5012 - val_mse: 0.5012\n",
      "Epoch 14/20\n",
      "1096/1096 [==============================] - 3s 3ms/step - loss: 0.4951 - mae: 0.4951 - mse: 0.4951 - val_loss: 0.5012 - val_mae: 0.5012 - val_mse: 0.5012\n",
      "Epoch 15/20\n",
      "1096/1096 [==============================] - 3s 3ms/step - loss: 0.4951 - mae: 0.4951 - mse: 0.4951 - val_loss: 0.5012 - val_mae: 0.5012 - val_mse: 0.5012\n",
      "Epoch 16/20\n",
      "1096/1096 [==============================] - 2s 2ms/step - loss: 0.4951 - mae: 0.4951 - mse: 0.4951 - val_loss: 0.5012 - val_mae: 0.5012 - val_mse: 0.5012\n",
      "Epoch 17/20\n",
      "1096/1096 [==============================] - 2s 2ms/step - loss: 0.4951 - mae: 0.4951 - mse: 0.4951 - val_loss: 0.5012 - val_mae: 0.5012 - val_mse: 0.5012\n",
      "Epoch 18/20\n",
      "1096/1096 [==============================] - 3s 2ms/step - loss: 0.4951 - mae: 0.4951 - mse: 0.4951 - val_loss: 0.5012 - val_mae: 0.5012 - val_mse: 0.5012\n",
      "Epoch 19/20\n",
      "1096/1096 [==============================] - 2s 2ms/step - loss: 0.4951 - mae: 0.4951 - mse: 0.4951 - val_loss: 0.5012 - val_mae: 0.5012 - val_mse: 0.5012\n",
      "Epoch 20/20\n",
      "1096/1096 [==============================] - 2s 2ms/step - loss: 0.4951 - mae: 0.4951 - mse: 0.4951 - val_loss: 0.5012 - val_mae: 0.5012 - val_mse: 0.5012\n",
      "343/343 [==============================] - 1s 2ms/step\n",
      "Epoch 1/20\n",
      "1370/1370 [==============================] - 3s 2ms/step - loss: 0.4120 - mae: 0.4120 - mse: 0.2990 - val_loss: 0.3741 - val_mae: 0.3741 - val_mse: 0.2403\n",
      "Epoch 2/20\n",
      "1370/1370 [==============================] - 3s 2ms/step - loss: 0.3486 - mae: 0.3486 - mse: 0.2281 - val_loss: 0.3402 - val_mae: 0.3402 - val_mse: 0.2375\n",
      "Epoch 3/20\n",
      "1370/1370 [==============================] - 3s 2ms/step - loss: 0.3303 - mae: 0.3303 - mse: 0.2276 - val_loss: 0.3277 - val_mae: 0.3277 - val_mse: 0.2333\n",
      "Epoch 4/20\n",
      "1370/1370 [==============================] - 3s 2ms/step - loss: 0.3212 - mae: 0.3212 - mse: 0.2282 - val_loss: 0.3230 - val_mae: 0.3230 - val_mse: 0.2418\n",
      "Epoch 5/20\n",
      "1370/1370 [==============================] - 4s 3ms/step - loss: 0.3140 - mae: 0.3140 - mse: 0.2300 - val_loss: 0.3133 - val_mae: 0.3133 - val_mse: 0.2348\n",
      "Epoch 6/20\n",
      "1370/1370 [==============================] - 3s 2ms/step - loss: 0.3067 - mae: 0.3067 - mse: 0.2311 - val_loss: 0.3074 - val_mae: 0.3074 - val_mse: 0.2385\n",
      "Epoch 7/20\n",
      "1370/1370 [==============================] - 3s 2ms/step - loss: 0.3001 - mae: 0.3001 - mse: 0.2335 - val_loss: 0.3010 - val_mae: 0.3010 - val_mse: 0.2339\n",
      "Epoch 8/20\n",
      "1370/1370 [==============================] - 3s 2ms/step - loss: 0.2933 - mae: 0.2933 - mse: 0.2371 - val_loss: 0.2956 - val_mae: 0.2956 - val_mse: 0.2477\n",
      "Epoch 9/20\n",
      "1370/1370 [==============================] - 3s 2ms/step - loss: 0.2878 - mae: 0.2878 - mse: 0.2391 - val_loss: 0.2919 - val_mae: 0.2919 - val_mse: 0.2493\n",
      "Epoch 10/20\n",
      "1370/1370 [==============================] - 3s 2ms/step - loss: 0.2845 - mae: 0.2845 - mse: 0.2430 - val_loss: 0.2866 - val_mae: 0.2866 - val_mse: 0.2484\n",
      "Epoch 11/20\n",
      "1370/1370 [==============================] - 3s 2ms/step - loss: 0.2822 - mae: 0.2822 - mse: 0.2439 - val_loss: 0.2862 - val_mae: 0.2862 - val_mse: 0.2505\n",
      "Epoch 12/20\n",
      "1370/1370 [==============================] - 4s 3ms/step - loss: 0.2800 - mae: 0.2800 - mse: 0.2450 - val_loss: 0.2860 - val_mae: 0.2860 - val_mse: 0.2518\n",
      "Epoch 13/20\n",
      "1370/1370 [==============================] - 3s 2ms/step - loss: 0.2790 - mae: 0.2790 - mse: 0.2464 - val_loss: 0.2846 - val_mae: 0.2846 - val_mse: 0.2482\n",
      "Epoch 14/20\n",
      "1370/1370 [==============================] - 2s 2ms/step - loss: 0.2775 - mae: 0.2775 - mse: 0.2466 - val_loss: 0.2815 - val_mae: 0.2815 - val_mse: 0.2531\n",
      "Epoch 15/20\n",
      "1370/1370 [==============================] - 4s 3ms/step - loss: 0.2773 - mae: 0.2773 - mse: 0.2486 - val_loss: 0.2811 - val_mae: 0.2811 - val_mse: 0.2492\n",
      "Epoch 16/20\n",
      "1370/1370 [==============================] - 4s 3ms/step - loss: 0.2760 - mae: 0.2760 - mse: 0.2488 - val_loss: 0.2814 - val_mae: 0.2814 - val_mse: 0.2582\n",
      "Epoch 17/20\n",
      "1370/1370 [==============================] - 3s 2ms/step - loss: 0.2763 - mae: 0.2763 - mse: 0.2500 - val_loss: 0.2792 - val_mae: 0.2792 - val_mse: 0.2552\n",
      "Epoch 18/20\n",
      "1370/1370 [==============================] - 3s 2ms/step - loss: 0.2755 - mae: 0.2755 - mse: 0.2505 - val_loss: 0.2820 - val_mae: 0.2820 - val_mse: 0.2556\n",
      "Epoch 19/20\n",
      "1370/1370 [==============================] - 3s 2ms/step - loss: 0.2753 - mae: 0.2753 - mse: 0.2498 - val_loss: 0.2794 - val_mae: 0.2794 - val_mse: 0.2559\n",
      "Epoch 20/20\n",
      "1370/1370 [==============================] - 2s 2ms/step - loss: 0.2745 - mae: 0.2745 - mse: 0.2505 - val_loss: 0.2796 - val_mae: 0.2796 - val_mse: 0.2555\n"
     ]
    },
    {
     "data": {
      "text/html": [
       "<style>#sk-container-id-1 {color: black;background-color: white;}#sk-container-id-1 pre{padding: 0;}#sk-container-id-1 div.sk-toggleable {background-color: white;}#sk-container-id-1 label.sk-toggleable__label {cursor: pointer;display: block;width: 100%;margin-bottom: 0;padding: 0.3em;box-sizing: border-box;text-align: center;}#sk-container-id-1 label.sk-toggleable__label-arrow:before {content: \"▸\";float: left;margin-right: 0.25em;color: #696969;}#sk-container-id-1 label.sk-toggleable__label-arrow:hover:before {color: black;}#sk-container-id-1 div.sk-estimator:hover label.sk-toggleable__label-arrow:before {color: black;}#sk-container-id-1 div.sk-toggleable__content {max-height: 0;max-width: 0;overflow: hidden;text-align: left;background-color: #f0f8ff;}#sk-container-id-1 div.sk-toggleable__content pre {margin: 0.2em;color: black;border-radius: 0.25em;background-color: #f0f8ff;}#sk-container-id-1 input.sk-toggleable__control:checked~div.sk-toggleable__content {max-height: 200px;max-width: 100%;overflow: auto;}#sk-container-id-1 input.sk-toggleable__control:checked~label.sk-toggleable__label-arrow:before {content: \"▾\";}#sk-container-id-1 div.sk-estimator input.sk-toggleable__control:checked~label.sk-toggleable__label {background-color: #d4ebff;}#sk-container-id-1 div.sk-label input.sk-toggleable__control:checked~label.sk-toggleable__label {background-color: #d4ebff;}#sk-container-id-1 input.sk-hidden--visually {border: 0;clip: rect(1px 1px 1px 1px);clip: rect(1px, 1px, 1px, 1px);height: 1px;margin: -1px;overflow: hidden;padding: 0;position: absolute;width: 1px;}#sk-container-id-1 div.sk-estimator {font-family: monospace;background-color: #f0f8ff;border: 1px dotted black;border-radius: 0.25em;box-sizing: border-box;margin-bottom: 0.5em;}#sk-container-id-1 div.sk-estimator:hover {background-color: #d4ebff;}#sk-container-id-1 div.sk-parallel-item::after {content: \"\";width: 100%;border-bottom: 1px solid gray;flex-grow: 1;}#sk-container-id-1 div.sk-label:hover label.sk-toggleable__label {background-color: #d4ebff;}#sk-container-id-1 div.sk-serial::before {content: \"\";position: absolute;border-left: 1px solid gray;box-sizing: border-box;top: 0;bottom: 0;left: 50%;z-index: 0;}#sk-container-id-1 div.sk-serial {display: flex;flex-direction: column;align-items: center;background-color: white;padding-right: 0.2em;padding-left: 0.2em;position: relative;}#sk-container-id-1 div.sk-item {position: relative;z-index: 1;}#sk-container-id-1 div.sk-parallel {display: flex;align-items: stretch;justify-content: center;background-color: white;position: relative;}#sk-container-id-1 div.sk-item::before, #sk-container-id-1 div.sk-parallel-item::before {content: \"\";position: absolute;border-left: 1px solid gray;box-sizing: border-box;top: 0;bottom: 0;left: 50%;z-index: -1;}#sk-container-id-1 div.sk-parallel-item {display: flex;flex-direction: column;z-index: 1;position: relative;background-color: white;}#sk-container-id-1 div.sk-parallel-item:first-child::after {align-self: flex-end;width: 50%;}#sk-container-id-1 div.sk-parallel-item:last-child::after {align-self: flex-start;width: 50%;}#sk-container-id-1 div.sk-parallel-item:only-child::after {width: 0;}#sk-container-id-1 div.sk-dashed-wrapped {border: 1px dashed gray;margin: 0 0.4em 0.5em 0.4em;box-sizing: border-box;padding-bottom: 0.4em;background-color: white;}#sk-container-id-1 div.sk-label label {font-family: monospace;font-weight: bold;display: inline-block;line-height: 1.2em;}#sk-container-id-1 div.sk-label-container {text-align: center;}#sk-container-id-1 div.sk-container {/* jupyter's `normalize.less` sets `[hidden] { display: none; }` but bootstrap.min.css set `[hidden] { display: none !important; }` so we also need the `!important` here to be able to override the default hidden behavior on the sphinx rendered scikit-learn.org. See: https://github.com/scikit-learn/scikit-learn/issues/21755 */display: inline-block !important;position: relative;}#sk-container-id-1 div.sk-text-repr-fallback {display: none;}</style><div id=\"sk-container-id-1\" class=\"sk-top-container\"><div class=\"sk-text-repr-fallback\"><pre>GridSearchCV(cv=KFold(n_splits=5, random_state=2022, shuffle=True),\n",
       "             estimator=&lt;keras.wrappers.scikit_learn.KerasRegressor object at 0x7f3e28518250&gt;,\n",
       "             param_grid={&#x27;activation&#x27;: [&#x27;relu&#x27;, &#x27;sigmoid&#x27;],\n",
       "                         &#x27;learning_rate&#x27;: [0.02, 0.001]},\n",
       "             refit=&#x27;True&#x27;, scoring=&#x27;neg_mean_absolute_error&#x27;, verbose=1)</pre><b>In a Jupyter environment, please rerun this cell to show the HTML representation or trust the notebook. <br />On GitHub, the HTML representation is unable to render, please try loading this page with nbviewer.org.</b></div><div class=\"sk-container\" hidden><div class=\"sk-item sk-dashed-wrapped\"><div class=\"sk-label-container\"><div class=\"sk-label sk-toggleable\"><input class=\"sk-toggleable__control sk-hidden--visually\" id=\"sk-estimator-id-1\" type=\"checkbox\" ><label for=\"sk-estimator-id-1\" class=\"sk-toggleable__label sk-toggleable__label-arrow\">GridSearchCV</label><div class=\"sk-toggleable__content\"><pre>GridSearchCV(cv=KFold(n_splits=5, random_state=2022, shuffle=True),\n",
       "             estimator=&lt;keras.wrappers.scikit_learn.KerasRegressor object at 0x7f3e28518250&gt;,\n",
       "             param_grid={&#x27;activation&#x27;: [&#x27;relu&#x27;, &#x27;sigmoid&#x27;],\n",
       "                         &#x27;learning_rate&#x27;: [0.02, 0.001]},\n",
       "             refit=&#x27;True&#x27;, scoring=&#x27;neg_mean_absolute_error&#x27;, verbose=1)</pre></div></div></div><div class=\"sk-parallel\"><div class=\"sk-parallel-item\"><div class=\"sk-item\"><div class=\"sk-label-container\"><div class=\"sk-label sk-toggleable\"><input class=\"sk-toggleable__control sk-hidden--visually\" id=\"sk-estimator-id-2\" type=\"checkbox\" ><label for=\"sk-estimator-id-2\" class=\"sk-toggleable__label sk-toggleable__label-arrow\">estimator: KerasRegressor</label><div class=\"sk-toggleable__content\"><pre>&lt;keras.wrappers.scikit_learn.KerasRegressor object at 0x7f3e28518250&gt;</pre></div></div></div><div class=\"sk-serial\"><div class=\"sk-item\"><div class=\"sk-estimator sk-toggleable\"><input class=\"sk-toggleable__control sk-hidden--visually\" id=\"sk-estimator-id-3\" type=\"checkbox\" ><label for=\"sk-estimator-id-3\" class=\"sk-toggleable__label sk-toggleable__label-arrow\">KerasRegressor</label><div class=\"sk-toggleable__content\"><pre>&lt;keras.wrappers.scikit_learn.KerasRegressor object at 0x7f3e28518250&gt;</pre></div></div></div></div></div></div></div></div></div></div>"
      ],
      "text/plain": [
       "GridSearchCV(cv=KFold(n_splits=5, random_state=2022, shuffle=True),\n",
       "             estimator=<keras.wrappers.scikit_learn.KerasRegressor object at 0x7f3e28518250>,\n",
       "             param_grid={'activation': ['relu', 'sigmoid'],\n",
       "                         'learning_rate': [0.02, 0.001]},\n",
       "             refit='True', scoring='neg_mean_absolute_error', verbose=1)"
      ]
     },
     "execution_count": 123,
     "metadata": {},
     "output_type": "execute_result"
    }
   ],
   "source": [
    "kf = KFold(n_splits=5, shuffle=True, random_state=RANDOM_SEED)\n",
    "\n",
    "model = KerasRegressor(build_fn=build_model, epochs=20,batch_size=32)\n",
    "grid_search = GridSearchCV(estimator=model,\n",
    "                           param_grid= TUNING_DICT,\n",
    "                           cv = kf,\n",
    "                           scoring=\"neg_mean_absolute_error\",\n",
    "                           refit=\"True\",\n",
    "                           verbose = 1)\n",
    "\n",
    "grid_search.fit(x_train,y_train,validation_split=0.2)"
   ]
  },
  {
   "cell_type": "code",
   "execution_count": 124,
   "metadata": {
    "collapsed": false
   },
   "outputs": [
    {
     "name": "stdout",
     "output_type": "stream",
     "text": [
      "Best : -0.320759 using {'activation': 'relu', 'learning_rate': 0.001}\n",
      "-0.409915  (0.104905) with: {'activation': 'relu', 'learning_rate': 0.02}\n",
      "-0.320759  (0.090156) with: {'activation': 'relu', 'learning_rate': 0.001}\n",
      "-0.452833  (0.086999) with: {'activation': 'sigmoid', 'learning_rate': 0.02}\n",
      "-0.413836  (0.100364) with: {'activation': 'sigmoid', 'learning_rate': 0.001}\n"
     ]
    }
   ],
   "source": [
    "print(\"Best : %f using %s\" % (grid_search.best_score_, grid_search.best_params_))\n",
    "means = grid_search.cv_results_[\"mean_test_score\"]\n",
    "stds = grid_search.cv_results_[\"std_test_score\"]\n",
    "params = grid_search.cv_results_[\"params\"]\n",
    "for mean, stdev, param in zip(means, stds, params):\n",
    "    print(\"%f  (%f) with: %r\" % (mean, stdev, param))"
   ]
  },
  {
   "cell_type": "code",
   "execution_count": 41,
   "metadata": {},
   "outputs": [
    {
     "ename": "AttributeError",
     "evalue": "'GridSearchCV' object has no attribute 'best_estimator_'",
     "output_type": "error",
     "traceback": [
      "\u001b[0;31m---------------------------------------------------------------------------\u001b[0m",
      "\u001b[0;31mAttributeError\u001b[0m                            Traceback (most recent call last)",
      "\u001b[1;32m/home/francisco/UNI/DAA/DAA_TP/cardio.ipynb Cell 63\u001b[0m in \u001b[0;36m<cell line: 1>\u001b[0;34m()\u001b[0m\n\u001b[0;32m----> <a href='vscode-notebook-cell:/home/francisco/UNI/DAA/DAA_TP/cardio.ipynb#Y250sZmlsZQ%3D%3D?line=0'>1</a>\u001b[0m best_mlp_model \u001b[39m=\u001b[39m grid_search\u001b[39m.\u001b[39;49mbest_estimator_\n\u001b[1;32m      <a href='vscode-notebook-cell:/home/francisco/UNI/DAA/DAA_TP/cardio.ipynb#Y250sZmlsZQ%3D%3D?line=2'>3</a>\u001b[0m predictions \u001b[39m=\u001b[39m best_mlp_model\u001b[39m.\u001b[39mpredict(x_test)\n\u001b[1;32m      <a href='vscode-notebook-cell:/home/francisco/UNI/DAA/DAA_TP/cardio.ipynb#Y250sZmlsZQ%3D%3D?line=3'>4</a>\u001b[0m predictions \u001b[39m=\u001b[39m predictions\u001b[39m.\u001b[39mreshape(predictions\u001b[39m.\u001b[39mshape[\u001b[39m0\u001b[39m],\u001b[39m1\u001b[39m)\n",
      "\u001b[0;31mAttributeError\u001b[0m: 'GridSearchCV' object has no attribute 'best_estimator_'"
     ]
    }
   ],
   "source": [
    "best_mlp_model = grid_search.best_estimator_\n",
    "\n",
    "predictions = best_mlp_model.predict(x_test)\n",
    "predictions = predictions.reshape(predictions.shape[0],1)\n",
    "predictions[:5]"
   ]
  },
  {
   "cell_type": "code",
   "execution_count": null,
   "metadata": {},
   "outputs": [],
   "source": [
    "predictions_unscaled = scaler_y.inverse_transform(predictions)\n",
    "predictions_unscaled[:5]"
   ]
  },
  {
   "cell_type": "code",
   "execution_count": null,
   "metadata": {},
   "outputs": [],
   "source": [
    "y_test_unscaled = scaler_y.inverse_transform(y_test)\n",
    "y_test_unscaled[:5]"
   ]
  },
  {
   "cell_type": "code",
   "execution_count": null,
   "metadata": {},
   "outputs": [],
   "source": [
    "print(\"MAE:\", metrics.mean_absolute_error(y_test,predictions))\n",
    "print(\"MSE:\", metrics.mean_squared_error(y_test,predictions))\n",
    "print(\"RMSE:\", np.sqrt(metrics.mean_absolute_error(y_test,predictions)))"
   ]
  }
 ],
 "metadata": {
  "kernelspec": {
   "display_name": "Python 3.6.13 ('envz')",
   "language": "python",
   "name": "python3"
  },
  "language_info": {
   "codemirror_mode": {
    "name": "ipython",
    "version": 3
   },
   "file_extension": ".py",
   "mimetype": "text/x-python",
   "name": "python",
   "nbconvert_exporter": "python",
   "pygments_lexer": "ipython3",
   "version": "3.6.13"
  },
  "orig_nbformat": 4,
  "vscode": {
   "interpreter": {
    "hash": "49c2b8d4964d4ea528f9082ef1015356a5ce9b103e55a25d0851ca67da7ad0a1"
   }
  }
 },
 "nbformat": 4,
 "nbformat_minor": 2
}
