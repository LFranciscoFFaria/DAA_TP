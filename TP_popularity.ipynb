{
 "cells": [
  {
   "cell_type": "code",
   "execution_count": 257,
   "id": "9b3d3705",
   "metadata": {},
   "outputs": [],
   "source": [
    "import sklearn as skl\n",
    "import pandas as pd\n",
    "import matplotlib.pyplot as plt\n",
    "import seaborn as sns\n",
    "from sklearn import preprocessing\n",
    "\n",
    "import pandas as pd\n",
    "import numpy as np\n",
    "%matplotlib inline"
   ]
  },
  {
   "cell_type": "code",
   "execution_count": 258,
   "id": "873b6827",
   "metadata": {},
   "outputs": [],
   "source": [
    "data = pd.read_csv(\"dataset.csv\")"
   ]
  },
  {
   "cell_type": "code",
   "execution_count": 259,
   "id": "941177c2",
   "metadata": {},
   "outputs": [
    {
     "data": {
      "text/plain": [
       "Index(['Unnamed: 0', 'track_id', 'artists', 'album_name', 'track_name',\n",
       "       'popularity', 'duration_ms', 'explicit', 'danceability', 'energy',\n",
       "       'key', 'loudness', 'mode', 'speechiness', 'acousticness',\n",
       "       'instrumentalness', 'liveness', 'valence', 'tempo', 'time_signature',\n",
       "       'track_genre'],\n",
       "      dtype='object')"
      ]
     },
     "execution_count": 259,
     "metadata": {},
     "output_type": "execute_result"
    }
   ],
   "source": [
    "data.keys()"
   ]
  },
  {
   "cell_type": "code",
   "execution_count": 260,
   "id": "aaf6e758",
   "metadata": {},
   "outputs": [
    {
     "name": "stdout",
     "output_type": "stream",
     "text": [
      "<class 'pandas.core.frame.DataFrame'>\n",
      "RangeIndex: 114000 entries, 0 to 113999\n",
      "Data columns (total 21 columns):\n",
      " #   Column            Non-Null Count   Dtype  \n",
      "---  ------            --------------   -----  \n",
      " 0   Unnamed: 0        114000 non-null  int64  \n",
      " 1   track_id          114000 non-null  object \n",
      " 2   artists           113999 non-null  object \n",
      " 3   album_name        113999 non-null  object \n",
      " 4   track_name        113999 non-null  object \n",
      " 5   popularity        114000 non-null  int64  \n",
      " 6   duration_ms       114000 non-null  int64  \n",
      " 7   explicit          114000 non-null  bool   \n",
      " 8   danceability      114000 non-null  float64\n",
      " 9   energy            114000 non-null  float64\n",
      " 10  key               114000 non-null  int64  \n",
      " 11  loudness          114000 non-null  float64\n",
      " 12  mode              114000 non-null  int64  \n",
      " 13  speechiness       114000 non-null  float64\n",
      " 14  acousticness      114000 non-null  float64\n",
      " 15  instrumentalness  114000 non-null  float64\n",
      " 16  liveness          114000 non-null  float64\n",
      " 17  valence           114000 non-null  float64\n",
      " 18  tempo             114000 non-null  float64\n",
      " 19  time_signature    114000 non-null  int64  \n",
      " 20  track_genre       114000 non-null  object \n",
      "dtypes: bool(1), float64(9), int64(6), object(5)\n",
      "memory usage: 17.5+ MB\n"
     ]
    }
   ],
   "source": [
    "data.info()"
   ]
  },
  {
   "cell_type": "code",
   "execution_count": 261,
   "id": "4642fd1d",
   "metadata": {},
   "outputs": [
    {
     "name": "stdout",
     "output_type": "stream",
     "text": [
      "<class 'pandas.core.frame.DataFrame'>\n",
      "RangeIndex: 114000 entries, 0 to 113999\n",
      "Data columns (total 17 columns):\n",
      " #   Column            Non-Null Count   Dtype  \n",
      "---  ------            --------------   -----  \n",
      " 0   Unnamed: 0        114000 non-null  int64  \n",
      " 1   popularity        114000 non-null  int64  \n",
      " 2   duration_ms       114000 non-null  int64  \n",
      " 3   explicit          114000 non-null  bool   \n",
      " 4   danceability      114000 non-null  float64\n",
      " 5   energy            114000 non-null  float64\n",
      " 6   key               114000 non-null  int64  \n",
      " 7   loudness          114000 non-null  float64\n",
      " 8   mode              114000 non-null  int64  \n",
      " 9   speechiness       114000 non-null  float64\n",
      " 10  acousticness      114000 non-null  float64\n",
      " 11  instrumentalness  114000 non-null  float64\n",
      " 12  liveness          114000 non-null  float64\n",
      " 13  valence           114000 non-null  float64\n",
      " 14  tempo             114000 non-null  float64\n",
      " 15  time_signature    114000 non-null  int64  \n",
      " 16  track_genre       114000 non-null  object \n",
      "dtypes: bool(1), float64(9), int64(6), object(1)\n",
      "memory usage: 14.0+ MB\n"
     ]
    }
   ],
   "source": [
    "data = data.drop([\"track_id\",\"track_name\",\"album_name\",\"artists\"],axis=1)\n",
    "\n",
    "data['track_genre'] = data['track_genre'].astype(str)\n",
    "#data['track_genre'] = pd.to_numeric(data['track_genre'])\n",
    "\n",
    "data.info()"
   ]
  },
  {
   "cell_type": "code",
   "execution_count": 262,
   "id": "f3595b6e",
   "metadata": {},
   "outputs": [
    {
     "name": "stdout",
     "output_type": "stream",
     "text": [
      "        Unnamed: 0  popularity  duration_ms  explicit  danceability  energy  \\\n",
      "0                0          73       230666     False         0.676  0.4610   \n",
      "1                1          55       149610     False         0.420  0.1660   \n",
      "2                2          57       210826     False         0.438  0.3590   \n",
      "3                3          71       201933     False         0.266  0.0596   \n",
      "4                4          82       198853     False         0.618  0.4430   \n",
      "...            ...         ...          ...       ...           ...     ...   \n",
      "113995      113995          21       384999     False         0.172  0.2350   \n",
      "113996      113996          22       385000     False         0.174  0.1170   \n",
      "113997      113997          22       271466     False         0.629  0.3290   \n",
      "113998      113998          41       283893     False         0.587  0.5060   \n",
      "113999      113999          22       241826     False         0.526  0.4870   \n",
      "\n",
      "        key  loudness  mode  speechiness  ...  104  105  106  107  108  109  \\\n",
      "0         1    -6.746     0       0.1430  ...  0.0  0.0  0.0  0.0  0.0  0.0   \n",
      "1         1   -17.235     1       0.0763  ...  0.0  0.0  0.0  0.0  0.0  0.0   \n",
      "2         0    -9.734     1       0.0557  ...  0.0  0.0  0.0  0.0  0.0  0.0   \n",
      "3         0   -18.515     1       0.0363  ...  0.0  0.0  0.0  0.0  0.0  0.0   \n",
      "4         2    -9.681     1       0.0526  ...  0.0  0.0  0.0  0.0  0.0  0.0   \n",
      "...     ...       ...   ...          ...  ...  ...  ...  ...  ...  ...  ...   \n",
      "113995    5   -16.393     1       0.0422  ...  0.0  0.0  0.0  0.0  0.0  0.0   \n",
      "113996    0   -18.318     0       0.0401  ...  0.0  0.0  0.0  0.0  0.0  0.0   \n",
      "113997    0   -10.895     0       0.0420  ...  0.0  0.0  0.0  0.0  0.0  0.0   \n",
      "113998    7   -10.889     1       0.0297  ...  0.0  0.0  0.0  0.0  0.0  0.0   \n",
      "113999    1   -10.204     0       0.0725  ...  0.0  0.0  0.0  0.0  0.0  0.0   \n",
      "\n",
      "        110  111  112  113  \n",
      "0       0.0  0.0  0.0  0.0  \n",
      "1       0.0  0.0  0.0  0.0  \n",
      "2       0.0  0.0  0.0  0.0  \n",
      "3       0.0  0.0  0.0  0.0  \n",
      "4       0.0  0.0  0.0  0.0  \n",
      "...     ...  ...  ...  ...  \n",
      "113995  0.0  0.0  0.0  1.0  \n",
      "113996  0.0  0.0  0.0  1.0  \n",
      "113997  0.0  0.0  0.0  1.0  \n",
      "113998  0.0  0.0  0.0  1.0  \n",
      "113999  0.0  0.0  0.0  1.0  \n",
      "\n",
      "[114000 rows x 131 columns]\n"
     ]
    }
   ],
   "source": [
    "from sklearn.preprocessing import OneHotEncoder, LabelEncoder\n",
    "Y = data[\"popularity\"]\n",
    "genre = data[\"track_genre\"]\n",
    "le = preprocessing.LabelEncoder()\n",
    "le.fit(genre)\n",
    "data['track_genre'] = le.transform(genre)\n",
    "\n",
    "#creating instance of one-hot-encoder\n",
    "encoder = OneHotEncoder(handle_unknown='ignore')\n",
    "\n",
    "#perform one-hot encoding on 'team' column \n",
    "encoder_data = pd.DataFrame(encoder.fit_transform(data[['track_genre']]).toarray())\n",
    "\n",
    "#merge one-hot encoded columns back with original DataFrame\n",
    "final_data = data.join(encoder_data)\n",
    "\n",
    "print(final_data)\n",
    "X = data.drop([\"popularity\"],axis=1)"
   ]
  },
  {
   "cell_type": "code",
   "execution_count": 263,
   "id": "ca523e13",
   "metadata": {},
   "outputs": [
    {
     "data": {
      "text/plain": [
       "0         73\n",
       "1         55\n",
       "2         57\n",
       "3         71\n",
       "4         82\n",
       "          ..\n",
       "113995    21\n",
       "113996    22\n",
       "113997    22\n",
       "113998    41\n",
       "113999    22\n",
       "Name: popularity, Length: 114000, dtype: int64"
      ]
     },
     "execution_count": 263,
     "metadata": {},
     "output_type": "execute_result"
    }
   ],
   "source": [
    "Y"
   ]
  },
  {
   "cell_type": "code",
   "execution_count": 264,
   "id": "0fd5f28a",
   "metadata": {},
   "outputs": [],
   "source": [
    "from sklearn.model_selection import train_test_split\n",
    "x_train,x_test,y_train,y_test = train_test_split(X,Y,test_size=0.25,random_state=2022)"
   ]
  },
  {
   "cell_type": "code",
   "execution_count": 265,
   "id": "601b7c65",
   "metadata": {},
   "outputs": [
    {
     "data": {
      "text/html": [
       "<style>#sk-container-id-14 {color: black;background-color: white;}#sk-container-id-14 pre{padding: 0;}#sk-container-id-14 div.sk-toggleable {background-color: white;}#sk-container-id-14 label.sk-toggleable__label {cursor: pointer;display: block;width: 100%;margin-bottom: 0;padding: 0.3em;box-sizing: border-box;text-align: center;}#sk-container-id-14 label.sk-toggleable__label-arrow:before {content: \"▸\";float: left;margin-right: 0.25em;color: #696969;}#sk-container-id-14 label.sk-toggleable__label-arrow:hover:before {color: black;}#sk-container-id-14 div.sk-estimator:hover label.sk-toggleable__label-arrow:before {color: black;}#sk-container-id-14 div.sk-toggleable__content {max-height: 0;max-width: 0;overflow: hidden;text-align: left;background-color: #f0f8ff;}#sk-container-id-14 div.sk-toggleable__content pre {margin: 0.2em;color: black;border-radius: 0.25em;background-color: #f0f8ff;}#sk-container-id-14 input.sk-toggleable__control:checked~div.sk-toggleable__content {max-height: 200px;max-width: 100%;overflow: auto;}#sk-container-id-14 input.sk-toggleable__control:checked~label.sk-toggleable__label-arrow:before {content: \"▾\";}#sk-container-id-14 div.sk-estimator input.sk-toggleable__control:checked~label.sk-toggleable__label {background-color: #d4ebff;}#sk-container-id-14 div.sk-label input.sk-toggleable__control:checked~label.sk-toggleable__label {background-color: #d4ebff;}#sk-container-id-14 input.sk-hidden--visually {border: 0;clip: rect(1px 1px 1px 1px);clip: rect(1px, 1px, 1px, 1px);height: 1px;margin: -1px;overflow: hidden;padding: 0;position: absolute;width: 1px;}#sk-container-id-14 div.sk-estimator {font-family: monospace;background-color: #f0f8ff;border: 1px dotted black;border-radius: 0.25em;box-sizing: border-box;margin-bottom: 0.5em;}#sk-container-id-14 div.sk-estimator:hover {background-color: #d4ebff;}#sk-container-id-14 div.sk-parallel-item::after {content: \"\";width: 100%;border-bottom: 1px solid gray;flex-grow: 1;}#sk-container-id-14 div.sk-label:hover label.sk-toggleable__label {background-color: #d4ebff;}#sk-container-id-14 div.sk-serial::before {content: \"\";position: absolute;border-left: 1px solid gray;box-sizing: border-box;top: 0;bottom: 0;left: 50%;z-index: 0;}#sk-container-id-14 div.sk-serial {display: flex;flex-direction: column;align-items: center;background-color: white;padding-right: 0.2em;padding-left: 0.2em;position: relative;}#sk-container-id-14 div.sk-item {position: relative;z-index: 1;}#sk-container-id-14 div.sk-parallel {display: flex;align-items: stretch;justify-content: center;background-color: white;position: relative;}#sk-container-id-14 div.sk-item::before, #sk-container-id-14 div.sk-parallel-item::before {content: \"\";position: absolute;border-left: 1px solid gray;box-sizing: border-box;top: 0;bottom: 0;left: 50%;z-index: -1;}#sk-container-id-14 div.sk-parallel-item {display: flex;flex-direction: column;z-index: 1;position: relative;background-color: white;}#sk-container-id-14 div.sk-parallel-item:first-child::after {align-self: flex-end;width: 50%;}#sk-container-id-14 div.sk-parallel-item:last-child::after {align-self: flex-start;width: 50%;}#sk-container-id-14 div.sk-parallel-item:only-child::after {width: 0;}#sk-container-id-14 div.sk-dashed-wrapped {border: 1px dashed gray;margin: 0 0.4em 0.5em 0.4em;box-sizing: border-box;padding-bottom: 0.4em;background-color: white;}#sk-container-id-14 div.sk-label label {font-family: monospace;font-weight: bold;display: inline-block;line-height: 1.2em;}#sk-container-id-14 div.sk-label-container {text-align: center;}#sk-container-id-14 div.sk-container {/* jupyter's `normalize.less` sets `[hidden] { display: none; }` but bootstrap.min.css set `[hidden] { display: none !important; }` so we also need the `!important` here to be able to override the default hidden behavior on the sphinx rendered scikit-learn.org. See: https://github.com/scikit-learn/scikit-learn/issues/21755 */display: inline-block !important;position: relative;}#sk-container-id-14 div.sk-text-repr-fallback {display: none;}</style><div id=\"sk-container-id-14\" class=\"sk-top-container\"><div class=\"sk-text-repr-fallback\"><pre>DecisionTreeRegressor(random_state=2022)</pre><b>In a Jupyter environment, please rerun this cell to show the HTML representation or trust the notebook. <br />On GitHub, the HTML representation is unable to render, please try loading this page with nbviewer.org.</b></div><div class=\"sk-container\" hidden><div class=\"sk-item\"><div class=\"sk-estimator sk-toggleable\"><input class=\"sk-toggleable__control sk-hidden--visually\" id=\"sk-estimator-id-14\" type=\"checkbox\" checked><label for=\"sk-estimator-id-14\" class=\"sk-toggleable__label sk-toggleable__label-arrow\">DecisionTreeRegressor</label><div class=\"sk-toggleable__content\"><pre>DecisionTreeRegressor(random_state=2022)</pre></div></div></div></div></div>"
      ],
      "text/plain": [
       "DecisionTreeRegressor(random_state=2022)"
      ]
     },
     "execution_count": 265,
     "metadata": {},
     "output_type": "execute_result"
    }
   ],
   "source": [
    "from sklearn.tree import DecisionTreeClassifier, DecisionTreeRegressor\n",
    "clf=DecisionTreeRegressor(random_state=2022)\n",
    "\n",
    "clf.fit(x_train,y_train)\n",
    "\n",
    "import tensorflow as tf\n",
    "from te\n",
    "\n",
    "def build_model(activation=\"relu\", learning_rate=0.01):\n",
    "    model = Sequential()\n",
    "    model.add(Dense(16, input_dim=5, activation=activation))\n",
    "    model.add(Dense(8, activation=activation))\n",
    "    model.add(Dense(1, activation=\"relu\"))\n",
    "\n",
    "    model.compile(\n",
    "        loss = \"mae\",\n",
    "        optimizer = tf.optimizers.Adam(learning_rate),\n",
    "        metrics = [\"mae\",\"mae\"])\n",
    "\n",
    "    return model"
   ]
  },
  {
   "cell_type": "code",
   "execution_count": 266,
   "id": "ae25d1a6",
   "metadata": {},
   "outputs": [],
   "source": [
    "from sklearn.metrics import confusion_matrix, accuracy_score, precision_score, recall_score\n",
    "predictions = clf.predict(x_test)\n",
    "#confusion_matrix(y_test,predictions)\n"
   ]
  },
  {
   "cell_type": "code",
   "execution_count": 267,
   "id": "2aa37bb4",
   "metadata": {},
   "outputs": [
    {
     "data": {
      "text/plain": [
       "0.24228070175438596"
      ]
     },
     "execution_count": 267,
     "metadata": {},
     "output_type": "execute_result"
    }
   ],
   "source": [
    "accuracy_score(y_test,predictions)"
   ]
  },
  {
   "cell_type": "code",
   "execution_count": 268,
   "id": "cac41b37",
   "metadata": {},
   "outputs": [
    {
     "data": {
      "text/plain": [
       "0.24228070175438596"
      ]
     },
     "execution_count": 268,
     "metadata": {},
     "output_type": "execute_result"
    }
   ],
   "source": [
    "precision_score(y_test,predictions,average=\"micro\")"
   ]
  },
  {
   "cell_type": "code",
   "execution_count": 269,
   "id": "47114b7d",
   "metadata": {},
   "outputs": [
    {
     "data": {
      "text/plain": [
       "0.24228070175438596"
      ]
     },
     "execution_count": 269,
     "metadata": {},
     "output_type": "execute_result"
    }
   ],
   "source": [
    "recall_score(y_test,predictions,average=\"micro\")"
   ]
  },
  {
   "cell_type": "code",
   "execution_count": 270,
   "id": "845517a5",
   "metadata": {},
   "outputs": [],
   "source": [
    "#X.describe()"
   ]
  }
 ],
 "metadata": {
  "kernelspec": {
   "display_name": "Python 3.9.12 ('base')",
   "language": "python",
   "name": "python3"
  },
  "language_info": {
   "codemirror_mode": {
    "name": "ipython",
    "version": 3
   },
   "file_extension": ".py",
   "mimetype": "text/x-python",
   "name": "python",
   "nbconvert_exporter": "python",
   "pygments_lexer": "ipython3",
   "version": "3.9.12"
  },
  "vscode": {
   "interpreter": {
    "hash": "f9a117f9b0c690ecb136c9f00b99f8f3ee62e1139d2a33f8de939840a6186ba4"
   }
  }
 },
 "nbformat": 4,
 "nbformat_minor": 5
}
