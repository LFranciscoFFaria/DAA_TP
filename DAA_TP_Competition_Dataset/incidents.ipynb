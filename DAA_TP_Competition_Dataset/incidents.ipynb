{
 "cells": [
  {
   "cell_type": "markdown",
   "metadata": {
    "collapsed": false
   },
   "source": [
    "---\n",
    "# Carregar Dataset\n",
    "---"
   ]
  },
  {
   "cell_type": "code",
   "execution_count": null,
   "metadata": {
    "collapsed": true
   },
   "outputs": [],
   "source": [
    "import numpy as np\n",
    "import sklearn as skl\n",
    "import pandas as pd\n",
    "import matplotlib.pyplot as plt\n",
    "import seaborn as sns\n",
    "import math\n",
    "from sklearn.ensemble import RandomForestClassifier\n",
    "import statistics\n",
    "from sklearn.feature_selection import SelectKBest,f_classif\n",
    "from sklearn import preprocessing\n",
    "from sklearn.model_selection import GridSearchCV, KFold, train_test_split,StratifiedKFold\n",
    "from sklearn.preprocessing import MinMaxScaler\n",
    "from sklearn import metrics\n",
    "\n",
    "import tensorflow as tf\n",
    "from keras.models import Sequential\n",
    "from keras.layers import Dense, Dropout, BatchNormalization\n",
    "from keras.wrappers.scikit_learn import KerasRegressor\n",
    "#from tensorflow.keras.models  import Sequential\n",
    "#from tensorflow.keras.layers import Dense, Dropout, BatchNormalization\n",
    "#from tensorflow.keras.wrappers.scikit_learn import KerasRegressor\n",
    "\n",
    "RANDOM_SEED = 2022"
   ]
  },
  {
   "cell_type": "code",
   "execution_count": null,
   "metadata": {
    "collapsed": false
   },
   "outputs": [],
   "source": [
    "df = pd.read_csv(\"training_data.csv\")\n",
    "df_test = pd.read_csv(\"test_data.csv\")"
   ]
  },
  {
   "cell_type": "markdown",
   "metadata": {
    "collapsed": false
   },
   "source": [
    "---\n",
    "# Exploração de dados\n",
    "---"
   ]
  },
  {
   "cell_type": "markdown",
   "metadata": {
    "collapsed": false
   },
   "source": [
    "- **city_name** - nome da cidade em causa;\n",
    "- **record_date** - o timestamp associado ao registo;\n",
    "- **magnitude_of_delay** - magnitude do atraso provocado pelos incidentes que se verificam no record_date correspondente;\n",
    "- **delay_in_seconds** - atraso, em segundos, provocado pelos incidentes que se verificam no record_date correspondente;\n",
    "- **affected_roads** - estradas afectadas pelos incidentes que se verificam no record_date correspondente;\n",
    "- **luminosity** - o nível de luminosidade que se verificava na cidade de Guimarães;\n",
    "- **avg_temperature** - valor médio da temperatura para o record_date na cidade de Guimarães;\n",
    "- **avg_atm_pressure** - valor médio da pressão atmosférica para o record_date na cidade de Guimarães;\n",
    "- **avg_humidity** - valor médio de humidade para o record_date na cidade de Guimarães;\n",
    "- **avg_wind_speed** - valor médio da velocidade do vento para o record_date na cidade de Guimarães;\n",
    "- **avg_precipitation** - valor médio de precipitação para o record_date na cidade de Guimarães;\n",
    "- **avg_rain** - avaliação qualitativa do nível de precipitação para o record_date na cidade de Guimarães;\n",
    "- **incidents** - indicação acerca do nível de incidentes rodoviários que se verificam no record_date correspondente na cidade de Guimarães."
   ]
  },
  {
   "cell_type": "code",
   "execution_count": null,
   "metadata": {
    "collapsed": false
   },
   "outputs": [],
   "source": [
    "df.columns"
   ]
  },
  {
   "cell_type": "code",
   "execution_count": null,
   "metadata": {},
   "outputs": [],
   "source": [
    "df.info()"
   ]
  },
  {
   "cell_type": "code",
   "execution_count": null,
   "metadata": {},
   "outputs": [],
   "source": [
    "df.head()"
   ]
  },
  {
   "cell_type": "code",
   "execution_count": null,
   "metadata": {},
   "outputs": [],
   "source": [
    "print(\"------------\\n\" + \"Value counts (incidents):\\n\\n\" + df['incidents'].value_counts().to_string() + \"\\n------------\\n\")\n",
    "\n",
    "for s in ['city_name','magnitude_of_delay','luminosity','avg_rain']:\n",
    "    print(\"------------\\n\" + \"Value counts (\" + s + \"):\\n\\n\" + \"training dataset:\\n\" + df[s].value_counts().to_string() + \n",
    "          \"\\n\\ntest dataset:\\n\" + df_test[s].value_counts().to_string() + \"\\n------------\\n\")"
   ]
  },
  {
   "cell_type": "code",
   "execution_count": null,
   "metadata": {},
   "outputs": [],
   "source": [
    "print(\"training dataset:\" ,df['avg_precipitation'].value_counts())\n",
    "print(\"\\ntest dataset:\" ,df['avg_precipitation'].value_counts())"
   ]
  },
  {
   "cell_type": "code",
   "execution_count": null,
   "metadata": {},
   "outputs": [],
   "source": [
    "#Values are always the same (irrelevant features)\n",
    "df.drop(['city_name','avg_precipitation'], axis=1, inplace=True)\n",
    "df_test.drop(['city_name','avg_precipitation'], axis=1, inplace=True)"
   ]
  },
  {
   "cell_type": "code",
   "execution_count": null,
   "metadata": {},
   "outputs": [],
   "source": [
    "df.describe()"
   ]
  },
  {
   "cell_type": "code",
   "execution_count": null,
   "metadata": {},
   "outputs": [],
   "source": [
    "print(f\"Skewness: \\n{df.skew()}\")\n",
    "print(f\"\\nKurtosis: \\n{df.kurt()}\")"
   ]
  },
  {
   "cell_type": "code",
   "execution_count": null,
   "metadata": {},
   "outputs": [],
   "source": [
    "sns.pairplot(df)"
   ]
  },
  {
   "cell_type": "code",
   "execution_count": null,
   "metadata": {},
   "outputs": [],
   "source": [
    "sns.catplot(y='delay_in_seconds', x='magnitude_of_delay', data=df, kind='box')"
   ]
  },
  {
   "cell_type": "code",
   "execution_count": null,
   "metadata": {},
   "outputs": [],
   "source": [
    "corr_matrix = df.corr()\n",
    "sns.heatmap(corr_matrix, vmin=-1, vmax=1, square=True, annot=True)\n",
    "#Strong correlation between the features avg_temperature and avg_humidity"
   ]
  },
  {
   "cell_type": "code",
   "execution_count": null,
   "metadata": {},
   "outputs": [],
   "source": [
    "#Only the feature affected_roads has missing values\n",
    "df.isna().sum()"
   ]
  },
  {
   "attachments": {},
   "cell_type": "markdown",
   "metadata": {},
   "source": [
    "----------\n",
    "* Tratamento das roads"
   ]
  },
  {
   "cell_type": "code",
   "execution_count": null,
   "metadata": {},
   "outputs": [],
   "source": [
    "#Function to remove duplicate roads\n",
    "import re\n",
    "def updateRoadSet(val,setRoads):\n",
    "    pattern = re.compile(\",?(\\w[ \\w\\-]*\\w|\\w),?\")\n",
    "    lista = re.findall(pattern,val)\n",
    "    \n",
    "    for road in lista:\n",
    "        setRoads.add(road)"
   ]
  },
  {
   "cell_type": "code",
   "execution_count": null,
   "metadata": {},
   "outputs": [],
   "source": [
    "# Remover roads duplicadas\n",
    "setRoads = set()\n",
    "df['affected_roads'].fillna(\",\").apply(updateRoadSet,args=(setRoads,))\n",
    "\n",
    "print(setRoads)"
   ]
  },
  {
   "cell_type": "code",
   "execution_count": null,
   "metadata": {},
   "outputs": [],
   "source": [
    "for road in setRoads:\n",
    "    df[road] = 0\n",
    "df"
   ]
  },
  {
   "cell_type": "code",
   "execution_count": null,
   "metadata": {},
   "outputs": [],
   "source": [
    "import re\n",
    "def get_roads(roads_string : str):\n",
    "    pattern = re.compile(\",?(\\w[ \\w\\-]*\\w|\\w),?\")\n",
    "    l = re.findall(pattern,roads_string)\n",
    "    roads = dict()\n",
    "    for r in l:\n",
    "        road_count = roads.get(r)\n",
    "        if(road_count != None):\n",
    "            roads[r] = road_count + 1\n",
    "        else:\n",
    "            roads[r] = 1\n",
    "    return roads"
   ]
  },
  {
   "cell_type": "code",
   "execution_count": null,
   "metadata": {},
   "outputs": [],
   "source": [
    "df['affected_roadsString'] = df['affected_roads'].astype('string')"
   ]
  },
  {
   "cell_type": "code",
   "execution_count": null,
   "metadata": {},
   "outputs": [],
   "source": [
    "for i in range (0, df.shape[0]):\n",
    "    row = df.iloc[i]\n",
    "    roads_string = str(row['affected_roads'])\n",
    "    roads = get_roads(roads_string)\n",
    "    for road,counter in roads.items():\n",
    "        df.at[i, road] = counter\n",
    "    "
   ]
  },
  {
   "cell_type": "code",
   "execution_count": null,
   "metadata": {},
   "outputs": [],
   "source": [
    "df.loc[math.isnan(float(df['nan']))]"
   ]
  },
  {
   "cell_type": "code",
   "execution_count": null,
   "metadata": {},
   "outputs": [],
   "source": [
    "groupByIncidents = df.groupby(\"incidents\")\n",
    "groupByIncidents.first()"
   ]
  },
  {
   "cell_type": "code",
   "execution_count": null,
   "metadata": {},
   "outputs": [],
   "source": [
    "groupByIncidents.get_group('Low')"
   ]
  },
  {
   "cell_type": "code",
   "execution_count": null,
   "metadata": {},
   "outputs": [],
   "source": []
  },
  {
   "attachments": {},
   "cell_type": "markdown",
   "metadata": {},
   "source": [
    "----------\n",
    "* Tratamento dos duplicados"
   ]
  },
  {
   "cell_type": "code",
   "execution_count": null,
   "metadata": {},
   "outputs": [],
   "source": [
    "#No duplicated entries\n",
    "df.duplicated().value_counts()"
   ]
  },
  {
   "attachments": {},
   "cell_type": "markdown",
   "metadata": {},
   "source": [
    "---\n",
    "# Tratamento dos dados\n",
    "---"
   ]
  },
  {
   "cell_type": "code",
   "execution_count": null,
   "metadata": {},
   "outputs": [],
   "source": [
    "#'affected roads' separar as entradas em várias por cada estrada\n",
    "df.drop(['affected_roads'], axis=1, inplace=True)\n",
    "df_test.drop(['affected_roads'], axis=1, inplace=True)"
   ]
  },
  {
   "cell_type": "code",
   "execution_count": null,
   "metadata": {},
   "outputs": [],
   "source": [
    "#'record_date' separar em diversos campos (horas(??),dia,mes,trimestre,semestre,ano)\n",
    "#combinar dia da semana com epocas??\n",
    "\n",
    "df['record_date'] = pd.to_datetime(df['record_date'])\n",
    "df_test['record_date'] = pd.to_datetime(df_test['record_date'])\n",
    "#df['hour'] = df['record_date'].dt.hour\n",
    "#df['day'] = df['record_date'].dt.day\n",
    "df['day_of_week'] = df['record_date'].dt.dayofweek\n",
    "df_test['day_of_week'] = df_test['record_date'].dt.dayofweek\n",
    "#df['week'] = df['record_date'].dt.week\n",
    "#df['month'] = df['record_date'].dt.month\n",
    "#df['year'] = df['record_date'].dt.year  # Removed because all occurrences happen in 2021.\n",
    "df.drop(['record_date'], axis=1, inplace=True)\n",
    "df_test.drop(['record_date'], axis=1, inplace=True)\n"
   ]
  },
  {
   "cell_type": "code",
   "execution_count": null,
   "metadata": {},
   "outputs": [],
   "source": [
    "def magnitude_of_delay_label_encoder(magnitude_of_delay):\n",
    "    if magnitude_of_delay == 'UNDEFINED':\n",
    "        return 0;\n",
    "    elif magnitude_of_delay == 'MODERATE':\n",
    "        return 1;\n",
    "    elif magnitude_of_delay == 'MAJOR':\n",
    "        return 2;\n",
    "    else:\n",
    "        return -1;\n",
    "    \n",
    "df['magnitude_of_delay_cat'] = df['magnitude_of_delay'].apply(magnitude_of_delay_label_encoder)\n",
    "df_test['magnitude_of_delay_cat'] = df_test['magnitude_of_delay'].apply(magnitude_of_delay_label_encoder) \n",
    "df.drop(['magnitude_of_delay'], axis=1, inplace=True)\n",
    "df_test.drop(['magnitude_of_delay'], axis=1, inplace=True) "
   ]
  },
  {
   "cell_type": "code",
   "execution_count": null,
   "metadata": {},
   "outputs": [],
   "source": [
    "def luminosity_label_encoder(luminosity):\n",
    "    if luminosity == 'DARK':\n",
    "        return 0;\n",
    "    elif luminosity == 'LOW_LIGHT':\n",
    "        return 1;\n",
    "    elif luminosity == 'LIGHT':\n",
    "        return 2;\n",
    "    else:\n",
    "        return -1;\n",
    "    \n",
    "df['luminosity_cat'] = df['luminosity'].apply(luminosity_label_encoder)\n",
    "df_test['luminosity_cat'] = df_test['luminosity'].apply(luminosity_label_encoder) \n",
    "df.drop(['luminosity'], axis=1, inplace=True)\n",
    "df_test.drop(['luminosity'], axis=1, inplace=True) "
   ]
  },
  {
   "cell_type": "code",
   "execution_count": null,
   "metadata": {},
   "outputs": [],
   "source": [
    "def avg_rain_label_encoder(avg_rain):\n",
    "    if avg_rain == 'Sem Chuva':\n",
    "        return 0;\n",
    "    elif avg_rain == 'chuva fraca':\n",
    "        return 1;\n",
    "    elif avg_rain == 'chuva moderada':\n",
    "        return 2;\n",
    "    elif avg_rain == 'chuva forte':\n",
    "        return 3;\n",
    "    else:\n",
    "        return -1;\n",
    "    \n",
    "df['avg_rain_cat'] = df['avg_rain'].apply(avg_rain_label_encoder)\n",
    "df_test['avg_rain_cat'] = df_test['avg_rain'].apply(avg_rain_label_encoder)\n",
    "df.drop(['avg_rain'], axis=1, inplace=True)\n",
    "df_test.drop(['avg_rain'], axis=1, inplace=True)  "
   ]
  },
  {
   "cell_type": "code",
   "execution_count": null,
   "metadata": {},
   "outputs": [],
   "source": [
    "def incidents_label_encoder(incidents):\n",
    "    if incidents == 'None':\n",
    "        return 0;\n",
    "    elif incidents == 'Low':\n",
    "        return 1;\n",
    "    elif incidents == 'Medium':\n",
    "        return 2;\n",
    "    elif incidents == 'High':\n",
    "        return 3;\n",
    "    elif incidents == 'Very_High':\n",
    "        return 4;\n",
    "    else:\n",
    "        return -1;\n",
    "    \n",
    "def incidents_label_decoder(incidents_cat):\n",
    "    if incidents_cat == 0:\n",
    "        return 'None'\n",
    "    elif incidents_cat == 1:\n",
    "        return 'Low';\n",
    "    elif incidents_cat == 2:\n",
    "        return 'Medium';\n",
    "    elif incidents_cat == 3:\n",
    "        return 'High';\n",
    "    elif incidents_cat == 4:\n",
    "        return 'Very_High';\n",
    "    else:\n",
    "        return \"\"\n",
    "    \n",
    "df['incidents_cat'] = df['incidents'].apply(incidents_label_encoder)"
   ]
  },
  {
   "cell_type": "code",
   "execution_count": null,
   "metadata": {},
   "outputs": [],
   "source": [
    "#for feature in ['magnitude_of_delay', 'luminosity', 'avg_rain', 'incidents']:\n",
    "#    print(df[[feature, feature + '_cat']].drop_duplicates().sort_values(by=[feature + '_cat']).reset_index(drop=True),\"\\n\")"
   ]
  },
  {
   "cell_type": "code",
   "execution_count": null,
   "metadata": {},
   "outputs": [],
   "source": [
    "#order columns\n",
    "df.sort_index(axis=1)"
   ]
  },
  {
   "attachments": {},
   "cell_type": "markdown",
   "metadata": {},
   "source": [
    "---\n",
    "# Modelos\n",
    "---"
   ]
  },
  {
   "cell_type": "code",
   "execution_count": null,
   "metadata": {},
   "outputs": [],
   "source": [
    "x = df.drop(['incidents','incidents_cat'],axis=1)\n",
    "y = df['incidents_cat'].to_frame()"
   ]
  },
  {
   "cell_type": "code",
   "execution_count": null,
   "metadata": {},
   "outputs": [],
   "source": [
    "x"
   ]
  },
  {
   "cell_type": "code",
   "execution_count": null,
   "metadata": {},
   "outputs": [],
   "source": [
    "from sklearn.model_selection import cross_val_score\n",
    "from sklearn.tree import DecisionTreeClassifier\n",
    "\n",
    "\n",
    "clf = DecisionTreeClassifier(random_state=2022, criterion='gini', max_depth=10)\n",
    "scores = cross_val_score(clf, x, y, cv=10)\n",
    "print(scores)\n",
    "print('RESULT: %0.2f accuracy with a standard deviation of %0.2f' % (scores.mean(), scores.std()))\n",
    "print(scores.mean())"
   ]
  },
  {
   "cell_type": "code",
   "execution_count": null,
   "metadata": {},
   "outputs": [],
   "source": [
    "x_train_data = df.drop(['incidents','incidents_cat'],axis=1)\n",
    "y_train_data = df['incidents_cat'].to_frame()\n",
    "clf.fit(x_train_data, y_train_data)\n",
    "predictions = clf.predict(df_test)\n",
    "for p in predictions:\n",
    "    print(incidents_label_decoder(p))"
   ]
  }
 ],
 "metadata": {
  "kernelspec": {
   "display_name": "DAA",
   "language": "python",
   "name": "python3"
  },
  "language_info": {
   "codemirror_mode": {
    "name": "ipython",
    "version": 3
   },
   "file_extension": ".py",
   "mimetype": "text/x-python",
   "name": "python",
   "nbconvert_exporter": "python",
   "pygments_lexer": "ipython3",
   "version": "3.6.13 |Anaconda, Inc.| (default, Mar 16 2021, 11:37:27) [MSC v.1916 64 bit (AMD64)]"
  },
  "vscode": {
   "interpreter": {
    "hash": "fae1546eefd7cc52763da9b79a1cf0be05b549085ca0e6cfb6c245af77d36ea3"
   }
  }
 },
 "nbformat": 4,
 "nbformat_minor": 0
}
