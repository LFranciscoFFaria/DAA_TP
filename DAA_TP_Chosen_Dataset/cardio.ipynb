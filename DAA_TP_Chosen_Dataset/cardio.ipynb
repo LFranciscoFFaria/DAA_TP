{
 "cells": [
  {
   "cell_type": "markdown",
   "metadata": {},
   "source": [
    "---\n",
    "# CARREGAR DATASET\n",
    "---"
   ]
  },
  {
   "cell_type": "code",
   "execution_count": 282,
   "metadata": {},
   "outputs": [],
   "source": [
    "import numpy as np\n",
    "import sklearn as skl\n",
    "import pandas as pd\n",
    "import matplotlib.pyplot as plt\n",
    "import seaborn as sns\n",
    "import math\n",
    "from sklearn.ensemble import RandomForestClassifier\n",
    "import statistics\n",
    "from sklearn.feature_selection import SelectKBest,f_classif\n",
    "from sklearn import preprocessing\n",
    "from sklearn.model_selection import GridSearchCV, KFold, train_test_split,StratifiedKFold\n",
    "from sklearn.preprocessing import MinMaxScaler\n",
    "from sklearn import metrics\n",
    "from sklearn.naive_bayes import GaussianNB\n",
    "\n",
    "import tensorflow as tf\n",
    "from keras.models import Sequential\n",
    "from keras.layers import Dense, Dropout, BatchNormalization\n",
    "from keras.wrappers.scikit_learn import KerasRegressor\n",
    "#from tensorflow.keras.models  import Sequential\n",
    "#from tensorflow.keras.layers import Dense, Dropout, BatchNormalization\n",
    "#from tensorflow.keras.wrappers.scikit_learn import KerasRegressor\n",
    "\n",
    "RANDOM_SEED = 2022"
   ]
  },
  {
   "cell_type": "code",
   "execution_count": 283,
   "metadata": {},
   "outputs": [],
   "source": [
    "df = pd.read_csv('cardio_train.csv', sep=\";\")"
   ]
  },
  {
   "cell_type": "markdown",
   "metadata": {},
   "source": [
    "---\n",
    "# EXPLORAÇÃO DE DADOS\n",
    "---"
   ]
  },
  {
   "cell_type": "markdown",
   "metadata": {
    "collapsed": false
   },
   "source": [
    "## <u>Atributos</u>\n",
    "- id: Identificação da entrada. Não relevante.\n",
    "- age: Idade (em dias) do paciente\n",
    "- gender: Gênero sexual do paciente (1 - Mulher / 2 - Homem)\n",
    "- height: Altura do paciente (em centimetros)\n",
    "- weight: Peso do paciente (em quilogramas)\n",
    "- ap_hi: Pressão arterial sistólica. Valor máximo da pressão que o sangue exerce sobre as paredes das artérias\n",
    "- ap_lo: Pressão arterial diastólica. Valor mínimo da pressão que o sangue exerce sobre as paredes das artérias\n",
    "- cholesterol: Valor de colesterol. (1 - Normal / 2 - Acima do normal / 3 - Muito acima do normal)\n",
    "- gluc: Nível de glucose. (1 - Normal / 2 - Acima do normal / 3 - Muito acima do normal)\n",
    "- smoke: Se o paciente é fumador (0 - Falso / 1 - Verdadeiro)\n",
    "- alco: Se o paciente ingere álcool (0 - Falso / 1 - Verdadeiro)\n",
    "- active: Se o paciente pratica desporto (0 - Falso / 1 - Verdadeiro)\n",
    "- cardio: Atributo objetivo. Indica se o paciente possui uma doença cardiovascular  (0 - Falso / 1 - Verdadeiro)"
   ]
  },
  {
   "cell_type": "code",
   "execution_count": 284,
   "metadata": {
    "collapsed": false
   },
   "outputs": [
    {
     "name": "stdout",
     "output_type": "stream",
     "text": [
      "<class 'pandas.core.frame.DataFrame'>\n",
      "RangeIndex: 70000 entries, 0 to 69999\n",
      "Data columns (total 13 columns):\n",
      " #   Column       Non-Null Count  Dtype  \n",
      "---  ------       --------------  -----  \n",
      " 0   id           70000 non-null  int64  \n",
      " 1   age          70000 non-null  int64  \n",
      " 2   gender       70000 non-null  int64  \n",
      " 3   height       70000 non-null  int64  \n",
      " 4   weight       70000 non-null  float64\n",
      " 5   ap_hi        70000 non-null  int64  \n",
      " 6   ap_lo        70000 non-null  int64  \n",
      " 7   cholesterol  70000 non-null  int64  \n",
      " 8   gluc         70000 non-null  int64  \n",
      " 9   smoke        70000 non-null  int64  \n",
      " 10  alco         70000 non-null  int64  \n",
      " 11  active       70000 non-null  int64  \n",
      " 12  cardio       70000 non-null  int64  \n",
      "dtypes: float64(1), int64(12)\n",
      "memory usage: 6.9 MB\n"
     ]
    }
   ],
   "source": [
    "# Quais são os atributos e os seus tipos, e qual a quantidade de 'missing values'\n",
    "df.info()"
   ]
  },
  {
   "cell_type": "code",
   "execution_count": 285,
   "metadata": {
    "collapsed": false
   },
   "outputs": [],
   "source": [
    "#Remocao da coluna id (É irrelevante)\n",
    "df.drop('id', axis=1, inplace=True)"
   ]
  },
  {
   "cell_type": "markdown",
   "metadata": {
    "collapsed": false
   },
   "source": [
    "## <u>Tipos de valores</u>\n",
    "Esta subsecção serve para:\n",
    "- Verificar a discrepância entre a quantidade de amostras associadas às categorias de um atributo (pode levar a overfit)\n",
    "- Identificação de valores que não deveriam existir"
   ]
  },
  {
   "cell_type": "markdown",
   "metadata": {
    "collapsed": false
   },
   "source": [
    "#### Atributos categóricos\n"
   ]
  },
  {
   "cell_type": "code",
   "execution_count": 286,
   "metadata": {
    "collapsed": false
   },
   "outputs": [
    {
     "data": {
      "text/plain": [
       "1    0.650429\n",
       "2    0.349571\n",
       "Name: gender, dtype: float64"
      ]
     },
     "execution_count": 286,
     "metadata": {},
     "output_type": "execute_result"
    }
   ],
   "source": [
    "'''\n",
    "Género (deve ser binária)\n",
    "\n",
    "BIASED\n",
    "'''\n",
    "\n",
    "df['gender'].value_counts(normalize=True)"
   ]
  },
  {
   "cell_type": "code",
   "execution_count": 287,
   "metadata": {
    "collapsed": false
   },
   "outputs": [
    {
     "data": {
      "text/plain": [
       "1    0.748357\n",
       "2    0.136414\n",
       "3    0.115229\n",
       "Name: cholesterol, dtype: float64"
      ]
     },
     "execution_count": 287,
     "metadata": {},
     "output_type": "execute_result"
    }
   ],
   "source": [
    "'''\n",
    "Colesterol (deve ser ternária):\n",
    "    -> 1: normal\n",
    "    -> 2: acima do normal\n",
    "    -> 3: bem acima do normal\n",
    "\n",
    "BIASED\n",
    "'''\n",
    "df['cholesterol'].value_counts(normalize=True)"
   ]
  },
  {
   "cell_type": "code",
   "execution_count": 288,
   "metadata": {
    "collapsed": false
   },
   "outputs": [
    {
     "data": {
      "text/plain": [
       "1    0.849700\n",
       "3    0.076157\n",
       "2    0.074143\n",
       "Name: gluc, dtype: float64"
      ]
     },
     "execution_count": 288,
     "metadata": {},
     "output_type": "execute_result"
    }
   ],
   "source": [
    "'''\n",
    "Glucose (deve ser ternária):\n",
    "    -> 1: normal\n",
    "    -> 2: acima do normal\n",
    "    -> 3: bem acima do normal\n",
    "\n",
    "BIASED\n",
    "'''\n",
    "df['gluc'].value_counts(normalize=True)"
   ]
  },
  {
   "cell_type": "code",
   "execution_count": 289,
   "metadata": {
    "collapsed": false
   },
   "outputs": [
    {
     "data": {
      "text/plain": [
       "0    0.911871\n",
       "1    0.088129\n",
       "Name: smoke, dtype: float64"
      ]
     },
     "execution_count": 289,
     "metadata": {},
     "output_type": "execute_result"
    }
   ],
   "source": [
    "'''\n",
    "É fumador (deve ser binária):\n",
    "    -> 0: não\n",
    "    -> 1: sim\n",
    "\n",
    "BIASED\n",
    "'''\n",
    "df['smoke'].value_counts(normalize=True)"
   ]
  },
  {
   "cell_type": "code",
   "execution_count": 290,
   "metadata": {
    "collapsed": false
   },
   "outputs": [
    {
     "data": {
      "text/plain": [
       "0    0.946229\n",
       "1    0.053771\n",
       "Name: alco, dtype: float64"
      ]
     },
     "execution_count": 290,
     "metadata": {},
     "output_type": "execute_result"
    }
   ],
   "source": [
    "'''\n",
    "Ingere álcool (deve ser binária):\n",
    "    -> 0: não\n",
    "    -> 1: sim\n",
    "\n",
    "BIASED\n",
    "'''\n",
    "df['alco'].value_counts(normalize=True)"
   ]
  },
  {
   "cell_type": "code",
   "execution_count": 291,
   "metadata": {
    "collapsed": false
   },
   "outputs": [
    {
     "data": {
      "text/plain": [
       "1    0.803729\n",
       "0    0.196271\n",
       "Name: active, dtype: float64"
      ]
     },
     "execution_count": 291,
     "metadata": {},
     "output_type": "execute_result"
    }
   ],
   "source": [
    "'''\n",
    "Pratica desporto (deve ser binária):\n",
    "    -> 0: não\n",
    "    -> 1: sim\n",
    "\n",
    "BIASED\n",
    "'''\n",
    "df['active'].value_counts(normalize=True)"
   ]
  },
  {
   "cell_type": "code",
   "execution_count": 292,
   "metadata": {
    "collapsed": false
   },
   "outputs": [
    {
     "data": {
      "text/plain": [
       "0    0.5003\n",
       "1    0.4997\n",
       "Name: cardio, dtype: float64"
      ]
     },
     "execution_count": 292,
     "metadata": {},
     "output_type": "execute_result"
    }
   ],
   "source": [
    "'''\n",
    "Presença de doença cardio vascular [Variável objetivo] (deve ser binária):\n",
    "    -> 0: não\n",
    "    -> 1: sim\n",
    "'''\n",
    "df['cardio'].value_counts(normalize=True)"
   ]
  },
  {
   "cell_type": "markdown",
   "metadata": {
    "collapsed": false
   },
   "source": []
  },
  {
   "cell_type": "markdown",
   "metadata": {
    "collapsed": false
   },
   "source": [
    "#### Atributos contínuos"
   ]
  },
  {
   "cell_type": "code",
   "execution_count": 293,
   "metadata": {
    "collapsed": false
   },
   "outputs": [],
   "source": [
    "def get_outliers_zscore(frame : pd.DataFrame, column : str, thresh : int):\n",
    "    media = frame[column].mean()\n",
    "    std = frame[column].std()\n",
    "    col = frame[column]\n",
    "\n",
    "    z_scores = (col - media) / std\n",
    "    outliers = z_scores.abs().loc[z_scores > thresh].index\n",
    "    return frame.loc[outliers]"
   ]
  },
  {
   "cell_type": "code",
   "execution_count": 294,
   "metadata": {
    "collapsed": false
   },
   "outputs": [],
   "source": [
    "def get_limits_iqr(frame : pd.DataFrame, column : str):\n",
    "    q1 = frame[column].quantile(0.25)\n",
    "    q3 = frame[column].quantile(0.75)\n",
    "    iqr = q3-q1\n",
    "    lim_inf = q1 - 1.5*iqr\n",
    "    lim_sup = q3 + 1.5*iqr\n",
    "    return lim_inf, lim_sup\n",
    "\n",
    "def get_outliers_iqr(frame : pd.DataFrame, column : str):\n",
    "    lim_inf, lim_sup = get_limits_iqr(frame, column)\n",
    "    return frame.loc[(frame[column] < lim_inf) | (frame[column] > lim_sup)]"
   ]
  },
  {
   "cell_type": "code",
   "execution_count": 295,
   "metadata": {
    "collapsed": false
   },
   "outputs": [
    {
     "data": {
      "text/plain": [
       "'\\nConclusões: ...\\n\\n'"
      ]
     },
     "execution_count": 295,
     "metadata": {},
     "output_type": "execute_result"
    },
    {
     "data": {
      "image/png": "[encoded data removed]",
      "text/plain": [
       "<Figure size 1080x864 with 6 Axes>"
      ]
     },
     "metadata": {
      "needs_background": "light"
     },
     "output_type": "display_data"
    }
   ],
   "source": [
    "#Boxplots para visualização de outliers\n",
    "fig, axs = plt.subplots(3,2, figsize = (15,12))\n",
    "fig.suptitle(\"Boxplots\")\n",
    "sns.boxplot(x=df['age'], ax=axs[0,0])\n",
    "sns.boxplot(x=df['height'], ax=axs[0,1])\n",
    "sns.boxplot(x=df['weight'], ax=axs[1,0])\n",
    "sns.boxplot(x=df['ap_hi'].loc[(df['ap_hi'] > 0) & (df['ap_hi'] < 200)], ax=axs[1,1])\n",
    "sns.boxplot(x=df['ap_lo'].loc[(df['ap_lo'] > 0) & (df['ap_lo'] < 200)], ax=axs[2,0])\n",
    "\n",
    "'''\n",
    "Conclusões: ...\n",
    "\n",
    "'''"
   ]
  },
  {
   "cell_type": "code",
   "execution_count": 296,
   "metadata": {
    "collapsed": false
   },
   "outputs": [
    {
     "data": {
      "text/plain": [
       "<AxesSubplot:xlabel='ap_lo', ylabel='Count'>"
      ]
     },
     "execution_count": 296,
     "metadata": {},
     "output_type": "execute_result"
    },
    {
     "data": {
      "image/png": "[encoded data removed]",
      "text/plain": [
       "<Figure size 1080x864 with 6 Axes>"
      ]
     },
     "metadata": {
      "needs_background": "light"
     },
     "output_type": "display_data"
    }
   ],
   "source": [
    "fig, axs = plt.subplots(3,2, figsize = (15,12))\n",
    "fig.suptitle(\"Histograms\")\n",
    "sns.histplot(df[\"age\"], ax=axs[0,0], kde=True)\n",
    "sns.histplot(df[\"height\"], ax=axs[0,1], kde=True)\n",
    "sns.histplot(df[\"weight\"], ax=axs[1,0], kde=True)\n",
    "sns.histplot(df[\"ap_hi\"].loc[(df[\"ap_hi\"] > 0) & (df[\"ap_hi\"] < 500)], ax=axs[1,1], kde=True) # plot com apenas valores acima de 0 e abaixo de 500 para ser possível observar melhor o comportamento dos dados (mesmo com esta restricao ainda existem valores (outliers) impossiveis)\n",
    "sns.histplot(df[\"ap_lo\"].loc[(df[\"ap_lo\"] > 0) & (df[\"ap_lo\"] < 500)], ax=axs[2,0], kde=True) # plot com apenas valores  acima de 0 e abaixo de 500 para ser possível observar melhor o comportamento dos dados (mesmo com esta restricao ainda existem valores (outliers) impossiveis)"
   ]
  },
  {
   "cell_type": "markdown",
   "metadata": {
    "collapsed": false
   },
   "source": [
    "## <u>Tendência Central</u>"
   ]
  },
  {
   "cell_type": "code",
   "execution_count": 297,
   "metadata": {},
   "outputs": [
    {
     "data": {
      "text/html": [
       "<div>\n",
       "<style scoped>\n",
       "    .dataframe tbody tr th:only-of-type {\n",
       "        vertical-align: middle;\n",
       "    }\n",
       "\n",
       "    .dataframe tbody tr th {\n",
       "        vertical-align: top;\n",
       "    }\n",
       "\n",
       "    .dataframe thead th {\n",
       "        text-align: right;\n",
       "    }\n",
       "</style>\n",
       "<table border=\"1\" class=\"dataframe\">\n",
       "  <thead>\n",
       "    <tr style=\"text-align: right;\">\n",
       "      <th></th>\n",
       "      <th>age</th>\n",
       "      <th>gender</th>\n",
       "      <th>height</th>\n",
       "      <th>weight</th>\n",
       "      <th>ap_hi</th>\n",
       "      <th>ap_lo</th>\n",
       "      <th>cholesterol</th>\n",
       "      <th>gluc</th>\n",
       "      <th>smoke</th>\n",
       "      <th>alco</th>\n",
       "      <th>active</th>\n",
       "      <th>cardio</th>\n",
       "    </tr>\n",
       "  </thead>\n",
       "  <tbody>\n",
       "    <tr>\n",
       "      <th>count</th>\n",
       "      <td>70000.000000</td>\n",
       "      <td>70000.000000</td>\n",
       "      <td>70000.000000</td>\n",
       "      <td>70000.000000</td>\n",
       "      <td>70000.000000</td>\n",
       "      <td>70000.000000</td>\n",
       "      <td>70000.000000</td>\n",
       "      <td>70000.000000</td>\n",
       "      <td>70000.000000</td>\n",
       "      <td>70000.000000</td>\n",
       "      <td>70000.000000</td>\n",
       "      <td>70000.000000</td>\n",
       "    </tr>\n",
       "    <tr>\n",
       "      <th>mean</th>\n",
       "      <td>19468.865814</td>\n",
       "      <td>1.349571</td>\n",
       "      <td>164.359229</td>\n",
       "      <td>74.205690</td>\n",
       "      <td>128.817286</td>\n",
       "      <td>96.630414</td>\n",
       "      <td>1.366871</td>\n",
       "      <td>1.226457</td>\n",
       "      <td>0.088129</td>\n",
       "      <td>0.053771</td>\n",
       "      <td>0.803729</td>\n",
       "      <td>0.499700</td>\n",
       "    </tr>\n",
       "    <tr>\n",
       "      <th>std</th>\n",
       "      <td>2467.251667</td>\n",
       "      <td>0.476838</td>\n",
       "      <td>8.210126</td>\n",
       "      <td>14.395757</td>\n",
       "      <td>154.011419</td>\n",
       "      <td>188.472530</td>\n",
       "      <td>0.680250</td>\n",
       "      <td>0.572270</td>\n",
       "      <td>0.283484</td>\n",
       "      <td>0.225568</td>\n",
       "      <td>0.397179</td>\n",
       "      <td>0.500003</td>\n",
       "    </tr>\n",
       "    <tr>\n",
       "      <th>min</th>\n",
       "      <td>10798.000000</td>\n",
       "      <td>1.000000</td>\n",
       "      <td>55.000000</td>\n",
       "      <td>10.000000</td>\n",
       "      <td>-150.000000</td>\n",
       "      <td>-70.000000</td>\n",
       "      <td>1.000000</td>\n",
       "      <td>1.000000</td>\n",
       "      <td>0.000000</td>\n",
       "      <td>0.000000</td>\n",
       "      <td>0.000000</td>\n",
       "      <td>0.000000</td>\n",
       "    </tr>\n",
       "    <tr>\n",
       "      <th>25%</th>\n",
       "      <td>17664.000000</td>\n",
       "      <td>1.000000</td>\n",
       "      <td>159.000000</td>\n",
       "      <td>65.000000</td>\n",
       "      <td>120.000000</td>\n",
       "      <td>80.000000</td>\n",
       "      <td>1.000000</td>\n",
       "      <td>1.000000</td>\n",
       "      <td>0.000000</td>\n",
       "      <td>0.000000</td>\n",
       "      <td>1.000000</td>\n",
       "      <td>0.000000</td>\n",
       "    </tr>\n",
       "    <tr>\n",
       "      <th>50%</th>\n",
       "      <td>19703.000000</td>\n",
       "      <td>1.000000</td>\n",
       "      <td>165.000000</td>\n",
       "      <td>72.000000</td>\n",
       "      <td>120.000000</td>\n",
       "      <td>80.000000</td>\n",
       "      <td>1.000000</td>\n",
       "      <td>1.000000</td>\n",
       "      <td>0.000000</td>\n",
       "      <td>0.000000</td>\n",
       "      <td>1.000000</td>\n",
       "      <td>0.000000</td>\n",
       "    </tr>\n",
       "    <tr>\n",
       "      <th>75%</th>\n",
       "      <td>21327.000000</td>\n",
       "      <td>2.000000</td>\n",
       "      <td>170.000000</td>\n",
       "      <td>82.000000</td>\n",
       "      <td>140.000000</td>\n",
       "      <td>90.000000</td>\n",
       "      <td>2.000000</td>\n",
       "      <td>1.000000</td>\n",
       "      <td>0.000000</td>\n",
       "      <td>0.000000</td>\n",
       "      <td>1.000000</td>\n",
       "      <td>1.000000</td>\n",
       "    </tr>\n",
       "    <tr>\n",
       "      <th>max</th>\n",
       "      <td>23713.000000</td>\n",
       "      <td>2.000000</td>\n",
       "      <td>250.000000</td>\n",
       "      <td>200.000000</td>\n",
       "      <td>16020.000000</td>\n",
       "      <td>11000.000000</td>\n",
       "      <td>3.000000</td>\n",
       "      <td>3.000000</td>\n",
       "      <td>1.000000</td>\n",
       "      <td>1.000000</td>\n",
       "      <td>1.000000</td>\n",
       "      <td>1.000000</td>\n",
       "    </tr>\n",
       "  </tbody>\n",
       "</table>\n",
       "</div>"
      ],
      "text/plain": [
       "                age        gender        height        weight         ap_hi  \\\n",
       "count  70000.000000  70000.000000  70000.000000  70000.000000  70000.000000   \n",
       "mean   19468.865814      1.349571    164.359229     74.205690    128.817286   \n",
       "std     2467.251667      0.476838      8.210126     14.395757    154.011419   \n",
       "min    10798.000000      1.000000     55.000000     10.000000   -150.000000   \n",
       "25%    17664.000000      1.000000    159.000000     65.000000    120.000000   \n",
       "50%    19703.000000      1.000000    165.000000     72.000000    120.000000   \n",
       "75%    21327.000000      2.000000    170.000000     82.000000    140.000000   \n",
       "max    23713.000000      2.000000    250.000000    200.000000  16020.000000   \n",
       "\n",
       "              ap_lo   cholesterol          gluc         smoke          alco  \\\n",
       "count  70000.000000  70000.000000  70000.000000  70000.000000  70000.000000   \n",
       "mean      96.630414      1.366871      1.226457      0.088129      0.053771   \n",
       "std      188.472530      0.680250      0.572270      0.283484      0.225568   \n",
       "min      -70.000000      1.000000      1.000000      0.000000      0.000000   \n",
       "25%       80.000000      1.000000      1.000000      0.000000      0.000000   \n",
       "50%       80.000000      1.000000      1.000000      0.000000      0.000000   \n",
       "75%       90.000000      2.000000      1.000000      0.000000      0.000000   \n",
       "max    11000.000000      3.000000      3.000000      1.000000      1.000000   \n",
       "\n",
       "             active        cardio  \n",
       "count  70000.000000  70000.000000  \n",
       "mean       0.803729      0.499700  \n",
       "std        0.397179      0.500003  \n",
       "min        0.000000      0.000000  \n",
       "25%        1.000000      0.000000  \n",
       "50%        1.000000      0.000000  \n",
       "75%        1.000000      1.000000  \n",
       "max        1.000000      1.000000  "
      ]
     },
     "execution_count": 297,
     "metadata": {},
     "output_type": "execute_result"
    }
   ],
   "source": [
    "#Média, desvio padrão, percentis, mínimo e máximo\n",
    "df.describe()"
   ]
  },
  {
   "cell_type": "code",
   "execution_count": 298,
   "metadata": {
    "collapsed": false
   },
   "outputs": [
    {
     "data": {
      "text/plain": [
       "age            19703.0\n",
       "gender             1.0\n",
       "height           165.0\n",
       "weight            72.0\n",
       "ap_hi            120.0\n",
       "ap_lo             80.0\n",
       "cholesterol        1.0\n",
       "gluc               1.0\n",
       "smoke              0.0\n",
       "alco               0.0\n",
       "active             1.0\n",
       "cardio             0.0\n",
       "dtype: float64"
      ]
     },
     "execution_count": 298,
     "metadata": {},
     "output_type": "execute_result"
    }
   ],
   "source": [
    "#Mediana\n",
    "df.median()"
   ]
  },
  {
   "cell_type": "code",
   "execution_count": 299,
   "metadata": {
    "collapsed": false
   },
   "outputs": [
    {
     "data": {
      "text/plain": [
       "age            18236.0\n",
       "gender             1.0\n",
       "height           165.0\n",
       "weight            65.0\n",
       "ap_hi            120.0\n",
       "ap_lo             80.0\n",
       "cholesterol        1.0\n",
       "gluc               1.0\n",
       "smoke              0.0\n",
       "alco               0.0\n",
       "active             1.0\n",
       "cardio             0.0\n",
       "Name: 0, dtype: float64"
      ]
     },
     "execution_count": 299,
     "metadata": {},
     "output_type": "execute_result"
    }
   ],
   "source": [
    "#Moda\n",
    "df.mode().iloc[0]"
   ]
  },
  {
   "cell_type": "code",
   "execution_count": 300,
   "metadata": {},
   "outputs": [
    {
     "name": "stdout",
     "output_type": "stream",
     "text": [
      "Skewness: \n",
      "age            -0.307055\n",
      "gender          0.630960\n",
      "height         -0.642187\n",
      "weight          1.012070\n",
      "ap_hi          85.296214\n",
      "ap_lo          32.114083\n",
      "cholesterol     1.587123\n",
      "gluc            2.397462\n",
      "smoke           2.905867\n",
      "alco            3.956607\n",
      "active         -1.529473\n",
      "cardio          0.001200\n",
      "dtype: float64\n",
      "\n",
      "Kurtosis: \n",
      "age              -0.823447\n",
      "gender           -1.601935\n",
      "height            7.943653\n",
      "weight            2.586825\n",
      "ap_hi          7580.074738\n",
      "ap_lo          1425.914585\n",
      "cholesterol       0.993901\n",
      "gluc              4.294377\n",
      "smoke             6.444250\n",
      "alco             13.655125\n",
      "active            0.339296\n",
      "cardio           -2.000056\n",
      "dtype: float64\n"
     ]
    }
   ],
   "source": [
    "print(f\"Skewness: \\n{df.skew()}\")\n",
    "print(f\"\\nKurtosis: \\n{df.kurt()}\")"
   ]
  },
  {
   "cell_type": "markdown",
   "metadata": {
    "collapsed": false
   },
   "source": [
    "## <u>Correlação entre atributos</u>"
   ]
  },
  {
   "cell_type": "code",
   "execution_count": 301,
   "metadata": {},
   "outputs": [
    {
     "data": {
      "text/plain": [
       "<AxesSubplot:>"
      ]
     },
     "execution_count": 301,
     "metadata": {},
     "output_type": "execute_result"
    },
    {
     "data": {
      "image/png": "[encoded data removed]",
      "text/plain": [
       "<Figure size 864x720 with 2 Axes>"
      ]
     },
     "metadata": {
      "needs_background": "light"
     },
     "output_type": "display_data"
    }
   ],
   "source": [
    "corr_matrix = df.corr()\n",
    "f, ax = plt.subplots(figsize=(12,10))\n",
    "sns.heatmap(corr_matrix, vmin=-1, vmax=1, square=True, annot=True)"
   ]
  },
  {
   "cell_type": "markdown",
   "metadata": {},
   "source": [
    "---\n",
    "# TRATAMENTO DE DADOS\n",
    "---"
   ]
  },
  {
   "cell_type": "code",
   "execution_count": 302,
   "metadata": {
    "collapsed": false
   },
   "outputs": [
    {
     "name": "stdout",
     "output_type": "stream",
     "text": [
      "Nº de entradas duplicadas:  24\n"
     ]
    }
   ],
   "source": [
    "#Entradas duplicadas\n",
    "print(\"Nº de entradas duplicadas: \", df.duplicated().sum())"
   ]
  },
  {
   "cell_type": "markdown",
   "metadata": {
    "collapsed": false
   },
   "source": [
    "## Remoção de entradas consideradas impossíveis"
   ]
  },
  {
   "cell_type": "code",
   "execution_count": 303,
   "metadata": {
    "collapsed": false
   },
   "outputs": [
    {
     "data": {
      "text/html": [
       "<div>\n",
       "<style scoped>\n",
       "    .dataframe tbody tr th:only-of-type {\n",
       "        vertical-align: middle;\n",
       "    }\n",
       "\n",
       "    .dataframe tbody tr th {\n",
       "        vertical-align: top;\n",
       "    }\n",
       "\n",
       "    .dataframe thead th {\n",
       "        text-align: right;\n",
       "    }\n",
       "</style>\n",
       "<table border=\"1\" class=\"dataframe\">\n",
       "  <thead>\n",
       "    <tr style=\"text-align: right;\">\n",
       "      <th></th>\n",
       "      <th>age</th>\n",
       "      <th>gender</th>\n",
       "      <th>height</th>\n",
       "      <th>weight</th>\n",
       "      <th>ap_hi</th>\n",
       "      <th>ap_lo</th>\n",
       "      <th>cholesterol</th>\n",
       "      <th>gluc</th>\n",
       "      <th>smoke</th>\n",
       "      <th>alco</th>\n",
       "      <th>active</th>\n",
       "      <th>cardio</th>\n",
       "    </tr>\n",
       "  </thead>\n",
       "  <tbody>\n",
       "    <tr>\n",
       "      <th>228</th>\n",
       "      <td>17489</td>\n",
       "      <td>2</td>\n",
       "      <td>183</td>\n",
       "      <td>98.0</td>\n",
       "      <td>160</td>\n",
       "      <td>1100</td>\n",
       "      <td>1</td>\n",
       "      <td>2</td>\n",
       "      <td>1</td>\n",
       "      <td>0</td>\n",
       "      <td>1</td>\n",
       "      <td>1</td>\n",
       "    </tr>\n",
       "    <tr>\n",
       "      <th>241</th>\n",
       "      <td>21932</td>\n",
       "      <td>2</td>\n",
       "      <td>157</td>\n",
       "      <td>60.0</td>\n",
       "      <td>160</td>\n",
       "      <td>1000</td>\n",
       "      <td>2</td>\n",
       "      <td>1</td>\n",
       "      <td>0</td>\n",
       "      <td>0</td>\n",
       "      <td>0</td>\n",
       "      <td>1</td>\n",
       "    </tr>\n",
       "    <tr>\n",
       "      <th>260</th>\n",
       "      <td>18217</td>\n",
       "      <td>1</td>\n",
       "      <td>150</td>\n",
       "      <td>83.0</td>\n",
       "      <td>140</td>\n",
       "      <td>800</td>\n",
       "      <td>1</td>\n",
       "      <td>1</td>\n",
       "      <td>0</td>\n",
       "      <td>0</td>\n",
       "      <td>1</td>\n",
       "      <td>1</td>\n",
       "    </tr>\n",
       "    <tr>\n",
       "      <th>329</th>\n",
       "      <td>23407</td>\n",
       "      <td>1</td>\n",
       "      <td>176</td>\n",
       "      <td>63.0</td>\n",
       "      <td>160</td>\n",
       "      <td>1000</td>\n",
       "      <td>2</td>\n",
       "      <td>2</td>\n",
       "      <td>0</td>\n",
       "      <td>0</td>\n",
       "      <td>0</td>\n",
       "      <td>1</td>\n",
       "    </tr>\n",
       "    <tr>\n",
       "      <th>345</th>\n",
       "      <td>18704</td>\n",
       "      <td>1</td>\n",
       "      <td>154</td>\n",
       "      <td>81.0</td>\n",
       "      <td>140</td>\n",
       "      <td>1000</td>\n",
       "      <td>2</td>\n",
       "      <td>1</td>\n",
       "      <td>0</td>\n",
       "      <td>0</td>\n",
       "      <td>1</td>\n",
       "      <td>1</td>\n",
       "    </tr>\n",
       "    <tr>\n",
       "      <th>...</th>\n",
       "      <td>...</td>\n",
       "      <td>...</td>\n",
       "      <td>...</td>\n",
       "      <td>...</td>\n",
       "      <td>...</td>\n",
       "      <td>...</td>\n",
       "      <td>...</td>\n",
       "      <td>...</td>\n",
       "      <td>...</td>\n",
       "      <td>...</td>\n",
       "      <td>...</td>\n",
       "      <td>...</td>\n",
       "    </tr>\n",
       "    <tr>\n",
       "      <th>69771</th>\n",
       "      <td>23330</td>\n",
       "      <td>1</td>\n",
       "      <td>167</td>\n",
       "      <td>81.0</td>\n",
       "      <td>160</td>\n",
       "      <td>1000</td>\n",
       "      <td>1</td>\n",
       "      <td>1</td>\n",
       "      <td>0</td>\n",
       "      <td>0</td>\n",
       "      <td>1</td>\n",
       "      <td>1</td>\n",
       "    </tr>\n",
       "    <tr>\n",
       "      <th>69872</th>\n",
       "      <td>21808</td>\n",
       "      <td>1</td>\n",
       "      <td>152</td>\n",
       "      <td>56.0</td>\n",
       "      <td>160</td>\n",
       "      <td>1000</td>\n",
       "      <td>1</td>\n",
       "      <td>1</td>\n",
       "      <td>0</td>\n",
       "      <td>0</td>\n",
       "      <td>1</td>\n",
       "      <td>1</td>\n",
       "    </tr>\n",
       "    <tr>\n",
       "      <th>69878</th>\n",
       "      <td>21239</td>\n",
       "      <td>2</td>\n",
       "      <td>168</td>\n",
       "      <td>95.0</td>\n",
       "      <td>160</td>\n",
       "      <td>1000</td>\n",
       "      <td>1</td>\n",
       "      <td>1</td>\n",
       "      <td>0</td>\n",
       "      <td>0</td>\n",
       "      <td>1</td>\n",
       "      <td>1</td>\n",
       "    </tr>\n",
       "    <tr>\n",
       "      <th>69885</th>\n",
       "      <td>22417</td>\n",
       "      <td>2</td>\n",
       "      <td>166</td>\n",
       "      <td>78.0</td>\n",
       "      <td>170</td>\n",
       "      <td>1000</td>\n",
       "      <td>1</td>\n",
       "      <td>1</td>\n",
       "      <td>0</td>\n",
       "      <td>0</td>\n",
       "      <td>0</td>\n",
       "      <td>0</td>\n",
       "    </tr>\n",
       "    <tr>\n",
       "      <th>69967</th>\n",
       "      <td>21416</td>\n",
       "      <td>2</td>\n",
       "      <td>168</td>\n",
       "      <td>63.0</td>\n",
       "      <td>140</td>\n",
       "      <td>1000</td>\n",
       "      <td>1</td>\n",
       "      <td>1</td>\n",
       "      <td>0</td>\n",
       "      <td>0</td>\n",
       "      <td>1</td>\n",
       "      <td>1</td>\n",
       "    </tr>\n",
       "  </tbody>\n",
       "</table>\n",
       "<p>1234 rows × 12 columns</p>\n",
       "</div>"
      ],
      "text/plain": [
       "         age  gender  height  weight  ap_hi  ap_lo  cholesterol  gluc  smoke  \\\n",
       "228    17489       2     183    98.0    160   1100            1     2      1   \n",
       "241    21932       2     157    60.0    160   1000            2     1      0   \n",
       "260    18217       1     150    83.0    140    800            1     1      0   \n",
       "329    23407       1     176    63.0    160   1000            2     2      0   \n",
       "345    18704       1     154    81.0    140   1000            2     1      0   \n",
       "...      ...     ...     ...     ...    ...    ...          ...   ...    ...   \n",
       "69771  23330       1     167    81.0    160   1000            1     1      0   \n",
       "69872  21808       1     152    56.0    160   1000            1     1      0   \n",
       "69878  21239       2     168    95.0    160   1000            1     1      0   \n",
       "69885  22417       2     166    78.0    170   1000            1     1      0   \n",
       "69967  21416       2     168    63.0    140   1000            1     1      0   \n",
       "\n",
       "       alco  active  cardio  \n",
       "228       0       1       1  \n",
       "241       0       0       1  \n",
       "260       0       1       1  \n",
       "329       0       0       1  \n",
       "345       0       1       1  \n",
       "...     ...     ...     ...  \n",
       "69771     0       1       1  \n",
       "69872     0       1       1  \n",
       "69878     0       1       1  \n",
       "69885     0       0       0  \n",
       "69967     0       1       1  \n",
       "\n",
       "[1234 rows x 12 columns]"
      ]
     },
     "execution_count": 303,
     "metadata": {},
     "output_type": "execute_result"
    }
   ],
   "source": [
    "#Entradas cujo valor diastólico é superior ao sistólico\n",
    "df.loc[df['ap_hi'] < df['ap_lo']]"
   ]
  },
  {
   "cell_type": "code",
   "execution_count": 304,
   "metadata": {
    "collapsed": false
   },
   "outputs": [],
   "source": [
    "# Remoção das entradas cujo valor diastólico é superior ao sistólico\n",
    "df.drop(df.loc[df['ap_hi'] < df['ap_lo']].index, inplace=True)"
   ]
  },
  {
   "cell_type": "markdown",
   "metadata": {
    "collapsed": false
   },
   "source": [
    "## Tratamento de outliers"
   ]
  },
  {
   "cell_type": "markdown",
   "metadata": {
    "collapsed": false
   },
   "source": [
    "### Remoção de outliers"
   ]
  },
  {
   "cell_type": "code",
   "execution_count": 305,
   "metadata": {
    "collapsed": false
   },
   "outputs": [],
   "source": [
    "# FILTRAR POR VALORES NORMAIS\n",
    "df.drop(df.loc[(df['height'] < 130) | (df['height'] > 210)].index, inplace=True)\n",
    "df.drop(df.loc[df['weight'] < 40].index, inplace=True)\n",
    "df.drop(df.loc[(df['ap_hi'] > 360) | (df['ap_hi'] < 30)].index, inplace=True)\n",
    "df.drop(df.loc[(df['ap_lo'] > 250) | (df['ap_lo'] < 30)].index, inplace=True)"
   ]
  },
  {
   "cell_type": "code",
   "execution_count": 306,
   "metadata": {
    "collapsed": false
   },
   "outputs": [
    {
     "name": "stdout",
     "output_type": "stream",
     "text": [
      "Nr de outliers da feature 'age': 4\n",
      "Nr de outliers da feature 'height': 411\n",
      "Nr de outliers da feature 'weight': 1688\n",
      "Nr de outliers da feature 'ap_hi': 1007\n",
      "Nr de outliers da feature 'ap_lo': 3495\n"
     ]
    }
   ],
   "source": [
    "#Nº de outliers utilizando IQR\n",
    "for attr in ['age', 'height', 'weight', 'ap_hi', 'ap_lo']:\n",
    "    print(f\"Nr de outliers da feature '{attr}': {get_outliers_iqr(df,attr).shape[0]}\")"
   ]
  },
  {
   "cell_type": "code",
   "execution_count": 307,
   "metadata": {
    "collapsed": false
   },
   "outputs": [
    {
     "name": "stdout",
     "output_type": "stream",
     "text": [
      "Nr de outliers da feature 'age': 0\n",
      "Nr de outliers da feature 'height': 183\n",
      "Nr de outliers da feature 'weight': 705\n",
      "Nr de outliers da feature 'ap_hi': 894\n",
      "Nr de outliers da feature 'ap_lo': 626\n"
     ]
    }
   ],
   "source": [
    "#Nº de outliers com z-score igual ou superior a 3\n",
    "for attr in ['age', 'height', 'weight', 'ap_hi', 'ap_lo']:\n",
    "    print(f\"Nr de outliers da feature '{attr}': {get_outliers_zscore(df,attr,3).shape[0]}\")"
   ]
  },
  {
   "cell_type": "code",
   "execution_count": 308,
   "metadata": {
    "collapsed": false
   },
   "outputs": [],
   "source": [
    "#Remocao de outliers com z-score igual ou superior a 3\n",
    "for attr in ['age', 'height', 'weight', 'ap_hi', 'ap_lo']:\n",
    "    df.drop(get_outliers_zscore(df, attr, 3).index)"
   ]
  },
  {
   "cell_type": "markdown",
   "metadata": {
    "collapsed": false
   },
   "source": [
    "### Modificação de outliers"
   ]
  },
  {
   "cell_type": "code",
   "execution_count": 309,
   "metadata": {
    "collapsed": false
   },
   "outputs": [],
   "source": [
    "def convert_outlier_to_limit(val, lim_inf, lim_sup):\n",
    "    counter = 0\n",
    "    if val < lim_inf:\n",
    "        return lim_inf\n",
    "    elif val > lim_sup:\n",
    "        return lim_sup\n",
    "    else:\n",
    "        return val"
   ]
  },
  {
   "cell_type": "markdown",
   "metadata": {
    "collapsed": false
   },
   "source": [
    "##### - Age"
   ]
  },
  {
   "cell_type": "code",
   "execution_count": 310,
   "metadata": {
    "collapsed": false
   },
   "outputs": [],
   "source": [
    "# Modifica valores dos outliers para o limite mais proximo\n",
    "linf, lsup = get_limits_iqr(df, 'age')\n",
    "df['age'] = df['age'].apply(convert_outlier_to_limit,args=(linf,lsup))"
   ]
  },
  {
   "cell_type": "code",
   "execution_count": 311,
   "metadata": {
    "collapsed": false
   },
   "outputs": [
    {
     "data": {
      "text/plain": [
       "<AxesSubplot:xlabel='age'>"
      ]
     },
     "execution_count": 311,
     "metadata": {},
     "output_type": "execute_result"
    },
    {
     "data": {
      "image/png": "[encoded data removed]",
      "text/plain": [
       "<Figure size 432x288 with 1 Axes>"
      ]
     },
     "metadata": {
      "needs_background": "light"
     },
     "output_type": "display_data"
    }
   ],
   "source": [
    "sns.boxplot(x=df['age'])"
   ]
  },
  {
   "cell_type": "markdown",
   "metadata": {
    "collapsed": false
   },
   "source": [
    "##### - Pressão diastólica e sistólica"
   ]
  },
  {
   "cell_type": "code",
   "execution_count": 312,
   "metadata": {
    "collapsed": false
   },
   "outputs": [],
   "source": [
    "# Modifica valores dos outliers para o limite mais proximo\n",
    "linf, lsup = get_limits_iqr(df, 'ap_lo')\n",
    "df['ap_lo'] = df['ap_lo'].apply(convert_outlier_to_limit,args=(linf,lsup))"
   ]
  },
  {
   "cell_type": "code",
   "execution_count": 313,
   "metadata": {
    "collapsed": false
   },
   "outputs": [],
   "source": [
    "# Modifica valores dos outliers para o limite mais proximo\n",
    "linf, lsup = get_limits_iqr(df, 'ap_hi')\n",
    "df['ap_hi'] = df['ap_hi'].apply(convert_outlier_to_limit,args=(linf,lsup))"
   ]
  },
  {
   "cell_type": "code",
   "execution_count": 314,
   "metadata": {
    "collapsed": false
   },
   "outputs": [],
   "source": [
    "# Remoção das entradas cujo valor diastólico é superior ao sistólico\n",
    "df.drop(df.loc[df['ap_hi'] < df['ap_lo']].index, inplace=True)"
   ]
  },
  {
   "cell_type": "code",
   "execution_count": 315,
   "metadata": {
    "collapsed": false
   },
   "outputs": [
    {
     "data": {
      "text/plain": [
       "<AxesSubplot:xlabel='ap_lo'>"
      ]
     },
     "execution_count": 315,
     "metadata": {},
     "output_type": "execute_result"
    },
    {
     "data": {
      "image/png": "[encoded data removed]",
      "text/plain": [
       "<Figure size 432x288 with 1 Axes>"
      ]
     },
     "metadata": {
      "needs_background": "light"
     },
     "output_type": "display_data"
    }
   ],
   "source": [
    "sns.boxplot(x=df['ap_lo'])"
   ]
  },
  {
   "cell_type": "code",
   "execution_count": 316,
   "metadata": {
    "collapsed": false
   },
   "outputs": [
    {
     "data": {
      "text/plain": [
       "<AxesSubplot:xlabel='ap_hi'>"
      ]
     },
     "execution_count": 316,
     "metadata": {},
     "output_type": "execute_result"
    },
    {
     "data": {
      "image/png": "[encoded data removed]",
      "text/plain": [
       "<Figure size 432x288 with 1 Axes>"
      ]
     },
     "metadata": {
      "needs_background": "light"
     },
     "output_type": "display_data"
    }
   ],
   "source": [
    "sns.boxplot(x=df['ap_hi'])"
   ]
  },
  {
   "cell_type": "markdown",
   "metadata": {
    "collapsed": false
   },
   "source": [
    "## Feature Engineering"
   ]
  },
  {
   "cell_type": "markdown",
   "metadata": {
    "collapsed": false
   },
   "source": [
    "### Conversão da altura de centimetros para metros"
   ]
  },
  {
   "cell_type": "code",
   "execution_count": 317,
   "metadata": {
    "collapsed": false
   },
   "outputs": [],
   "source": [
    "df['height'] = df['height'] / 100"
   ]
  },
  {
   "cell_type": "markdown",
   "metadata": {
    "collapsed": false
   },
   "source": [
    "### Conversão da idade em dias para idade em anos"
   ]
  },
  {
   "cell_type": "code",
   "execution_count": 318,
   "metadata": {
    "collapsed": false
   },
   "outputs": [],
   "source": [
    "import math\n",
    "\n",
    "def calculate_age(days):\n",
    "    return math.floor(days / 365.0)"
   ]
  },
  {
   "cell_type": "code",
   "execution_count": 319,
   "metadata": {
    "collapsed": false
   },
   "outputs": [],
   "source": [
    "df['age'] = df['age'].apply(calculate_age)"
   ]
  },
  {
   "cell_type": "markdown",
   "metadata": {
    "collapsed": false
   },
   "source": [
    "### Binning da idade"
   ]
  },
  {
   "cell_type": "code",
   "execution_count": 320,
   "metadata": {
    "collapsed": false
   },
   "outputs": [],
   "source": [
    "def bin_age(age):\n",
    "    if age < 30:\n",
    "        return 1\n",
    "    elif age < 40:\n",
    "        return 2\n",
    "    elif age < 50:\n",
    "        return 3\n",
    "    elif age < 60:\n",
    "        return 4\n",
    "    else:\n",
    "        return 5"
   ]
  },
  {
   "cell_type": "code",
   "execution_count": 321,
   "metadata": {
    "collapsed": false
   },
   "outputs": [],
   "source": [
    "df['age_binned'] = df['age'].apply(bin_age)"
   ]
  },
  {
   "cell_type": "markdown",
   "metadata": {
    "collapsed": false
   },
   "source": [
    "### Criação do atributo BMI (Indice de massa corporal)"
   ]
  },
  {
   "cell_type": "code",
   "execution_count": 322,
   "metadata": {
    "collapsed": false
   },
   "outputs": [],
   "source": [
    "# BMI = weight / height^2\n",
    "df['BMI'] = df.weight / (df.height * df.height)"
   ]
  },
  {
   "cell_type": "code",
   "execution_count": 323,
   "metadata": {
    "collapsed": false
   },
   "outputs": [
    {
     "data": {
      "text/plain": [
       "<AxesSubplot:xlabel='BMI'>"
      ]
     },
     "execution_count": 323,
     "metadata": {},
     "output_type": "execute_result"
    },
    {
     "data": {
      "image/png": "[encoded data removed]",
      "text/plain": [
       "<Figure size 432x288 with 1 Axes>"
      ]
     },
     "metadata": {
      "needs_background": "light"
     },
     "output_type": "display_data"
    }
   ],
   "source": [
    "sns.boxplot(x=df[\"BMI\"])"
   ]
  },
  {
   "cell_type": "code",
   "execution_count": 324,
   "metadata": {
    "collapsed": false
   },
   "outputs": [],
   "source": [
    "#Remocao de outliers do atributo BMI\n",
    "df = df.drop(get_outliers_iqr(df, 'BMI').index)\n",
    "#df = df.drop(df.loc[df['BMI'] > 50].index)"
   ]
  },
  {
   "cell_type": "markdown",
   "metadata": {},
   "source": [
    "## <u>Seleção de atributos</u>"
   ]
  },
  {
   "cell_type": "code",
   "execution_count": 325,
   "metadata": {
    "collapsed": false
   },
   "outputs": [],
   "source": [
    "#Em funcao da nova altura, retorna o peso que mantem o bmi\n",
    "def modify_height(new_height, bmi):\n",
    "    return bmi * new_height * new_height\n",
    "\n",
    "#Em funcao do novo peso, retorna a altura que mantem o bmi\n",
    "def modify_weight(new_weight, bmi):\n",
    "    return math.sqrt(new_weight / bmi)\n",
    "\n",
    "def modify_height_weight_bmi_outliers(frame : pd.DataFrame):\n",
    "    counter_height = 0\n",
    "    counter_weight = 0\n",
    "    linf_height, lsup_height = get_limits_iqr(df, 'height')\n",
    "    linf_weight, lsup_weight = get_limits_iqr(df, 'weight')\n",
    "    for index,row in frame.iterrows():\n",
    "        height = row[\"height\"]\n",
    "        weight = row[\"weight\"]\n",
    "        new_height = convert_outlier_to_limit(height, linf_height, lsup_height)\n",
    "        new_weight = convert_outlier_to_limit(weight, linf_weight, lsup_weight)\n",
    "        if height != new_height :\n",
    "            df.at[index, \"height\"] = new_height\n",
    "            counter_height = counter_height + 1\n",
    "        if weight != new_weight :\n",
    "            df.at[index, \"weight\"] = new_weight\n",
    "            counter_weight = counter_weight + 1\n",
    "    print(f\"height: {counter_height} | weight:{counter_weight}\")"
   ]
  },
  {
   "cell_type": "code",
   "execution_count": 326,
   "metadata": {
    "collapsed": false
   },
   "outputs": [
    {
     "name": "stdout",
     "output_type": "stream",
     "text": [
      "height: 369 | weight:1471\n"
     ]
    }
   ],
   "source": [
    "modify_height_weight_bmi_outliers(df)"
   ]
  },
  {
   "cell_type": "code",
   "execution_count": 327,
   "metadata": {
    "collapsed": false
   },
   "outputs": [
    {
     "data": {
      "text/plain": [
       "<AxesSubplot:xlabel='BMI'>"
      ]
     },
     "execution_count": 327,
     "metadata": {},
     "output_type": "execute_result"
    },
    {
     "data": {
      "image/png": "[encoded data removed]",
      "text/plain": [
       "<Figure size 432x288 with 1 Axes>"
      ]
     },
     "metadata": {
      "needs_background": "light"
     },
     "output_type": "display_data"
    }
   ],
   "source": [
    "sns.boxplot(x=df[\"BMI\"])"
   ]
  },
  {
   "cell_type": "code",
   "execution_count": 328,
   "metadata": {
    "collapsed": false
   },
   "outputs": [
    {
     "data": {
      "text/plain": [
       "<AxesSubplot:xlabel='height'>"
      ]
     },
     "execution_count": 328,
     "metadata": {},
     "output_type": "execute_result"
    },
    {
     "data": {
      "image/png": "[encoded data removed]",
      "text/plain": [
       "<Figure size 432x288 with 1 Axes>"
      ]
     },
     "metadata": {
      "needs_background": "light"
     },
     "output_type": "display_data"
    }
   ],
   "source": [
    "sns.boxplot(x=df[\"height\"])"
   ]
  },
  {
   "cell_type": "code",
   "execution_count": 329,
   "metadata": {
    "collapsed": false
   },
   "outputs": [
    {
     "data": {
      "text/plain": [
       "<AxesSubplot:xlabel='weight'>"
      ]
     },
     "execution_count": 329,
     "metadata": {},
     "output_type": "execute_result"
    },
    {
     "data": {
      "image/png": "[encoded data removed]",
      "text/plain": [
       "<Figure size 432x288 with 1 Axes>"
      ]
     },
     "metadata": {
      "needs_background": "light"
     },
     "output_type": "display_data"
    }
   ],
   "source": [
    "sns.boxplot(x=df[\"weight\"])"
   ]
  },
  {
   "cell_type": "markdown",
   "metadata": {
    "collapsed": false
   },
   "source": [
    "### Binning do indice de massa corporal"
   ]
  },
  {
   "cell_type": "code",
   "execution_count": 330,
   "metadata": {
    "collapsed": false
   },
   "outputs": [],
   "source": [
    "def bin_bmi(bmi):\n",
    "    if bmi < 18.5: # underweight\n",
    "        return 1\n",
    "    elif bmi < 25: # normal\n",
    "        return 2\n",
    "    elif bmi < 30: # overweight\n",
    "        return 3\n",
    "    elif bmi < 35: # obese\n",
    "        return 4\n",
    "    else:          # extremely obese\n",
    "        return 5"
   ]
  },
  {
   "cell_type": "code",
   "execution_count": 331,
   "metadata": {
    "collapsed": false
   },
   "outputs": [],
   "source": [
    "df['BMI_binned'] = df['BMI'].apply(bin_bmi)"
   ]
  },
  {
   "cell_type": "code",
   "execution_count": 332,
   "metadata": {},
   "outputs": [
    {
     "name": "stdout",
     "output_type": "stream",
     "text": [
      "Skewness: \n",
      "age           -0.298288\n",
      "gender         0.605189\n",
      "height         0.105615\n",
      "weight         0.361235\n",
      "ap_hi          0.648458\n",
      "ap_lo          0.355303\n",
      "cholesterol    1.630408\n",
      "gluc           2.447111\n",
      "smoke          2.885160\n",
      "alco           3.976999\n",
      "active        -1.533508\n",
      "cardio         0.043996\n",
      "age_binned    -0.136311\n",
      "BMI            0.566920\n",
      "BMI_binned     0.606701\n",
      "dtype: float64\n",
      "\n",
      "Kurtosis: \n",
      "age            -0.829595\n",
      "gender         -1.633795\n",
      "height         -0.091919\n",
      "weight         -0.260973\n",
      "ap_hi           0.415400\n",
      "ap_lo           0.077090\n",
      "cholesterol     1.145101\n",
      "gluc            4.541215\n",
      "smoke           6.324341\n",
      "alco           13.816939\n",
      "active          0.351657\n",
      "cardio         -1.998124\n",
      "age_binned     -0.429093\n",
      "BMI            -0.119230\n",
      "BMI_binned     -0.372507\n",
      "dtype: float64\n"
     ]
    }
   ],
   "source": [
    "print(f\"Skewness: \\n{df.skew()}\")\n",
    "print(f\"\\nKurtosis: \\n{df.kurt()}\")"
   ]
  },
  {
   "cell_type": "code",
   "execution_count": 333,
   "metadata": {},
   "outputs": [
    {
     "data": {
      "text/plain": [
       "<AxesSubplot:xlabel='BMI'>"
      ]
     },
     "execution_count": 333,
     "metadata": {},
     "output_type": "execute_result"
    },
    {
     "data": {
      "image/png": "[encoded data removed]",
      "text/plain": [
       "<Figure size 1080x864 with 6 Axes>"
      ]
     },
     "metadata": {
      "needs_background": "light"
     },
     "output_type": "display_data"
    }
   ],
   "source": [
    "fig, axs = plt.subplots(3,2, figsize = (15,12))\n",
    "fig.suptitle(\"Boxplots\")\n",
    "sns.boxplot(x=df['age'], ax=axs[0,0])\n",
    "sns.boxplot(x=df['height'], ax=axs[0,1])\n",
    "sns.boxplot(x=df['weight'], ax=axs[1,0])\n",
    "sns.boxplot(x=df['ap_hi'], ax=axs[1,1])\n",
    "sns.boxplot(x=df['ap_lo'], ax=axs[2,0])\n",
    "sns.boxplot(x=df['BMI'], ax=axs[2,1])"
   ]
  },
  {
   "attachments": {},
   "cell_type": "markdown",
   "metadata": {},
   "source": [
    "## <u>Seleção de atributos</u>"
   ]
  },
  {
   "cell_type": "code",
   "execution_count": 334,
   "metadata": {},
   "outputs": [
    {
     "data": {
      "text/plain": [
       "Index(['age', 'ap_hi', 'ap_lo', 'cholesterol', 'cardio', 'age_binned'], dtype='object')"
      ]
     },
     "execution_count": 334,
     "metadata": {},
     "output_type": "execute_result"
    }
   ],
   "source": [
    "#Seleção por correlação\n",
    "cor = df.corr()\n",
    "cor_target = abs(cor[\"cardio\"])\n",
    "relevant_features = cor_target[cor_target > 0.2]\n",
    "relevant_features.index"
   ]
  },
  {
   "cell_type": "code",
   "execution_count": 335,
   "metadata": {},
   "outputs": [
    {
     "name": "stderr",
     "output_type": "stream",
     "text": [
      "c:\\Users\\Acer\\anaconda3\\envs\\DAA\\lib\\site-packages\\sklearn\\utils\\validation.py:63: DataConversionWarning: A column-vector y was passed when a 1d array was expected. Please change the shape of y to (n_samples, ), for example using ravel().\n",
      "  return f(*args, **kwargs)\n"
     ]
    },
    {
     "data": {
      "text/plain": [
       "['gender',\n",
       " 'ap_hi',\n",
       " 'ap_lo',\n",
       " 'cholesterol',\n",
       " 'gluc',\n",
       " 'smoke',\n",
       " 'alco',\n",
       " 'active',\n",
       " 'age_binned',\n",
       " 'BMI_binned']"
      ]
     },
     "execution_count": 335,
     "metadata": {},
     "output_type": "execute_result"
    }
   ],
   "source": [
    "x = df.drop(['cardio', 'weight', 'height','age','BMI'], axis=1)\n",
    "y = df['cardio'].to_frame()\n",
    "\n",
    "uni = SelectKBest(score_func = f_classif, k = 10)\n",
    "fit = uni.fit(x, y) \n",
    "x.columns[fit.get_support(indices=True)].tolist()"
   ]
  },
  {
   "cell_type": "markdown",
   "metadata": {},
   "source": [
    "---\n",
    "# MODELOS\n",
    "---"
   ]
  },
  {
   "cell_type": "markdown",
   "metadata": {
    "collapsed": false
   },
   "source": [
    "## Decision Tree Classifier"
   ]
  },
  {
   "cell_type": "code",
   "execution_count": 336,
   "metadata": {
    "collapsed": false
   },
   "outputs": [],
   "source": [
    "x = df.drop(['cardio', 'weight', 'height', 'BMI'], axis=1)\n",
    "y = df['cardio'].to_frame()"
   ]
  },
  {
   "cell_type": "code",
   "execution_count": 337,
   "metadata": {},
   "outputs": [
    {
     "name": "stdout",
     "output_type": "stream",
     "text": [
      "[0.72410687 0.72966076 0.73626539 0.73701591 0.72095467 0.72856928\n",
      " 0.72796877 0.73592554 0.72676775 0.72796877]\n",
      "RESULT: 0.73 accuracy with a standard deviation of 0.01\n",
      "0.7295203722623853\n"
     ]
    }
   ],
   "source": [
    "from sklearn.model_selection import cross_val_score\n",
    "from sklearn.tree import DecisionTreeClassifier\n",
    "\n",
    "\n",
    "clf = DecisionTreeClassifier(random_state=2022, criterion='gini', max_depth=10)\n",
    "scores = cross_val_score(clf, x, y, cv=10)\n",
    "print(scores)\n",
    "print('RESULT: %0.2f accuracy with a standard deviation of %0.2f' % (scores.mean(), scores.std()))\n",
    "print(scores.mean())"
   ]
  },
  {
   "cell_type": "code",
   "execution_count": 338,
   "metadata": {},
   "outputs": [
    {
     "name": "stdout",
     "output_type": "stream",
     "text": [
      "Best accuracy: 0.7327778979890336\n",
      "best_criterion: gini\n",
      "best_max_depth: 7\n"
     ]
    }
   ],
   "source": [
    "from sklearn.model_selection import train_test_split\n",
    "\n",
    "best_accuracy = 0\n",
    "best_criterion = \"\"\n",
    "best_max_depth = 0\n",
    "\n",
    "for i in range(1,10):\n",
    "    for c in [\"gini\",\"entropy\"]:\n",
    "        clf = DecisionTreeClassifier(random_state=2022, criterion=c, max_depth=i)\n",
    "        scores = cross_val_score(clf, x, y, cv=10)\n",
    "        new_acc = scores.mean()\n",
    "        if new_acc > best_accuracy:\n",
    "            best_accuracy = new_acc\n",
    "            best_criterion = c\n",
    "            best_max_depth = i\n",
    "\n",
    "print(\"Best accuracy:\", best_accuracy)\n",
    "print(\"best_criterion:\", best_criterion)\n",
    "print(\"best_max_depth:\", best_max_depth)"
   ]
  },
  {
   "cell_type": "markdown",
   "metadata": {
    "collapsed": false
   },
   "source": [
    "## MultiLayer Perceptron Model"
   ]
  },
  {
   "cell_type": "code",
   "execution_count": 339,
   "metadata": {
    "collapsed": false
   },
   "outputs": [],
   "source": [
    "x = df.drop([\"cardio\",\"BMI_binned\",\"age_binned\"],axis=1)\n",
    "y = df[[\"cardio\"]]\n",
    "\n",
    "scaler_x = MinMaxScaler(feature_range=(0,1)).fit(x)\n",
    "scaler_y = MinMaxScaler(feature_range=(0,1)).fit(y)\n",
    "x_scaled = pd.DataFrame(scaler_x.transform(x[x.columns]),columns=x.columns)\n",
    "y_scaled = pd.DataFrame(scaler_y.transform(y[y.columns]),columns=y.columns)"
   ]
  },
  {
   "cell_type": "code",
   "execution_count": 340,
   "metadata": {
    "collapsed": false
   },
   "outputs": [
    {
     "data": {
      "text/html": [
       "<div>\n",
       "<style scoped>\n",
       "    .dataframe tbody tr th:only-of-type {\n",
       "        vertical-align: middle;\n",
       "    }\n",
       "\n",
       "    .dataframe tbody tr th {\n",
       "        vertical-align: top;\n",
       "    }\n",
       "\n",
       "    .dataframe thead th {\n",
       "        text-align: right;\n",
       "    }\n",
       "</style>\n",
       "<table border=\"1\" class=\"dataframe\">\n",
       "  <thead>\n",
       "    <tr style=\"text-align: right;\">\n",
       "      <th></th>\n",
       "      <th>age</th>\n",
       "      <th>gender</th>\n",
       "      <th>height</th>\n",
       "      <th>weight</th>\n",
       "      <th>ap_hi</th>\n",
       "      <th>ap_lo</th>\n",
       "      <th>cholesterol</th>\n",
       "      <th>gluc</th>\n",
       "      <th>smoke</th>\n",
       "      <th>alco</th>\n",
       "      <th>active</th>\n",
       "      <th>BMI</th>\n",
       "    </tr>\n",
       "  </thead>\n",
       "  <tbody>\n",
       "    <tr>\n",
       "      <th>0</th>\n",
       "      <td>50</td>\n",
       "      <td>2</td>\n",
       "      <td>1.68</td>\n",
       "      <td>62.0</td>\n",
       "      <td>110.0</td>\n",
       "      <td>80.0</td>\n",
       "      <td>1</td>\n",
       "      <td>1</td>\n",
       "      <td>0</td>\n",
       "      <td>0</td>\n",
       "      <td>1</td>\n",
       "      <td>21.967120</td>\n",
       "    </tr>\n",
       "    <tr>\n",
       "      <th>1</th>\n",
       "      <td>55</td>\n",
       "      <td>1</td>\n",
       "      <td>1.56</td>\n",
       "      <td>85.0</td>\n",
       "      <td>140.0</td>\n",
       "      <td>90.0</td>\n",
       "      <td>3</td>\n",
       "      <td>1</td>\n",
       "      <td>0</td>\n",
       "      <td>0</td>\n",
       "      <td>1</td>\n",
       "      <td>34.927679</td>\n",
       "    </tr>\n",
       "    <tr>\n",
       "      <th>2</th>\n",
       "      <td>51</td>\n",
       "      <td>1</td>\n",
       "      <td>1.65</td>\n",
       "      <td>64.0</td>\n",
       "      <td>130.0</td>\n",
       "      <td>70.0</td>\n",
       "      <td>3</td>\n",
       "      <td>1</td>\n",
       "      <td>0</td>\n",
       "      <td>0</td>\n",
       "      <td>0</td>\n",
       "      <td>23.507805</td>\n",
       "    </tr>\n",
       "    <tr>\n",
       "      <th>3</th>\n",
       "      <td>48</td>\n",
       "      <td>2</td>\n",
       "      <td>1.69</td>\n",
       "      <td>82.0</td>\n",
       "      <td>150.0</td>\n",
       "      <td>100.0</td>\n",
       "      <td>1</td>\n",
       "      <td>1</td>\n",
       "      <td>0</td>\n",
       "      <td>0</td>\n",
       "      <td>1</td>\n",
       "      <td>28.710479</td>\n",
       "    </tr>\n",
       "    <tr>\n",
       "      <th>4</th>\n",
       "      <td>47</td>\n",
       "      <td>1</td>\n",
       "      <td>1.56</td>\n",
       "      <td>56.0</td>\n",
       "      <td>100.0</td>\n",
       "      <td>65.0</td>\n",
       "      <td>1</td>\n",
       "      <td>1</td>\n",
       "      <td>0</td>\n",
       "      <td>0</td>\n",
       "      <td>0</td>\n",
       "      <td>23.011177</td>\n",
       "    </tr>\n",
       "  </tbody>\n",
       "</table>\n",
       "</div>"
      ],
      "text/plain": [
       "   age  gender  height  weight  ap_hi  ap_lo  cholesterol  gluc  smoke  alco  \\\n",
       "0   50       2    1.68    62.0  110.0   80.0            1     1      0     0   \n",
       "1   55       1    1.56    85.0  140.0   90.0            3     1      0     0   \n",
       "2   51       1    1.65    64.0  130.0   70.0            3     1      0     0   \n",
       "3   48       2    1.69    82.0  150.0  100.0            1     1      0     0   \n",
       "4   47       1    1.56    56.0  100.0   65.0            1     1      0     0   \n",
       "\n",
       "   active        BMI  \n",
       "0       1  21.967120  \n",
       "1       1  34.927679  \n",
       "2       0  23.507805  \n",
       "3       1  28.710479  \n",
       "4       0  23.011177  "
      ]
     },
     "execution_count": 340,
     "metadata": {},
     "output_type": "execute_result"
    }
   ],
   "source": [
    "x.head()"
   ]
  },
  {
   "cell_type": "code",
   "execution_count": 341,
   "metadata": {
    "collapsed": false
   },
   "outputs": [
    {
     "data": {
      "text/html": [
       "<div>\n",
       "<style scoped>\n",
       "    .dataframe tbody tr th:only-of-type {\n",
       "        vertical-align: middle;\n",
       "    }\n",
       "\n",
       "    .dataframe tbody tr th {\n",
       "        vertical-align: top;\n",
       "    }\n",
       "\n",
       "    .dataframe thead th {\n",
       "        text-align: right;\n",
       "    }\n",
       "</style>\n",
       "<table border=\"1\" class=\"dataframe\">\n",
       "  <thead>\n",
       "    <tr style=\"text-align: right;\">\n",
       "      <th></th>\n",
       "      <th>age</th>\n",
       "      <th>gender</th>\n",
       "      <th>height</th>\n",
       "      <th>weight</th>\n",
       "      <th>ap_hi</th>\n",
       "      <th>ap_lo</th>\n",
       "      <th>cholesterol</th>\n",
       "      <th>gluc</th>\n",
       "      <th>smoke</th>\n",
       "      <th>alco</th>\n",
       "      <th>active</th>\n",
       "      <th>BMI</th>\n",
       "    </tr>\n",
       "  </thead>\n",
       "  <tbody>\n",
       "    <tr>\n",
       "      <th>0</th>\n",
       "      <td>0.548387</td>\n",
       "      <td>1.0</td>\n",
       "      <td>0.579545</td>\n",
       "      <td>0.325000</td>\n",
       "      <td>0.250</td>\n",
       "      <td>0.375</td>\n",
       "      <td>0.0</td>\n",
       "      <td>0.0</td>\n",
       "      <td>0.0</td>\n",
       "      <td>0.0</td>\n",
       "      <td>1.0</td>\n",
       "      <td>0.298193</td>\n",
       "    </tr>\n",
       "    <tr>\n",
       "      <th>1</th>\n",
       "      <td>0.709677</td>\n",
       "      <td>0.0</td>\n",
       "      <td>0.306818</td>\n",
       "      <td>0.708333</td>\n",
       "      <td>0.625</td>\n",
       "      <td>0.625</td>\n",
       "      <td>1.0</td>\n",
       "      <td>0.0</td>\n",
       "      <td>0.0</td>\n",
       "      <td>0.0</td>\n",
       "      <td>1.0</td>\n",
       "      <td>0.817666</td>\n",
       "    </tr>\n",
       "    <tr>\n",
       "      <th>2</th>\n",
       "      <td>0.580645</td>\n",
       "      <td>0.0</td>\n",
       "      <td>0.511364</td>\n",
       "      <td>0.358333</td>\n",
       "      <td>0.500</td>\n",
       "      <td>0.125</td>\n",
       "      <td>1.0</td>\n",
       "      <td>0.0</td>\n",
       "      <td>0.0</td>\n",
       "      <td>0.0</td>\n",
       "      <td>0.0</td>\n",
       "      <td>0.359945</td>\n",
       "    </tr>\n",
       "    <tr>\n",
       "      <th>3</th>\n",
       "      <td>0.483871</td>\n",
       "      <td>1.0</td>\n",
       "      <td>0.602273</td>\n",
       "      <td>0.658333</td>\n",
       "      <td>0.750</td>\n",
       "      <td>0.875</td>\n",
       "      <td>0.0</td>\n",
       "      <td>0.0</td>\n",
       "      <td>0.0</td>\n",
       "      <td>0.0</td>\n",
       "      <td>1.0</td>\n",
       "      <td>0.568474</td>\n",
       "    </tr>\n",
       "    <tr>\n",
       "      <th>4</th>\n",
       "      <td>0.451613</td>\n",
       "      <td>0.0</td>\n",
       "      <td>0.306818</td>\n",
       "      <td>0.225000</td>\n",
       "      <td>0.125</td>\n",
       "      <td>0.000</td>\n",
       "      <td>0.0</td>\n",
       "      <td>0.0</td>\n",
       "      <td>0.0</td>\n",
       "      <td>0.0</td>\n",
       "      <td>0.0</td>\n",
       "      <td>0.340040</td>\n",
       "    </tr>\n",
       "  </tbody>\n",
       "</table>\n",
       "</div>"
      ],
      "text/plain": [
       "        age  gender    height    weight  ap_hi  ap_lo  cholesterol  gluc  \\\n",
       "0  0.548387     1.0  0.579545  0.325000  0.250  0.375          0.0   0.0   \n",
       "1  0.709677     0.0  0.306818  0.708333  0.625  0.625          1.0   0.0   \n",
       "2  0.580645     0.0  0.511364  0.358333  0.500  0.125          1.0   0.0   \n",
       "3  0.483871     1.0  0.602273  0.658333  0.750  0.875          0.0   0.0   \n",
       "4  0.451613     0.0  0.306818  0.225000  0.125  0.000          0.0   0.0   \n",
       "\n",
       "   smoke  alco  active       BMI  \n",
       "0    0.0   0.0     1.0  0.298193  \n",
       "1    0.0   0.0     1.0  0.817666  \n",
       "2    0.0   0.0     0.0  0.359945  \n",
       "3    0.0   0.0     1.0  0.568474  \n",
       "4    0.0   0.0     0.0  0.340040  "
      ]
     },
     "execution_count": 341,
     "metadata": {},
     "output_type": "execute_result"
    }
   ],
   "source": [
    "x_scaled.head()"
   ]
  },
  {
   "cell_type": "code",
   "execution_count": 342,
   "metadata": {
    "collapsed": false
   },
   "outputs": [],
   "source": [
    "x_train,x_test,y_train,y_test = train_test_split(x_scaled, y_scaled, test_size=0.2, random_state=RANDOM_SEED)"
   ]
  },
  {
   "cell_type": "code",
   "execution_count": 343,
   "metadata": {
    "collapsed": false
   },
   "outputs": [],
   "source": [
    "def build_model(activation=\"relu\",learning_rate=0.01):\n",
    "    #Create a sequential\n",
    "    model = Sequential()\n",
    "    model.add(Dense(16, input_dim=12, activation=activation))\n",
    "    model.add(Dense(8, activation=activation))\n",
    "    model.add(Dense(1, activation=\"relu\"))\n",
    "\n",
    "    #Compile the model\n",
    "    #\n",
    "    model.compile(\n",
    "        loss=\"mae\",\n",
    "        optimizer = tf.optimizers.Adam(learning_rate),\n",
    "        metrics = [\"mae\",\"mse\"])\n",
    "    return model"
   ]
  },
  {
   "cell_type": "code",
   "execution_count": 344,
   "metadata": {
    "collapsed": false
   },
   "outputs": [
    {
     "name": "stdout",
     "output_type": "stream",
     "text": [
      "Model: \"sequential_22\"\n",
      "_________________________________________________________________\n",
      "Layer (type)                 Output Shape              Param #   \n",
      "=================================================================\n",
      "dense_66 (Dense)             (None, 16)                208       \n",
      "_________________________________________________________________\n",
      "dense_67 (Dense)             (None, 8)                 136       \n",
      "_________________________________________________________________\n",
      "dense_68 (Dense)             (None, 1)                 9         \n",
      "=================================================================\n",
      "Total params: 353\n",
      "Trainable params: 353\n",
      "Non-trainable params: 0\n",
      "_________________________________________________________________\n"
     ]
    }
   ],
   "source": [
    "model = build_model()\n",
    "model.summary()"
   ]
  },
  {
   "cell_type": "code",
   "execution_count": 345,
   "metadata": {
    "collapsed": false
   },
   "outputs": [
    {
     "name": "stdout",
     "output_type": "stream",
     "text": [
      "Model: \"sequential_22\"\n",
      "_________________________________________________________________\n",
      "Layer (type)                 Output Shape              Param #   \n",
      "=================================================================\n",
      "dense_66 (Dense)             (None, 16)                208       \n",
      "_________________________________________________________________\n",
      "dense_67 (Dense)             (None, 8)                 136       \n",
      "_________________________________________________________________\n",
      "dense_68 (Dense)             (None, 1)                 9         \n",
      "=================================================================\n",
      "Total params: 353\n",
      "Trainable params: 353\n",
      "Non-trainable params: 0\n",
      "_________________________________________________________________\n"
     ]
    }
   ],
   "source": [
    "model.summary()\n",
    "TUNING_DICT = {\n",
    "    \"activation\": [\"relu\", \"sigmoid\"],\n",
    "    \"learning_rate\": [0.02, 0.001]\n",
    "}"
   ]
  },
  {
   "cell_type": "code",
   "execution_count": null,
   "metadata": {
    "collapsed": false
   },
   "outputs": [],
   "source": [
    "kf = KFold(n_splits=5, shuffle=True, random_state=RANDOM_SEED)\n",
    "\n",
    "model = KerasRegressor(build_fn=build_model, epochs=20,batch_size=32)\n",
    "grid_search = GridSearchCV(estimator=model,\n",
    "                           param_grid= TUNING_DICT,\n",
    "                           cv = kf,\n",
    "                           scoring=\"neg_mean_absolute_error\",\n",
    "                           refit=\"True\",\n",
    "                           verbose = 1)\n",
    "\n",
    "grid_search.fit(x_train,y_train,validation_split=0.2)"
   ]
  },
  {
   "cell_type": "code",
   "execution_count": null,
   "metadata": {
    "collapsed": false
   },
   "outputs": [],
   "source": [
    "print(\"Best : %f using %s\" % (grid_search.best_score_, grid_search.best_params_))\n",
    "means = grid_search.cv_results_[\"mean_test_score\"]\n",
    "stds = grid_search.cv_results_[\"std_test_score\"]\n",
    "params = grid_search.cv_results_[\"params\"]\n",
    "for mean, stdev, param in zip(means, stds, params):\n",
    "    print(\"%f  (%f) with: %r\" % (mean, stdev, param))"
   ]
  },
  {
   "cell_type": "code",
   "execution_count": null,
   "metadata": {},
   "outputs": [],
   "source": [
    "best_mlp_model = grid_search.best_estimator_\n",
    "\n",
    "predictions = best_mlp_model.predict(x_test)\n",
    "predictions = predictions.reshape(predictions.shape[0],1)\n",
    "predictions[:5]"
   ]
  },
  {
   "cell_type": "code",
   "execution_count": null,
   "metadata": {},
   "outputs": [],
   "source": [
    "predictions_unscaled = scaler_y.inverse_transform(predictions)\n",
    "predictions_unscaled[:5]"
   ]
  },
  {
   "cell_type": "code",
   "execution_count": null,
   "metadata": {},
   "outputs": [],
   "source": [
    "y_test_unscaled = scaler_y.inverse_transform(y_test)\n",
    "y_test_unscaled[:5]"
   ]
  },
  {
   "cell_type": "code",
   "execution_count": null,
   "metadata": {},
   "outputs": [],
   "source": [
    "print(\"MAE:\", metrics.mean_absolute_error(y_test,predictions))\n",
    "print(\"MSE:\", metrics.mean_squared_error(y_test,predictions))\n",
    "print(\"RMSE:\", np.sqrt(metrics.mean_absolute_error(y_test,predictions)))"
   ]
  },
  {
   "cell_type": "code",
   "execution_count": null,
   "metadata": {
    "collapsed": false
   },
   "outputs": [],
   "source": [
    "prediction_classes = [\n",
    "    1 if prob > 0.5 else 0 for prob in np.ravel(predictions)\n",
    "]\n",
    "from sklearn.metrics import confusion_matrix\n",
    "\n",
    "print(confusion_matrix(y_test, prediction_classes))\n",
    "from sklearn.metrics import accuracy_score, precision_score, recall_score\n",
    "\n",
    "print(f'Accuracy: {accuracy_score(y_test, prediction_classes):.16f}')\n",
    "print(f'Precision: {precision_score(y_test, prediction_classes):.16f}')\n",
    "print(f'Recall: {recall_score(y_test, prediction_classes):.16f}')"
   ]
  },
  {
   "cell_type": "markdown",
   "metadata": {},
   "source": [
    "## Random Forest Classifier"
   ]
  },
  {
   "cell_type": "code",
   "execution_count": 347,
   "metadata": {},
   "outputs": [
    {
     "name": "stdout",
     "output_type": "stream",
     "text": [
      "StratifiedKFold(n_splits=10, random_state=None, shuffle=False)\n",
      "List of possible accuracy: [0.6996397478234765, 0.7102972080456319, 0.7188531972380666, 0.7104473131191834, 0.7018913239267487, 0.7195616273832758, 0.7095030776159735, 0.710553970875244, 0.6931391682930491, 0.706800780663564]\n",
      "\n",
      "Maximum Accuracy That can be obtained from this model is: 71.95616273832758 %\n",
      "\n",
      "Minimum Accuracy: 69.31391682930492 %\n",
      "\n",
      "Overall Accuracy: 70.80687414984213 %\n",
      "\n",
      "Standard Deviation is: 0.008171471823251193\n"
     ]
    }
   ],
   "source": [
    "clf = RandomForestClassifier(random_state=RANDOM_SEED)\n",
    "\n",
    "skf = StratifiedKFold(n_splits=10)\n",
    "skf.get_n_splits(x, y)\n",
    "\n",
    "print(skf)\n",
    "clf_accu_stratified = []\n",
    "for train_index, test_index in skf.split(x, y):\n",
    "    x_train, x_test = x.iloc[train_index], x.iloc[test_index]\n",
    "    y_train, y_test = y.iloc[train_index], y.iloc[test_index]\n",
    "    clf.fit(x_train, y_train.values.ravel())\n",
    "    clf_accu_stratified.append(clf.score(x_test, y_test))\n",
    "print('List of possible accuracy:', clf_accu_stratified) \n",
    "print('\\nMaximum Accuracy That can be obtained from this model is:',max(clf_accu_stratified)*100, '%')\n",
    "print('\\nMinimum Accuracy:',    min(clf_accu_stratified)*100, '%')\n",
    "print('\\nOverall Accuracy:',    statistics.mean(clf_accu_stratified)*100, '%')\n",
    "print('\\nStandard Deviation is:', statistics.stdev(clf_accu_stratified))"
   ]
  },
  {
   "attachments": {},
   "cell_type": "markdown",
   "metadata": {},
   "source": [
    "## Naive Bayes"
   ]
  },
  {
   "cell_type": "code",
   "execution_count": 348,
   "metadata": {},
   "outputs": [],
   "source": [
    "x = df.drop([\"cardio\",\"BMI_binned\",\"age_binned\"],axis=1)\n",
    "y = df[[\"cardio\"]]\n",
    "\n",
    "scaler_x = MinMaxScaler(feature_range=(0,1)).fit(x)\n",
    "scaler_y = MinMaxScaler(feature_range=(0,1)).fit(y)\n",
    "x_scaled = pd.DataFrame(scaler_x.transform(x[x.columns]),columns=x.columns)\n",
    "y_scaled = pd.DataFrame(scaler_y.transform(y[y.columns]),columns=y.columns)"
   ]
  },
  {
   "cell_type": "code",
   "execution_count": 349,
   "metadata": {},
   "outputs": [],
   "source": [
    "x_train,x_test,y_train,y_test = train_test_split(x_scaled, y_scaled, test_size=0.2, random_state=RANDOM_SEED)"
   ]
  },
  {
   "cell_type": "code",
   "execution_count": 356,
   "metadata": {},
   "outputs": [],
   "source": [
    "gnb = GaussianNB()\n",
    "params_NB = {}"
   ]
  },
  {
   "cell_type": "code",
   "execution_count": 367,
   "metadata": {},
   "outputs": [],
   "source": [
    "kf = KFold(n_splits=5, shuffle=True, random_state=RANDOM_SEED)\n",
    "\n",
    "grid_search = GridSearchCV(estimator=GaussianNB(),\n",
    "                           param_grid= params_NB,\n",
    "                           cv = kf,\n",
    "                           scoring=\"accuracy\",\n",
    "                           refit=\"True\",\n",
    "                           verbose = 1)"
   ]
  },
  {
   "cell_type": "code",
   "execution_count": 368,
   "metadata": {},
   "outputs": [
    {
     "name": "stdout",
     "output_type": "stream",
     "text": [
      "Fitting 5 folds for each of 100 candidates, totalling 500 fits\n"
     ]
    },
    {
     "data": {
      "text/plain": [
       "GridSearchCV(cv=KFold(n_splits=5, random_state=2022, shuffle=True),\n",
       "             estimator=GaussianNB(),\n",
       "             param_grid={'var_smoothing': array([1.00000000e+00, 8.11130831e-01, 6.57933225e-01, 5.33669923e-01,\n",
       "       4.32876128e-01, 3.51119173e-01, 2.84803587e-01, 2.31012970e-01,\n",
       "       1.87381742e-01, 1.51991108e-01, 1.23284674e-01, 1.00000000e-01,\n",
       "       8.11130831e-02, 6.57933225e-02, 5.33669923e-02, 4....\n",
       "       1.23284674e-07, 1.00000000e-07, 8.11130831e-08, 6.57933225e-08,\n",
       "       5.33669923e-08, 4.32876128e-08, 3.51119173e-08, 2.84803587e-08,\n",
       "       2.31012970e-08, 1.87381742e-08, 1.51991108e-08, 1.23284674e-08,\n",
       "       1.00000000e-08, 8.11130831e-09, 6.57933225e-09, 5.33669923e-09,\n",
       "       4.32876128e-09, 3.51119173e-09, 2.84803587e-09, 2.31012970e-09,\n",
       "       1.87381742e-09, 1.51991108e-09, 1.23284674e-09, 1.00000000e-09])},\n",
       "             refit='True', scoring='accuracy', verbose=1)"
      ]
     },
     "execution_count": 368,
     "metadata": {},
     "output_type": "execute_result"
    }
   ],
   "source": [
    "grid_search.fit(x_train,y_train.values.ravel())"
   ]
  }
 ],
 "metadata": {
  "kernelspec": {
   "display_name": "DAA",
   "language": "python",
   "name": "python3"
  },
  "language_info": {
   "codemirror_mode": {
    "name": "ipython",
    "version": 3
   },
   "file_extension": ".py",
   "mimetype": "text/x-python",
   "name": "python",
   "nbconvert_exporter": "python",
   "pygments_lexer": "ipython3",
   "version": "3.6.13"
  },
  "orig_nbformat": 4,
  "vscode": {
   "interpreter": {
    "hash": "fae1546eefd7cc52763da9b79a1cf0be05b549085ca0e6cfb6c245af77d36ea3"
   }
  }
 },
 "nbformat": 4,
 "nbformat_minor": 2
}
